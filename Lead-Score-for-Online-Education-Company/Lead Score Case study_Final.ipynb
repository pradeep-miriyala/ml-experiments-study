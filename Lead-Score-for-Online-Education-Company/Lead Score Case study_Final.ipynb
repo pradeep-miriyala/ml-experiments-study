{
 "cells": [
  {
   "cell_type": "markdown",
   "metadata": {},
   "source": [
    "# Problem Statement\n",
    "\n",
    "An education company named X Education sells online courses to industry professionals. The company markets its courses on several websites and search engines like Google. Once these people land on the website, they might browse the courses or fill up a form for the course or watch some videos. When these people fill up a form providing their email address or phone number, they are classified to be a lead.Now, although X Education gets a lot of leads, its lead conversion rate is very poor. For example, if, say, they acquire 100 leads in a day, only about 30 of them are converted\n",
    "\n",
    "\n",
    "## Business Goal \n",
    "\n",
    "1. Build a model which will  assign a lead score to each of the leads such that \n",
    "    - The customers with higher lead score have a higher conversion chance and \n",
    "    - The customers with lower lead score have a lower conversion chance\n",
    "2. Help company to select the most promising leads, i.e. the leads that are most likely to convert into paying customers\n",
    "3. Ballpark of the target lead conversion rate to be around 80%.\n",
    "\n",
    "## The steps we will follow in this excercise as follows\n",
    "\n",
    "1. Reading and Understanding Data set\n",
    "2. Data Cleaning <br>\n",
    "    2.1 Handling the \"Select\" option from Categorical features <br>\n",
    "    2.2 Dropping columns with high percentage of missing values<br>\n",
    "    2.3 Categorical features Analysis and Handling the unique categories<br>\n",
    "    2.4 Numerical features Analysis and imputing null values<br>\n",
    "3. Prepare the data for Modelling<br>\n",
    "    3.1 Convert binary categorical column to numeric<br>\n",
    "    3.2 Creation of dummies for categorical columns<br>\n",
    "    3.3 Handling Numerical Columns Outliers<br>\n",
    "    3.4 Perform Train-Test split<br>\n",
    "    3.5 Perform Scaling<br>\n",
    "4. Modelling<br>\n",
    "    4.1 Buliding Logistic Regression Model on all the features<br>\n",
    "    4.2 Buliding Logistic Regression Model using RFE <br>\n",
    "    4.3 Finding the Optimal probability cutoff<br>\n",
    "    4.4 Final Predection on Train data set using Optimal Cutoff<br>\n",
    "    4.5 Model Evaluation on Test data set<br>\n",
    "    4.6 Genearting Lead Score on Test data set\n",
    "5. Final Analysis and Recommendation\n",
    "\n",
    "__Authors__\n",
    "*    S S B Phani Pradeep Miriyala\n",
    "*    Chandra Sekhar Reddy Kandimalla"
   ]
  },
  {
   "cell_type": "code",
   "execution_count": 1,
   "metadata": {},
   "outputs": [],
   "source": [
    "# Import necessary libraries\n",
    "import numpy as np\n",
    "import pandas as pd\n",
    "import matplotlib.pyplot as plt\n",
    "import seaborn as sns"
   ]
  },
  {
   "cell_type": "markdown",
   "metadata": {},
   "source": [
    "## Step 1: Reading and Understanding the Data set"
   ]
  },
  {
   "cell_type": "code",
   "execution_count": 2,
   "metadata": {},
   "outputs": [
    {
     "data": {
      "text/html": [
       "<div>\n",
       "<style scoped>\n",
       "    .dataframe tbody tr th:only-of-type {\n",
       "        vertical-align: middle;\n",
       "    }\n",
       "\n",
       "    .dataframe tbody tr th {\n",
       "        vertical-align: top;\n",
       "    }\n",
       "\n",
       "    .dataframe thead th {\n",
       "        text-align: right;\n",
       "    }\n",
       "</style>\n",
       "<table border=\"1\" class=\"dataframe\">\n",
       "  <thead>\n",
       "    <tr style=\"text-align: right;\">\n",
       "      <th></th>\n",
       "      <th>Prospect ID</th>\n",
       "      <th>Lead Number</th>\n",
       "      <th>Lead Origin</th>\n",
       "      <th>Lead Source</th>\n",
       "      <th>Do Not Email</th>\n",
       "      <th>Do Not Call</th>\n",
       "      <th>Converted</th>\n",
       "      <th>TotalVisits</th>\n",
       "      <th>Total Time Spent on Website</th>\n",
       "      <th>Page Views Per Visit</th>\n",
       "      <th>...</th>\n",
       "      <th>Get updates on DM Content</th>\n",
       "      <th>Lead Profile</th>\n",
       "      <th>City</th>\n",
       "      <th>Asymmetrique Activity Index</th>\n",
       "      <th>Asymmetrique Profile Index</th>\n",
       "      <th>Asymmetrique Activity Score</th>\n",
       "      <th>Asymmetrique Profile Score</th>\n",
       "      <th>I agree to pay the amount through cheque</th>\n",
       "      <th>A free copy of Mastering The Interview</th>\n",
       "      <th>Last Notable Activity</th>\n",
       "    </tr>\n",
       "  </thead>\n",
       "  <tbody>\n",
       "    <tr>\n",
       "      <td>0</td>\n",
       "      <td>7927b2df-8bba-4d29-b9a2-b6e0beafe620</td>\n",
       "      <td>660737</td>\n",
       "      <td>API</td>\n",
       "      <td>Olark Chat</td>\n",
       "      <td>No</td>\n",
       "      <td>No</td>\n",
       "      <td>0</td>\n",
       "      <td>0.0</td>\n",
       "      <td>0</td>\n",
       "      <td>0.0</td>\n",
       "      <td>...</td>\n",
       "      <td>No</td>\n",
       "      <td>Select</td>\n",
       "      <td>Select</td>\n",
       "      <td>02.Medium</td>\n",
       "      <td>02.Medium</td>\n",
       "      <td>15.0</td>\n",
       "      <td>15.0</td>\n",
       "      <td>No</td>\n",
       "      <td>No</td>\n",
       "      <td>Modified</td>\n",
       "    </tr>\n",
       "    <tr>\n",
       "      <td>1</td>\n",
       "      <td>2a272436-5132-4136-86fa-dcc88c88f482</td>\n",
       "      <td>660728</td>\n",
       "      <td>API</td>\n",
       "      <td>Organic Search</td>\n",
       "      <td>No</td>\n",
       "      <td>No</td>\n",
       "      <td>0</td>\n",
       "      <td>5.0</td>\n",
       "      <td>674</td>\n",
       "      <td>2.5</td>\n",
       "      <td>...</td>\n",
       "      <td>No</td>\n",
       "      <td>Select</td>\n",
       "      <td>Select</td>\n",
       "      <td>02.Medium</td>\n",
       "      <td>02.Medium</td>\n",
       "      <td>15.0</td>\n",
       "      <td>15.0</td>\n",
       "      <td>No</td>\n",
       "      <td>No</td>\n",
       "      <td>Email Opened</td>\n",
       "    </tr>\n",
       "    <tr>\n",
       "      <td>2</td>\n",
       "      <td>8cc8c611-a219-4f35-ad23-fdfd2656bd8a</td>\n",
       "      <td>660727</td>\n",
       "      <td>Landing Page Submission</td>\n",
       "      <td>Direct Traffic</td>\n",
       "      <td>No</td>\n",
       "      <td>No</td>\n",
       "      <td>1</td>\n",
       "      <td>2.0</td>\n",
       "      <td>1532</td>\n",
       "      <td>2.0</td>\n",
       "      <td>...</td>\n",
       "      <td>No</td>\n",
       "      <td>Potential Lead</td>\n",
       "      <td>Mumbai</td>\n",
       "      <td>02.Medium</td>\n",
       "      <td>01.High</td>\n",
       "      <td>14.0</td>\n",
       "      <td>20.0</td>\n",
       "      <td>No</td>\n",
       "      <td>Yes</td>\n",
       "      <td>Email Opened</td>\n",
       "    </tr>\n",
       "    <tr>\n",
       "      <td>3</td>\n",
       "      <td>0cc2df48-7cf4-4e39-9de9-19797f9b38cc</td>\n",
       "      <td>660719</td>\n",
       "      <td>Landing Page Submission</td>\n",
       "      <td>Direct Traffic</td>\n",
       "      <td>No</td>\n",
       "      <td>No</td>\n",
       "      <td>0</td>\n",
       "      <td>1.0</td>\n",
       "      <td>305</td>\n",
       "      <td>1.0</td>\n",
       "      <td>...</td>\n",
       "      <td>No</td>\n",
       "      <td>Select</td>\n",
       "      <td>Mumbai</td>\n",
       "      <td>02.Medium</td>\n",
       "      <td>01.High</td>\n",
       "      <td>13.0</td>\n",
       "      <td>17.0</td>\n",
       "      <td>No</td>\n",
       "      <td>No</td>\n",
       "      <td>Modified</td>\n",
       "    </tr>\n",
       "    <tr>\n",
       "      <td>4</td>\n",
       "      <td>3256f628-e534-4826-9d63-4a8b88782852</td>\n",
       "      <td>660681</td>\n",
       "      <td>Landing Page Submission</td>\n",
       "      <td>Google</td>\n",
       "      <td>No</td>\n",
       "      <td>No</td>\n",
       "      <td>1</td>\n",
       "      <td>2.0</td>\n",
       "      <td>1428</td>\n",
       "      <td>1.0</td>\n",
       "      <td>...</td>\n",
       "      <td>No</td>\n",
       "      <td>Select</td>\n",
       "      <td>Mumbai</td>\n",
       "      <td>02.Medium</td>\n",
       "      <td>01.High</td>\n",
       "      <td>15.0</td>\n",
       "      <td>18.0</td>\n",
       "      <td>No</td>\n",
       "      <td>No</td>\n",
       "      <td>Modified</td>\n",
       "    </tr>\n",
       "  </tbody>\n",
       "</table>\n",
       "<p>5 rows × 37 columns</p>\n",
       "</div>"
      ],
      "text/plain": [
       "                            Prospect ID  Lead Number              Lead Origin  \\\n",
       "0  7927b2df-8bba-4d29-b9a2-b6e0beafe620       660737                      API   \n",
       "1  2a272436-5132-4136-86fa-dcc88c88f482       660728                      API   \n",
       "2  8cc8c611-a219-4f35-ad23-fdfd2656bd8a       660727  Landing Page Submission   \n",
       "3  0cc2df48-7cf4-4e39-9de9-19797f9b38cc       660719  Landing Page Submission   \n",
       "4  3256f628-e534-4826-9d63-4a8b88782852       660681  Landing Page Submission   \n",
       "\n",
       "      Lead Source Do Not Email Do Not Call  Converted  TotalVisits  \\\n",
       "0      Olark Chat           No          No          0          0.0   \n",
       "1  Organic Search           No          No          0          5.0   \n",
       "2  Direct Traffic           No          No          1          2.0   \n",
       "3  Direct Traffic           No          No          0          1.0   \n",
       "4          Google           No          No          1          2.0   \n",
       "\n",
       "   Total Time Spent on Website  Page Views Per Visit  ...  \\\n",
       "0                            0                   0.0  ...   \n",
       "1                          674                   2.5  ...   \n",
       "2                         1532                   2.0  ...   \n",
       "3                          305                   1.0  ...   \n",
       "4                         1428                   1.0  ...   \n",
       "\n",
       "  Get updates on DM Content    Lead Profile    City  \\\n",
       "0                        No          Select  Select   \n",
       "1                        No          Select  Select   \n",
       "2                        No  Potential Lead  Mumbai   \n",
       "3                        No          Select  Mumbai   \n",
       "4                        No          Select  Mumbai   \n",
       "\n",
       "  Asymmetrique Activity Index Asymmetrique Profile Index  \\\n",
       "0                   02.Medium                  02.Medium   \n",
       "1                   02.Medium                  02.Medium   \n",
       "2                   02.Medium                    01.High   \n",
       "3                   02.Medium                    01.High   \n",
       "4                   02.Medium                    01.High   \n",
       "\n",
       "  Asymmetrique Activity Score Asymmetrique Profile Score  \\\n",
       "0                        15.0                       15.0   \n",
       "1                        15.0                       15.0   \n",
       "2                        14.0                       20.0   \n",
       "3                        13.0                       17.0   \n",
       "4                        15.0                       18.0   \n",
       "\n",
       "  I agree to pay the amount through cheque  \\\n",
       "0                                       No   \n",
       "1                                       No   \n",
       "2                                       No   \n",
       "3                                       No   \n",
       "4                                       No   \n",
       "\n",
       "  A free copy of Mastering The Interview Last Notable Activity  \n",
       "0                                     No              Modified  \n",
       "1                                     No          Email Opened  \n",
       "2                                    Yes          Email Opened  \n",
       "3                                     No              Modified  \n",
       "4                                     No              Modified  \n",
       "\n",
       "[5 rows x 37 columns]"
      ]
     },
     "execution_count": 2,
     "metadata": {},
     "output_type": "execute_result"
    }
   ],
   "source": [
    "# Reading the data and checking the data set\n",
    "data = pd.read_csv(\"Leads.csv\")\n",
    "data.head()"
   ]
  },
  {
   "cell_type": "code",
   "execution_count": 3,
   "metadata": {},
   "outputs": [
    {
     "data": {
      "text/plain": [
       "(9240, 37)"
      ]
     },
     "execution_count": 3,
     "metadata": {},
     "output_type": "execute_result"
    }
   ],
   "source": [
    "#Inspecting the shape of the data set\n",
    "data.shape"
   ]
  },
  {
   "cell_type": "code",
   "execution_count": 4,
   "metadata": {},
   "outputs": [
    {
     "name": "stdout",
     "output_type": "stream",
     "text": [
      "<class 'pandas.core.frame.DataFrame'>\n",
      "RangeIndex: 9240 entries, 0 to 9239\n",
      "Data columns (total 37 columns):\n",
      "Prospect ID                                      9240 non-null object\n",
      "Lead Number                                      9240 non-null int64\n",
      "Lead Origin                                      9240 non-null object\n",
      "Lead Source                                      9204 non-null object\n",
      "Do Not Email                                     9240 non-null object\n",
      "Do Not Call                                      9240 non-null object\n",
      "Converted                                        9240 non-null int64\n",
      "TotalVisits                                      9103 non-null float64\n",
      "Total Time Spent on Website                      9240 non-null int64\n",
      "Page Views Per Visit                             9103 non-null float64\n",
      "Last Activity                                    9137 non-null object\n",
      "Country                                          6779 non-null object\n",
      "Specialization                                   7802 non-null object\n",
      "How did you hear about X Education               7033 non-null object\n",
      "What is your current occupation                  6550 non-null object\n",
      "What matters most to you in choosing a course    6531 non-null object\n",
      "Search                                           9240 non-null object\n",
      "Magazine                                         9240 non-null object\n",
      "Newspaper Article                                9240 non-null object\n",
      "X Education Forums                               9240 non-null object\n",
      "Newspaper                                        9240 non-null object\n",
      "Digital Advertisement                            9240 non-null object\n",
      "Through Recommendations                          9240 non-null object\n",
      "Receive More Updates About Our Courses           9240 non-null object\n",
      "Tags                                             5887 non-null object\n",
      "Lead Quality                                     4473 non-null object\n",
      "Update me on Supply Chain Content                9240 non-null object\n",
      "Get updates on DM Content                        9240 non-null object\n",
      "Lead Profile                                     6531 non-null object\n",
      "City                                             7820 non-null object\n",
      "Asymmetrique Activity Index                      5022 non-null object\n",
      "Asymmetrique Profile Index                       5022 non-null object\n",
      "Asymmetrique Activity Score                      5022 non-null float64\n",
      "Asymmetrique Profile Score                       5022 non-null float64\n",
      "I agree to pay the amount through cheque         9240 non-null object\n",
      "A free copy of Mastering The Interview           9240 non-null object\n",
      "Last Notable Activity                            9240 non-null object\n",
      "dtypes: float64(4), int64(3), object(30)\n",
      "memory usage: 2.6+ MB\n"
     ]
    }
   ],
   "source": [
    "# Inspect data for null values\n",
    "data.info()"
   ]
  },
  {
   "cell_type": "code",
   "execution_count": 5,
   "metadata": {},
   "outputs": [
    {
     "data": {
      "text/html": [
       "<div>\n",
       "<style scoped>\n",
       "    .dataframe tbody tr th:only-of-type {\n",
       "        vertical-align: middle;\n",
       "    }\n",
       "\n",
       "    .dataframe tbody tr th {\n",
       "        vertical-align: top;\n",
       "    }\n",
       "\n",
       "    .dataframe thead th {\n",
       "        text-align: right;\n",
       "    }\n",
       "</style>\n",
       "<table border=\"1\" class=\"dataframe\">\n",
       "  <thead>\n",
       "    <tr style=\"text-align: right;\">\n",
       "      <th></th>\n",
       "      <th>Lead Number</th>\n",
       "      <th>Converted</th>\n",
       "      <th>TotalVisits</th>\n",
       "      <th>Total Time Spent on Website</th>\n",
       "      <th>Page Views Per Visit</th>\n",
       "      <th>Asymmetrique Activity Score</th>\n",
       "      <th>Asymmetrique Profile Score</th>\n",
       "    </tr>\n",
       "  </thead>\n",
       "  <tbody>\n",
       "    <tr>\n",
       "      <td>count</td>\n",
       "      <td>9240.000000</td>\n",
       "      <td>9240.000000</td>\n",
       "      <td>9103.000000</td>\n",
       "      <td>9240.000000</td>\n",
       "      <td>9103.000000</td>\n",
       "      <td>5022.000000</td>\n",
       "      <td>5022.000000</td>\n",
       "    </tr>\n",
       "    <tr>\n",
       "      <td>mean</td>\n",
       "      <td>617188.435606</td>\n",
       "      <td>0.385390</td>\n",
       "      <td>3.445238</td>\n",
       "      <td>487.698268</td>\n",
       "      <td>2.362820</td>\n",
       "      <td>14.306252</td>\n",
       "      <td>16.344883</td>\n",
       "    </tr>\n",
       "    <tr>\n",
       "      <td>std</td>\n",
       "      <td>23405.995698</td>\n",
       "      <td>0.486714</td>\n",
       "      <td>4.854853</td>\n",
       "      <td>548.021466</td>\n",
       "      <td>2.161418</td>\n",
       "      <td>1.386694</td>\n",
       "      <td>1.811395</td>\n",
       "    </tr>\n",
       "    <tr>\n",
       "      <td>min</td>\n",
       "      <td>579533.000000</td>\n",
       "      <td>0.000000</td>\n",
       "      <td>0.000000</td>\n",
       "      <td>0.000000</td>\n",
       "      <td>0.000000</td>\n",
       "      <td>7.000000</td>\n",
       "      <td>11.000000</td>\n",
       "    </tr>\n",
       "    <tr>\n",
       "      <td>25%</td>\n",
       "      <td>596484.500000</td>\n",
       "      <td>0.000000</td>\n",
       "      <td>1.000000</td>\n",
       "      <td>12.000000</td>\n",
       "      <td>1.000000</td>\n",
       "      <td>14.000000</td>\n",
       "      <td>15.000000</td>\n",
       "    </tr>\n",
       "    <tr>\n",
       "      <td>50%</td>\n",
       "      <td>615479.000000</td>\n",
       "      <td>0.000000</td>\n",
       "      <td>3.000000</td>\n",
       "      <td>248.000000</td>\n",
       "      <td>2.000000</td>\n",
       "      <td>14.000000</td>\n",
       "      <td>16.000000</td>\n",
       "    </tr>\n",
       "    <tr>\n",
       "      <td>75%</td>\n",
       "      <td>637387.250000</td>\n",
       "      <td>1.000000</td>\n",
       "      <td>5.000000</td>\n",
       "      <td>936.000000</td>\n",
       "      <td>3.000000</td>\n",
       "      <td>15.000000</td>\n",
       "      <td>18.000000</td>\n",
       "    </tr>\n",
       "    <tr>\n",
       "      <td>max</td>\n",
       "      <td>660737.000000</td>\n",
       "      <td>1.000000</td>\n",
       "      <td>251.000000</td>\n",
       "      <td>2272.000000</td>\n",
       "      <td>55.000000</td>\n",
       "      <td>18.000000</td>\n",
       "      <td>20.000000</td>\n",
       "    </tr>\n",
       "  </tbody>\n",
       "</table>\n",
       "</div>"
      ],
      "text/plain": [
       "         Lead Number    Converted  TotalVisits  Total Time Spent on Website  \\\n",
       "count    9240.000000  9240.000000  9103.000000                  9240.000000   \n",
       "mean   617188.435606     0.385390     3.445238                   487.698268   \n",
       "std     23405.995698     0.486714     4.854853                   548.021466   \n",
       "min    579533.000000     0.000000     0.000000                     0.000000   \n",
       "25%    596484.500000     0.000000     1.000000                    12.000000   \n",
       "50%    615479.000000     0.000000     3.000000                   248.000000   \n",
       "75%    637387.250000     1.000000     5.000000                   936.000000   \n",
       "max    660737.000000     1.000000   251.000000                  2272.000000   \n",
       "\n",
       "       Page Views Per Visit  Asymmetrique Activity Score  \\\n",
       "count           9103.000000                  5022.000000   \n",
       "mean               2.362820                    14.306252   \n",
       "std                2.161418                     1.386694   \n",
       "min                0.000000                     7.000000   \n",
       "25%                1.000000                    14.000000   \n",
       "50%                2.000000                    14.000000   \n",
       "75%                3.000000                    15.000000   \n",
       "max               55.000000                    18.000000   \n",
       "\n",
       "       Asymmetrique Profile Score  \n",
       "count                 5022.000000  \n",
       "mean                    16.344883  \n",
       "std                      1.811395  \n",
       "min                     11.000000  \n",
       "25%                     15.000000  \n",
       "50%                     16.000000  \n",
       "75%                     18.000000  \n",
       "max                     20.000000  "
      ]
     },
     "execution_count": 5,
     "metadata": {},
     "output_type": "execute_result"
    }
   ],
   "source": [
    "#describing the data set\n",
    "data.describe()"
   ]
  },
  {
   "cell_type": "markdown",
   "metadata": {},
   "source": [
    "##### We can notice that there are \n",
    "1. 7 Continous features\n",
    "2. 30 Categorical features"
   ]
  },
  {
   "cell_type": "code",
   "execution_count": 6,
   "metadata": {},
   "outputs": [
    {
     "data": {
      "text/html": [
       "<div>\n",
       "<style scoped>\n",
       "    .dataframe tbody tr th:only-of-type {\n",
       "        vertical-align: middle;\n",
       "    }\n",
       "\n",
       "    .dataframe tbody tr th {\n",
       "        vertical-align: top;\n",
       "    }\n",
       "\n",
       "    .dataframe thead th {\n",
       "        text-align: right;\n",
       "    }\n",
       "</style>\n",
       "<table border=\"1\" class=\"dataframe\">\n",
       "  <thead>\n",
       "    <tr style=\"text-align: right;\">\n",
       "      <th></th>\n",
       "      <th>Prospect ID</th>\n",
       "      <th>Lead Number</th>\n",
       "      <th>Lead Origin</th>\n",
       "      <th>Lead Source</th>\n",
       "      <th>Do Not Email</th>\n",
       "      <th>Do Not Call</th>\n",
       "      <th>TotalVisits</th>\n",
       "      <th>Total Time Spent on Website</th>\n",
       "      <th>Page Views Per Visit</th>\n",
       "      <th>Last Activity</th>\n",
       "      <th>...</th>\n",
       "      <th>Get updates on DM Content</th>\n",
       "      <th>Lead Profile</th>\n",
       "      <th>City</th>\n",
       "      <th>Asymmetrique Activity Index</th>\n",
       "      <th>Asymmetrique Profile Index</th>\n",
       "      <th>Asymmetrique Activity Score</th>\n",
       "      <th>Asymmetrique Profile Score</th>\n",
       "      <th>I agree to pay the amount through cheque</th>\n",
       "      <th>A free copy of Mastering The Interview</th>\n",
       "      <th>Last Notable Activity</th>\n",
       "    </tr>\n",
       "    <tr>\n",
       "      <th>Converted</th>\n",
       "      <th></th>\n",
       "      <th></th>\n",
       "      <th></th>\n",
       "      <th></th>\n",
       "      <th></th>\n",
       "      <th></th>\n",
       "      <th></th>\n",
       "      <th></th>\n",
       "      <th></th>\n",
       "      <th></th>\n",
       "      <th></th>\n",
       "      <th></th>\n",
       "      <th></th>\n",
       "      <th></th>\n",
       "      <th></th>\n",
       "      <th></th>\n",
       "      <th></th>\n",
       "      <th></th>\n",
       "      <th></th>\n",
       "      <th></th>\n",
       "      <th></th>\n",
       "    </tr>\n",
       "  </thead>\n",
       "  <tbody>\n",
       "    <tr>\n",
       "      <td>0</td>\n",
       "      <td>5679</td>\n",
       "      <td>5679</td>\n",
       "      <td>5679</td>\n",
       "      <td>5672</td>\n",
       "      <td>5679</td>\n",
       "      <td>5679</td>\n",
       "      <td>5642</td>\n",
       "      <td>5679</td>\n",
       "      <td>5642</td>\n",
       "      <td>5657</td>\n",
       "      <td>...</td>\n",
       "      <td>5679</td>\n",
       "      <td>3340</td>\n",
       "      <td>4413</td>\n",
       "      <td>3114</td>\n",
       "      <td>3114</td>\n",
       "      <td>3114</td>\n",
       "      <td>3114</td>\n",
       "      <td>5679</td>\n",
       "      <td>5679</td>\n",
       "      <td>5679</td>\n",
       "    </tr>\n",
       "    <tr>\n",
       "      <td>1</td>\n",
       "      <td>3561</td>\n",
       "      <td>3561</td>\n",
       "      <td>3561</td>\n",
       "      <td>3532</td>\n",
       "      <td>3561</td>\n",
       "      <td>3561</td>\n",
       "      <td>3461</td>\n",
       "      <td>3561</td>\n",
       "      <td>3461</td>\n",
       "      <td>3480</td>\n",
       "      <td>...</td>\n",
       "      <td>3561</td>\n",
       "      <td>3191</td>\n",
       "      <td>3407</td>\n",
       "      <td>1908</td>\n",
       "      <td>1908</td>\n",
       "      <td>1908</td>\n",
       "      <td>1908</td>\n",
       "      <td>3561</td>\n",
       "      <td>3561</td>\n",
       "      <td>3561</td>\n",
       "    </tr>\n",
       "  </tbody>\n",
       "</table>\n",
       "<p>2 rows × 36 columns</p>\n",
       "</div>"
      ],
      "text/plain": [
       "           Prospect ID  Lead Number  Lead Origin  Lead Source  Do Not Email  \\\n",
       "Converted                                                                     \n",
       "0                 5679         5679         5679         5672          5679   \n",
       "1                 3561         3561         3561         3532          3561   \n",
       "\n",
       "           Do Not Call  TotalVisits  Total Time Spent on Website  \\\n",
       "Converted                                                          \n",
       "0                 5679         5642                         5679   \n",
       "1                 3561         3461                         3561   \n",
       "\n",
       "           Page Views Per Visit  Last Activity  ...  \\\n",
       "Converted                                       ...   \n",
       "0                          5642           5657  ...   \n",
       "1                          3461           3480  ...   \n",
       "\n",
       "           Get updates on DM Content  Lead Profile  City  \\\n",
       "Converted                                                  \n",
       "0                               5679          3340  4413   \n",
       "1                               3561          3191  3407   \n",
       "\n",
       "           Asymmetrique Activity Index  Asymmetrique Profile Index  \\\n",
       "Converted                                                            \n",
       "0                                 3114                        3114   \n",
       "1                                 1908                        1908   \n",
       "\n",
       "           Asymmetrique Activity Score  Asymmetrique Profile Score  \\\n",
       "Converted                                                            \n",
       "0                                 3114                        3114   \n",
       "1                                 1908                        1908   \n",
       "\n",
       "           I agree to pay the amount through cheque  \\\n",
       "Converted                                             \n",
       "0                                              5679   \n",
       "1                                              3561   \n",
       "\n",
       "           A free copy of Mastering The Interview  Last Notable Activity  \n",
       "Converted                                                                 \n",
       "0                                            5679                   5679  \n",
       "1                                            3561                   3561  \n",
       "\n",
       "[2 rows x 36 columns]"
      ]
     },
     "execution_count": 6,
     "metadata": {},
     "output_type": "execute_result"
    }
   ],
   "source": [
    "# Checking the Conversion Rate in original Data set\n",
    "data.groupby('Converted').count()"
   ]
  },
  {
   "cell_type": "markdown",
   "metadata": {},
   "source": [
    "#### We can see that there is 38.5% conversion rate in the original data set\n",
    "\n",
    "1. Non Converted (0) : <b>5679</b>\n",
    "2. Converted (1) : <b>3561</b>\n",
    "\n",
    "\n",
    "__Conversion % : (3525/9240)  = 38.5%__"
   ]
  },
  {
   "cell_type": "markdown",
   "metadata": {},
   "source": [
    "## Step 2: Data Cleaning"
   ]
  },
  {
   "cell_type": "markdown",
   "metadata": {},
   "source": [
    "### 2.1 Handling the \"Select\" option from Categorical features"
   ]
  },
  {
   "cell_type": "code",
   "execution_count": 7,
   "metadata": {},
   "outputs": [
    {
     "data": {
      "text/plain": [
       "Prospect ID                                      9240\n",
       "Lead Number                                      9240\n",
       "Lead Origin                                         5\n",
       "Lead Source                                        21\n",
       "Do Not Email                                        2\n",
       "Do Not Call                                         2\n",
       "Converted                                           2\n",
       "TotalVisits                                        41\n",
       "Total Time Spent on Website                      1731\n",
       "Page Views Per Visit                              114\n",
       "Last Activity                                      17\n",
       "Country                                            38\n",
       "Specialization                                     19\n",
       "How did you hear about X Education                 10\n",
       "What is your current occupation                     6\n",
       "What matters most to you in choosing a course       3\n",
       "Search                                              2\n",
       "Magazine                                            1\n",
       "Newspaper Article                                   2\n",
       "X Education Forums                                  2\n",
       "Newspaper                                           2\n",
       "Digital Advertisement                               2\n",
       "Through Recommendations                             2\n",
       "Receive More Updates About Our Courses              1\n",
       "Tags                                               26\n",
       "Lead Quality                                        5\n",
       "Update me on Supply Chain Content                   1\n",
       "Get updates on DM Content                           1\n",
       "Lead Profile                                        6\n",
       "City                                                7\n",
       "Asymmetrique Activity Index                         3\n",
       "Asymmetrique Profile Index                          3\n",
       "Asymmetrique Activity Score                        12\n",
       "Asymmetrique Profile Score                         10\n",
       "I agree to pay the amount through cheque            1\n",
       "A free copy of Mastering The Interview              2\n",
       "Last Notable Activity                              16\n",
       "dtype: int64"
      ]
     },
     "execution_count": 7,
     "metadata": {},
     "output_type": "execute_result"
    }
   ],
   "source": [
    "#Lets check the categorical columns\n",
    "data.nunique()"
   ]
  },
  {
   "cell_type": "code",
   "execution_count": 8,
   "metadata": {},
   "outputs": [
    {
     "name": "stdout",
     "output_type": "stream",
     "text": [
      "List of columns with entry \"Select\" : \n",
      "['Specialization', 'How did you hear about X Education', 'Lead Profile', 'City']\n"
     ]
    }
   ],
   "source": [
    "# Inspecting Categorical columns which has default option as Select\n",
    "categorical_columns=['Lead Origin','Lead Source','Last Activity','Country',\n",
    "                     'Specialization','How did you hear about X Education',\n",
    "                     'What is your current occupation','What matters most to you in choosing a course',\n",
    "                     'Tags','Lead Quality','Lead Profile','City','Last Notable Activity']                                                                                 \n",
    "Options_Select=[]\n",
    "for item in categorical_columns:\n",
    "    temp=data[item].unique()\n",
    "    if temp[0]== 'Select':\n",
    "        Options_Select.append(item)\n",
    "print('List of columns with entry \"Select\" : ')\n",
    "print(Options_Select)"
   ]
  },
  {
   "cell_type": "markdown",
   "metadata": {},
   "source": [
    "#### We can notice that the below are the categorical columns which are having the default option as \"Select\"\n",
    "1. Specialization\n",
    "2. How did you hear about X Education\n",
    "3. Lead Profile\n",
    "4. City\n",
    "\n",
    "Lets check the count of the Select options  from the above features"
   ]
  },
  {
   "cell_type": "code",
   "execution_count": 9,
   "metadata": {},
   "outputs": [
    {
     "data": {
      "text/plain": [
       "Select                   5043\n",
       "NaN                      2207\n",
       "Online Search             808\n",
       "Word Of Mouth             348\n",
       "Student of SomeSchool     310\n",
       "Other                     186\n",
       "Multiple Sources          152\n",
       "Advertisements             70\n",
       "Social Media               67\n",
       "Email                      26\n",
       "SMS                        23\n",
       "Name: How did you hear about X Education, dtype: int64"
      ]
     },
     "execution_count": 9,
     "metadata": {},
     "output_type": "execute_result"
    }
   ],
   "source": [
    "# Inspecting the # of records with Select as a value in \" How did you hear about X Education\" feature\n",
    "data['How did you hear about X Education'].value_counts(dropna=False)"
   ]
  },
  {
   "cell_type": "code",
   "execution_count": 10,
   "metadata": {},
   "outputs": [
    {
     "data": {
      "text/plain": [
       "Select                         4146\n",
       "NaN                            2709\n",
       "Potential Lead                 1613\n",
       "Other Leads                     487\n",
       "Student of SomeSchool           241\n",
       "Lateral Student                  24\n",
       "Dual Specialization Student      20\n",
       "Name: Lead Profile, dtype: int64"
      ]
     },
     "execution_count": 10,
     "metadata": {},
     "output_type": "execute_result"
    }
   ],
   "source": [
    "# Inspecting the # of records with Select as a value in \" Lead Profile\" feature\n",
    "data['Lead Profile'].value_counts(dropna=False)"
   ]
  },
  {
   "cell_type": "code",
   "execution_count": 11,
   "metadata": {},
   "outputs": [
    {
     "data": {
      "text/plain": [
       "Select                               1942\n",
       "NaN                                  1438\n",
       "Finance Management                    976\n",
       "Human Resource Management             848\n",
       "Marketing Management                  838\n",
       "Operations Management                 503\n",
       "Business Administration               403\n",
       "IT Projects Management                366\n",
       "Supply Chain Management               349\n",
       "Banking, Investment And Insurance     338\n",
       "Media and Advertising                 203\n",
       "Travel and Tourism                    203\n",
       "International Business                178\n",
       "Healthcare Management                 159\n",
       "Hospitality Management                114\n",
       "E-COMMERCE                            112\n",
       "Retail Management                     100\n",
       "Rural and Agribusiness                 73\n",
       "E-Business                             57\n",
       "Services Excellence                    40\n",
       "Name: Specialization, dtype: int64"
      ]
     },
     "execution_count": 11,
     "metadata": {},
     "output_type": "execute_result"
    }
   ],
   "source": [
    "# Inspecting the # of records with Select as a value in \" Specialization\" feature\n",
    "data['Specialization'].value_counts(dropna=False)"
   ]
  },
  {
   "cell_type": "code",
   "execution_count": 12,
   "metadata": {},
   "outputs": [
    {
     "data": {
      "text/plain": [
       "Mumbai                         3222\n",
       "Select                         2249\n",
       "NaN                            1420\n",
       "Thane & Outskirts               752\n",
       "Other Cities                    686\n",
       "Other Cities of Maharashtra     457\n",
       "Other Metro Cities              380\n",
       "Tier II Cities                   74\n",
       "Name: City, dtype: int64"
      ]
     },
     "execution_count": 12,
     "metadata": {},
     "output_type": "execute_result"
    }
   ],
   "source": [
    "# Inspecting the # of records with Select as a value in \" City\" feature\n",
    "data['City'].value_counts(dropna=False)"
   ]
  },
  {
   "cell_type": "markdown",
   "metadata": {},
   "source": [
    "We can observe that many records are having Select as an option in the above features.\n",
    "\n",
    "We can Consider these as NaN, as Select as no meaning for these records"
   ]
  },
  {
   "cell_type": "code",
   "execution_count": 13,
   "metadata": {},
   "outputs": [],
   "source": [
    "# Replace the values \"Select\" with nan as the value of \"Select\" has no meaning.\n",
    "data.loc[data['How did you hear about X Education']=='Select','How did you hear about X Education']=np.nan\n",
    "data.loc[data['Lead Profile']=='Select','Lead Profile']=np.nan\n",
    "data.loc[data['Specialization']=='Select','Specialization']=np.nan\n",
    "data.loc[data['City']=='Select','City']=np.nan"
   ]
  },
  {
   "cell_type": "markdown",
   "metadata": {},
   "source": [
    "### 2.2 Dropping columns with high percentage of missing values"
   ]
  },
  {
   "cell_type": "code",
   "execution_count": 14,
   "metadata": {
    "scrolled": true
   },
   "outputs": [
    {
     "data": {
      "text/plain": [
       "Prospect ID                                         0\n",
       "Lead Number                                         0\n",
       "Lead Origin                                         0\n",
       "Lead Source                                        36\n",
       "Do Not Email                                        0\n",
       "Do Not Call                                         0\n",
       "Converted                                           0\n",
       "TotalVisits                                       137\n",
       "Total Time Spent on Website                         0\n",
       "Page Views Per Visit                              137\n",
       "Last Activity                                     103\n",
       "Country                                          2461\n",
       "Specialization                                   3380\n",
       "How did you hear about X Education               7250\n",
       "What is your current occupation                  2690\n",
       "What matters most to you in choosing a course    2709\n",
       "Search                                              0\n",
       "Magazine                                            0\n",
       "Newspaper Article                                   0\n",
       "X Education Forums                                  0\n",
       "Newspaper                                           0\n",
       "Digital Advertisement                               0\n",
       "Through Recommendations                             0\n",
       "Receive More Updates About Our Courses              0\n",
       "Tags                                             3353\n",
       "Lead Quality                                     4767\n",
       "Update me on Supply Chain Content                   0\n",
       "Get updates on DM Content                           0\n",
       "Lead Profile                                     6855\n",
       "City                                             3669\n",
       "Asymmetrique Activity Index                      4218\n",
       "Asymmetrique Profile Index                       4218\n",
       "Asymmetrique Activity Score                      4218\n",
       "Asymmetrique Profile Score                       4218\n",
       "I agree to pay the amount through cheque            0\n",
       "A free copy of Mastering The Interview              0\n",
       "Last Notable Activity                               0\n",
       "dtype: int64"
      ]
     },
     "execution_count": 14,
     "metadata": {},
     "output_type": "execute_result"
    }
   ],
   "source": [
    "# Check the null count\n",
    "data.isnull().sum()"
   ]
  },
  {
   "cell_type": "code",
   "execution_count": 15,
   "metadata": {},
   "outputs": [
    {
     "data": {
      "text/plain": [
       "Prospect ID                                       0.00\n",
       "Lead Number                                       0.00\n",
       "Lead Origin                                       0.00\n",
       "Lead Source                                       0.39\n",
       "Do Not Email                                      0.00\n",
       "Do Not Call                                       0.00\n",
       "Converted                                         0.00\n",
       "TotalVisits                                       1.48\n",
       "Total Time Spent on Website                       0.00\n",
       "Page Views Per Visit                              1.48\n",
       "Last Activity                                     1.11\n",
       "Country                                          26.63\n",
       "Specialization                                   36.58\n",
       "How did you hear about X Education               78.46\n",
       "What is your current occupation                  29.11\n",
       "What matters most to you in choosing a course    29.32\n",
       "Search                                            0.00\n",
       "Magazine                                          0.00\n",
       "Newspaper Article                                 0.00\n",
       "X Education Forums                                0.00\n",
       "Newspaper                                         0.00\n",
       "Digital Advertisement                             0.00\n",
       "Through Recommendations                           0.00\n",
       "Receive More Updates About Our Courses            0.00\n",
       "Tags                                             36.29\n",
       "Lead Quality                                     51.59\n",
       "Update me on Supply Chain Content                 0.00\n",
       "Get updates on DM Content                         0.00\n",
       "Lead Profile                                     74.19\n",
       "City                                             39.71\n",
       "Asymmetrique Activity Index                      45.65\n",
       "Asymmetrique Profile Index                       45.65\n",
       "Asymmetrique Activity Score                      45.65\n",
       "Asymmetrique Profile Score                       45.65\n",
       "I agree to pay the amount through cheque          0.00\n",
       "A free copy of Mastering The Interview            0.00\n",
       "Last Notable Activity                             0.00\n",
       "dtype: float64"
      ]
     },
     "execution_count": 15,
     "metadata": {},
     "output_type": "execute_result"
    }
   ],
   "source": [
    "# lets check the null percentage\n",
    "round(100*(data.isnull().sum()/len(data.index)), 2)"
   ]
  },
  {
   "cell_type": "code",
   "execution_count": 16,
   "metadata": {},
   "outputs": [
    {
     "data": {
      "text/plain": [
       "Index(['How did you hear about X Education', 'Lead Quality', 'Lead Profile',\n",
       "       'Asymmetrique Activity Index', 'Asymmetrique Profile Index',\n",
       "       'Asymmetrique Activity Score', 'Asymmetrique Profile Score'],\n",
       "      dtype='object')"
      ]
     },
     "execution_count": 16,
     "metadata": {},
     "output_type": "execute_result"
    }
   ],
   "source": [
    "# There are several missing values in multiple columns.\n",
    "# Get columns whose missing values are too high. \n",
    "# These columns where missing values are above 40% won't be of use for analysis.\n",
    "na_cols = data.columns[100*data.isnull().sum()/data.shape[0]>40]\n",
    "na_cols"
   ]
  },
  {
   "cell_type": "code",
   "execution_count": 17,
   "metadata": {},
   "outputs": [],
   "source": [
    "# Lets Drop the columns which are having >40% of null values\n",
    "data.drop(na_cols,axis=1,inplace=True)"
   ]
  },
  {
   "cell_type": "code",
   "execution_count": 18,
   "metadata": {},
   "outputs": [
    {
     "data": {
      "text/plain": [
       "Prospect ID                                       0.00\n",
       "Lead Number                                       0.00\n",
       "Lead Origin                                       0.00\n",
       "Lead Source                                       0.39\n",
       "Do Not Email                                      0.00\n",
       "Do Not Call                                       0.00\n",
       "Converted                                         0.00\n",
       "TotalVisits                                       1.48\n",
       "Total Time Spent on Website                       0.00\n",
       "Page Views Per Visit                              1.48\n",
       "Last Activity                                     1.11\n",
       "Country                                          26.63\n",
       "Specialization                                   36.58\n",
       "What is your current occupation                  29.11\n",
       "What matters most to you in choosing a course    29.32\n",
       "Search                                            0.00\n",
       "Magazine                                          0.00\n",
       "Newspaper Article                                 0.00\n",
       "X Education Forums                                0.00\n",
       "Newspaper                                         0.00\n",
       "Digital Advertisement                             0.00\n",
       "Through Recommendations                           0.00\n",
       "Receive More Updates About Our Courses            0.00\n",
       "Tags                                             36.29\n",
       "Update me on Supply Chain Content                 0.00\n",
       "Get updates on DM Content                         0.00\n",
       "City                                             39.71\n",
       "I agree to pay the amount through cheque          0.00\n",
       "A free copy of Mastering The Interview            0.00\n",
       "Last Notable Activity                             0.00\n",
       "dtype: float64"
      ]
     },
     "execution_count": 18,
     "metadata": {},
     "output_type": "execute_result"
    }
   ],
   "source": [
    "# lets Re check the null percentage\n",
    "round(100*(data.isnull().sum()/len(data.index)), 2)"
   ]
  },
  {
   "cell_type": "markdown",
   "metadata": {},
   "source": [
    "### 2.3 Categorical features Analysis and Handling the unique categories"
   ]
  },
  {
   "cell_type": "code",
   "execution_count": 19,
   "metadata": {},
   "outputs": [
    {
     "data": {
      "text/plain": [
       "Prospect ID                                      9240\n",
       "Lead Number                                      9240\n",
       "Lead Origin                                         5\n",
       "Lead Source                                        21\n",
       "Do Not Email                                        2\n",
       "Do Not Call                                         2\n",
       "Converted                                           2\n",
       "TotalVisits                                        41\n",
       "Total Time Spent on Website                      1731\n",
       "Page Views Per Visit                              114\n",
       "Last Activity                                      17\n",
       "Country                                            38\n",
       "Specialization                                     18\n",
       "What is your current occupation                     6\n",
       "What matters most to you in choosing a course       3\n",
       "Search                                              2\n",
       "Magazine                                            1\n",
       "Newspaper Article                                   2\n",
       "X Education Forums                                  2\n",
       "Newspaper                                           2\n",
       "Digital Advertisement                               2\n",
       "Through Recommendations                             2\n",
       "Receive More Updates About Our Courses              1\n",
       "Tags                                               26\n",
       "Update me on Supply Chain Content                   1\n",
       "Get updates on DM Content                           1\n",
       "City                                                6\n",
       "I agree to pay the amount through cheque            1\n",
       "A free copy of Mastering The Interview              2\n",
       "Last Notable Activity                              16\n",
       "dtype: int64"
      ]
     },
     "execution_count": 19,
     "metadata": {},
     "output_type": "execute_result"
    }
   ],
   "source": [
    "# Let us look at number of unique values.\n",
    "data.nunique()"
   ]
  },
  {
   "cell_type": "code",
   "execution_count": 20,
   "metadata": {},
   "outputs": [],
   "source": [
    "# Both columns Prospect ID and Lead Number uniquely identify a customer. \n",
    "# These columns will not have any impact on analysis\n",
    "data.drop(['Prospect ID'],axis=1,inplace=True)"
   ]
  },
  {
   "cell_type": "code",
   "execution_count": 21,
   "metadata": {},
   "outputs": [
    {
     "name": "stdout",
     "output_type": "stream",
     "text": [
      "<class 'pandas.core.frame.DataFrame'>\n",
      "RangeIndex: 9240 entries, 0 to 9239\n",
      "Data columns (total 29 columns):\n",
      "Lead Number                                      9240 non-null int64\n",
      "Lead Origin                                      9240 non-null object\n",
      "Lead Source                                      9204 non-null object\n",
      "Do Not Email                                     9240 non-null object\n",
      "Do Not Call                                      9240 non-null object\n",
      "Converted                                        9240 non-null int64\n",
      "TotalVisits                                      9103 non-null float64\n",
      "Total Time Spent on Website                      9240 non-null int64\n",
      "Page Views Per Visit                             9103 non-null float64\n",
      "Last Activity                                    9137 non-null object\n",
      "Country                                          6779 non-null object\n",
      "Specialization                                   5860 non-null object\n",
      "What is your current occupation                  6550 non-null object\n",
      "What matters most to you in choosing a course    6531 non-null object\n",
      "Search                                           9240 non-null object\n",
      "Magazine                                         9240 non-null object\n",
      "Newspaper Article                                9240 non-null object\n",
      "X Education Forums                               9240 non-null object\n",
      "Newspaper                                        9240 non-null object\n",
      "Digital Advertisement                            9240 non-null object\n",
      "Through Recommendations                          9240 non-null object\n",
      "Receive More Updates About Our Courses           9240 non-null object\n",
      "Tags                                             5887 non-null object\n",
      "Update me on Supply Chain Content                9240 non-null object\n",
      "Get updates on DM Content                        9240 non-null object\n",
      "City                                             5571 non-null object\n",
      "I agree to pay the amount through cheque         9240 non-null object\n",
      "A free copy of Mastering The Interview           9240 non-null object\n",
      "Last Notable Activity                            9240 non-null object\n",
      "dtypes: float64(2), int64(3), object(24)\n",
      "memory usage: 2.0+ MB\n"
     ]
    }
   ],
   "source": [
    "data.info()"
   ]
  },
  {
   "cell_type": "code",
   "execution_count": 22,
   "metadata": {},
   "outputs": [
    {
     "data": {
      "image/png": "[encoded data removed]",
      "text/plain": [
       "<Figure size 720x432 with 1 Axes>"
      ]
     },
     "metadata": {
      "needs_background": "light"
     },
     "output_type": "display_data"
    },
    {
     "data": {
      "image/png": "[encoded data removed]",
      "text/plain": [
       "<Figure size 720x432 with 1 Axes>"
      ]
     },
     "metadata": {
      "needs_background": "light"
     },
     "output_type": "display_data"
    },
    {
     "data": {
      "image/png": "[encoded data removed]",
      "text/plain": [
       "<Figure size 720x432 with 1 Axes>"
      ]
     },
     "metadata": {
      "needs_background": "light"
     },
     "output_type": "display_data"
    },
    {
     "data": {
      "image/png": "[encoded data removed]",
      "text/plain": [
       "<Figure size 720x432 with 1 Axes>"
      ]
     },
     "metadata": {
      "needs_background": "light"
     },
     "output_type": "display_data"
    },
    {
     "data": {
      "image/png": "[encoded data removed]",
      "text/plain": [
       "<Figure size 720x432 with 1 Axes>"
      ]
     },
     "metadata": {
      "needs_background": "light"
     },
     "output_type": "display_data"
    },
    {
     "data": {
      "image/png": "[encoded data removed]",
      "text/plain": [
       "<Figure size 720x432 with 1 Axes>"
      ]
     },
     "metadata": {
      "needs_background": "light"
     },
     "output_type": "display_data"
    },
    {
     "data": {
      "image/png": "[encoded data removed]",
      "text/plain": [
       "<Figure size 720x432 with 1 Axes>"
      ]
     },
     "metadata": {
      "needs_background": "light"
     },
     "output_type": "display_data"
    },
    {
     "data": {
      "image/png": "[encoded data removed]",
      "text/plain": [
       "<Figure size 720x432 with 1 Axes>"
      ]
     },
     "metadata": {
      "needs_background": "light"
     },
     "output_type": "display_data"
    },
    {
     "data": {
      "image/png": "[encoded data removed]",
      "text/plain": [
       "<Figure size 720x432 with 1 Axes>"
      ]
     },
     "metadata": {
      "needs_background": "light"
     },
     "output_type": "display_data"
    },
    {
     "data": {
      "image/png": "[encoded data removed]",
      "text/plain": [
       "<Figure size 720x432 with 1 Axes>"
      ]
     },
     "metadata": {
      "needs_background": "light"
     },
     "output_type": "display_data"
    },
    {
     "data": {
      "image/png": "[encoded data removed]",
      "text/plain": [
       "<Figure size 720x432 with 1 Axes>"
      ]
     },
     "metadata": {
      "needs_background": "light"
     },
     "output_type": "display_data"
    },
    {
     "data": {
      "image/png": "[encoded data removed]",
      "text/plain": [
       "<Figure size 720x432 with 1 Axes>"
      ]
     },
     "metadata": {
      "needs_background": "light"
     },
     "output_type": "display_data"
    },
    {
     "data": {
      "image/png": "[encoded data removed]",
      "text/plain": [
       "<Figure size 720x432 with 1 Axes>"
      ]
     },
     "metadata": {
      "needs_background": "light"
     },
     "output_type": "display_data"
    },
    {
     "data": {
      "image/png": "[encoded data removed]",
      "text/plain": [
       "<Figure size 720x432 with 1 Axes>"
      ]
     },
     "metadata": {
      "needs_background": "light"
     },
     "output_type": "display_data"
    },
    {
     "data": {
      "image/png": "[encoded data removed]",
      "text/plain": [
       "<Figure size 720x432 with 1 Axes>"
      ]
     },
     "metadata": {
      "needs_background": "light"
     },
     "output_type": "display_data"
    },
    {
     "data": {
      "image/png": "[encoded data removed]",
      "text/plain": [
       "<Figure size 720x432 with 1 Axes>"
      ]
     },
     "metadata": {
      "needs_background": "light"
     },
     "output_type": "display_data"
    },
    {
     "data": {
      "image/png": "[encoded data removed]",
      "text/plain": [
       "<Figure size 720x432 with 1 Axes>"
      ]
     },
     "metadata": {
      "needs_background": "light"
     },
     "output_type": "display_data"
    },
    {
     "data": {
      "image/png": "[encoded data removed]",
      "text/plain": [
       "<Figure size 720x432 with 1 Axes>"
      ]
     },
     "metadata": {
      "needs_background": "light"
     },
     "output_type": "display_data"
    },
    {
     "data": {
      "image/png": "[encoded data removed]",
      "text/plain": [
       "<Figure size 720x432 with 1 Axes>"
      ]
     },
     "metadata": {
      "needs_background": "light"
     },
     "output_type": "display_data"
    },
    {
     "data": {
      "image/png": "[encoded data removed]",
      "text/plain": [
       "<Figure size 720x432 with 1 Axes>"
      ]
     },
     "metadata": {
      "needs_background": "light"
     },
     "output_type": "display_data"
    },
    {
     "data": {
      "image/png": "[encoded data removed]",
      "text/plain": [
       "<Figure size 720x432 with 1 Axes>"
      ]
     },
     "metadata": {
      "needs_background": "light"
     },
     "output_type": "display_data"
    },
    {
     "data": {
      "image/png": "[encoded data removed]",
      "text/plain": [
       "<Figure size 720x432 with 1 Axes>"
      ]
     },
     "metadata": {
      "needs_background": "light"
     },
     "output_type": "display_data"
    },
    {
     "data": {
      "image/png": "[encoded data removed]",
      "text/plain": [
       "<Figure size 720x432 with 1 Axes>"
      ]
     },
     "metadata": {
      "needs_background": "light"
     },
     "output_type": "display_data"
    },
    {
     "data": {
      "image/png": "[encoded data removed]",
      "text/plain": [
       "<Figure size 720x432 with 1 Axes>"
      ]
     },
     "metadata": {
      "needs_background": "light"
     },
     "output_type": "display_data"
    }
   ],
   "source": [
    "# Categorical variables analysis\n",
    "# The categorical columns are:\n",
    "cat_cols = ['Lead Origin','Lead Source','Do Not Email','Do Not Call','Last Activity',\n",
    "            'Country','Specialization','What is your current occupation',\n",
    "            'What matters most to you in choosing a course','Search','Magazine',\n",
    "            'Newspaper Article','X Education Forums','Newspaper','Digital Advertisement',\n",
    "            'Through Recommendations','Receive More Updates About Our Courses','Tags',\n",
    "            'Update me on Supply Chain Content','Get updates on DM Content','City',\n",
    "            'I agree to pay the amount through cheque',\n",
    "            'A free copy of Mastering The Interview','Last Notable Activity'\n",
    "           ]\n",
    "def cat_plot(dataset,colname,tgt_col):\n",
    "    plt.figure(figsize=(10,6))\n",
    "    sns.countplot(dataset[colname],hue=dataset[tgt_col])\n",
    "    plt.xticks(rotation=90)\n",
    "    plt.ylabel('counts')\n",
    "    plt.xlabel(colname)\n",
    "    plt.show()\n",
    "for x in cat_cols:\n",
    "    cat_plot(data,x,'Converted')"
   ]
  },
  {
   "cell_type": "code",
   "execution_count": 23,
   "metadata": {},
   "outputs": [
    {
     "data": {
      "text/plain": [
       "array(['API', 'Landing Page Submission', 'Lead Add Form', 'Lead Import',\n",
       "       'Quick Add Form'], dtype=object)"
      ]
     },
     "execution_count": 23,
     "metadata": {},
     "output_type": "execute_result"
    }
   ],
   "source": [
    "# Look at \"Lead Origin\" unique values.\n",
    "data['Lead Origin'].unique()"
   ]
  },
  {
   "cell_type": "code",
   "execution_count": 24,
   "metadata": {},
   "outputs": [],
   "source": [
    "# Both \"Lead Add Form\" and \"Quick Add Form\" have similar meaning. We can combine these.\n",
    "data.loc[data['Lead Origin']=='Quick Add Form','Lead Origin']='Lead Add Form'"
   ]
  },
  {
   "cell_type": "code",
   "execution_count": 25,
   "metadata": {},
   "outputs": [
    {
     "data": {
      "text/plain": [
       "Landing Page Submission    4886\n",
       "API                        3580\n",
       "Lead Add Form               719\n",
       "Lead Import                  55\n",
       "Name: Lead Origin, dtype: int64"
      ]
     },
     "execution_count": 25,
     "metadata": {},
     "output_type": "execute_result"
    }
   ],
   "source": [
    "# Verify the count of unique values\n",
    "data['Lead Origin'].value_counts(dropna=False)"
   ]
  },
  {
   "cell_type": "markdown",
   "metadata": {},
   "source": [
    "We can observe No Missing Values in the Lead Origin Feature"
   ]
  },
  {
   "cell_type": "code",
   "execution_count": 26,
   "metadata": {},
   "outputs": [
    {
     "data": {
      "text/plain": [
       "array(['Olark Chat', 'Organic Search', 'Direct Traffic', 'Google',\n",
       "       'Referral Sites', 'Welingak Website', 'Reference', 'google',\n",
       "       'Facebook', nan, 'blog', 'Pay per Click Ads', 'bing',\n",
       "       'Social Media', 'WeLearn', 'Click2call', 'Live Chat',\n",
       "       'welearnblog_Home', 'youtubechannel', 'testone', 'Press_Release',\n",
       "       'NC_EDM'], dtype=object)"
      ]
     },
     "execution_count": 26,
     "metadata": {},
     "output_type": "execute_result"
    }
   ],
   "source": [
    "# Lets Look at unique values of Next Categorical Feature\n",
    "# Column : Lead Source\n",
    "data['Lead Source'].unique()"
   ]
  },
  {
   "cell_type": "code",
   "execution_count": 27,
   "metadata": {},
   "outputs": [],
   "source": [
    "# There are two duplications \"google\" and \"welearnblog_Home\"\n",
    "data.loc[data['Lead Source']=='google','Lead Source']='Google'\n",
    "data.loc[data['Lead Source']=='welearnblog_Home','Lead Source']='WeLearn'"
   ]
  },
  {
   "cell_type": "code",
   "execution_count": 28,
   "metadata": {},
   "outputs": [
    {
     "data": {
      "text/plain": [
       "Google               2873\n",
       "Direct Traffic       2543\n",
       "Olark Chat           1755\n",
       "Organic Search       1154\n",
       "Reference             534\n",
       "Welingak Website      142\n",
       "Referral Sites        125\n",
       "Facebook               55\n",
       "NaN                    36\n",
       "bing                    6\n",
       "Click2call              4\n",
       "Live Chat               2\n",
       "WeLearn                 2\n",
       "Press_Release           2\n",
       "Social Media            2\n",
       "NC_EDM                  1\n",
       "Pay per Click Ads       1\n",
       "youtubechannel          1\n",
       "testone                 1\n",
       "blog                    1\n",
       "Name: Lead Source, dtype: int64"
      ]
     },
     "execution_count": 28,
     "metadata": {},
     "output_type": "execute_result"
    }
   ],
   "source": [
    "# Verify the count of unique values\n",
    "data['Lead Source'].value_counts(dropna=False)"
   ]
  },
  {
   "cell_type": "markdown",
   "metadata": {},
   "source": [
    "#### We can observe\n",
    "1. There are some unique values whose presence is almost negligible. <b>We can combine all of them together into one bucket \"Other\"</b>"
   ]
  },
  {
   "cell_type": "code",
   "execution_count": 29,
   "metadata": {},
   "outputs": [
    {
     "data": {
      "text/plain": [
       "Google              2873\n",
       "Direct Traffic      2543\n",
       "Olark Chat          1755\n",
       "Organic Search      1154\n",
       "Reference            534\n",
       "Welingak Website     142\n",
       "Referral Sites       125\n",
       "Other                 59\n",
       "Facebook              55\n",
       "Name: Lead Source, dtype: int64"
      ]
     },
     "execution_count": 29,
     "metadata": {},
     "output_type": "execute_result"
    }
   ],
   "source": [
    "# Combining all records to \"Other\" whose counts are < 50\n",
    "counts = data['Lead Source'].value_counts(dropna=False)\n",
    "data['Lead Source'] = np.where(data['Lead Source'].isin(counts.index[counts >= 50 ]), data['Lead Source'], 'Other')\n",
    "\n",
    "#Verifying the count of unique Values\n",
    "data['Lead Source'].value_counts(dropna=False)"
   ]
  },
  {
   "cell_type": "code",
   "execution_count": 30,
   "metadata": {},
   "outputs": [
    {
     "data": {
      "text/plain": [
       "Email Opened                    3437\n",
       "SMS Sent                        2745\n",
       "Olark Chat Conversation          973\n",
       "Page Visited on Website          640\n",
       "Converted to Lead                428\n",
       "Email Bounced                    326\n",
       "Email Link Clicked               267\n",
       "Form Submitted on Website        116\n",
       "NaN                              103\n",
       "Unreachable                       93\n",
       "Unsubscribed                      61\n",
       "Had a Phone Conversation          30\n",
       "Approached upfront                 9\n",
       "View in browser link Clicked       6\n",
       "Email Marked Spam                  2\n",
       "Email Received                     2\n",
       "Visited Booth in Tradeshow         1\n",
       "Resubscribed to emails             1\n",
       "Name: Last Activity, dtype: int64"
      ]
     },
     "execution_count": 30,
     "metadata": {},
     "output_type": "execute_result"
    }
   ],
   "source": [
    "# Lets Look at unique values of Next Categorical Feature\n",
    "# Column last activity\n",
    "data['Last Activity'].value_counts(dropna=False)"
   ]
  },
  {
   "cell_type": "markdown",
   "metadata": {},
   "source": [
    "#### We can observe\n",
    "1. 103 Records with NAN value - <b>Re Name these to Unknown Category </b>\n",
    "2. There are some unique values whose presence is almost negligible.<b> We can combine all of them together into one bucket \"Other\"</b>"
   ]
  },
  {
   "cell_type": "code",
   "execution_count": 31,
   "metadata": {},
   "outputs": [
    {
     "data": {
      "text/plain": [
       "Email Opened                 3437\n",
       "SMS Sent                     2745\n",
       "Olark Chat Conversation       973\n",
       "Page Visited on Website       640\n",
       "Converted to Lead             428\n",
       "Email Bounced                 326\n",
       "Email Link Clicked            267\n",
       "Form Submitted on Website     116\n",
       "Unknown                       103\n",
       "Unreachable                    93\n",
       "Unsubscribed                   61\n",
       "Other                          51\n",
       "Name: Last Activity, dtype: int64"
      ]
     },
     "execution_count": 31,
     "metadata": {},
     "output_type": "execute_result"
    }
   ],
   "source": [
    "# Renaming records with NaN value to Unknown Category\n",
    "data['Last Activity'].fillna('Unknown',inplace=True)\n",
    "\n",
    "# Combining all records to \"Other\" whose counts are < 50\n",
    "counts = data['Last Activity'].value_counts(dropna=False)\n",
    "data['Last Activity'] = np.where(data['Last Activity'].isin(counts.index[counts >= 50 ]), data['Last Activity'], 'Other')\n",
    "\n",
    "#Verifying the count of unique Values\n",
    "data['Last Activity'].value_counts(dropna=False)"
   ]
  },
  {
   "cell_type": "code",
   "execution_count": 32,
   "metadata": {},
   "outputs": [
    {
     "data": {
      "text/plain": [
       "Modified                        3407\n",
       "Email Opened                    2827\n",
       "SMS Sent                        2172\n",
       "Page Visited on Website          318\n",
       "Olark Chat Conversation          183\n",
       "Email Link Clicked               173\n",
       "Email Bounced                     60\n",
       "Unsubscribed                      47\n",
       "Unreachable                       32\n",
       "Had a Phone Conversation          14\n",
       "Email Marked Spam                  2\n",
       "Form Submitted on Website          1\n",
       "Approached upfront                 1\n",
       "Email Received                     1\n",
       "View in browser link Clicked       1\n",
       "Resubscribed to emails             1\n",
       "Name: Last Notable Activity, dtype: int64"
      ]
     },
     "execution_count": 32,
     "metadata": {},
     "output_type": "execute_result"
    }
   ],
   "source": [
    "# Lets Look at unique values of Next Categorical Feature\n",
    "# Column: Last Notable Activity\n",
    "\n",
    "data['Last Notable Activity'].value_counts(dropna=False)"
   ]
  },
  {
   "cell_type": "markdown",
   "metadata": {},
   "source": [
    "#### We can observe\n",
    "1. There are some unique values whose presence is almost negligible.<b> We can combine all of them together into one bucket \"Other\"</b>"
   ]
  },
  {
   "cell_type": "code",
   "execution_count": 33,
   "metadata": {},
   "outputs": [
    {
     "data": {
      "text/plain": [
       "Modified                   3407\n",
       "Email Opened               2827\n",
       "SMS Sent                   2172\n",
       "Page Visited on Website     318\n",
       "Olark Chat Conversation     183\n",
       "Email Link Clicked          173\n",
       "Other                       100\n",
       "Email Bounced                60\n",
       "Name: Last Notable Activity, dtype: int64"
      ]
     },
     "execution_count": 33,
     "metadata": {},
     "output_type": "execute_result"
    }
   ],
   "source": [
    "# Combining all records to \"Other\" whose counts are < 50\n",
    "counts = data['Last Notable Activity'].value_counts(dropna=False)\n",
    "data['Last Notable Activity'] = np.where(data['Last Notable Activity'].isin(counts.index[counts >= 50 ]), data['Last Notable Activity'], 'Other')\n",
    "\n",
    "#Verifying the count of unique Values\n",
    "data['Last Notable Activity'].value_counts(dropna=False)"
   ]
  },
  {
   "cell_type": "code",
   "execution_count": 34,
   "metadata": {},
   "outputs": [
    {
     "data": {
      "text/plain": [
       "India                   6963\n",
       "NaN                     2127\n",
       "United Arab Emirates      32\n",
       "United States             29\n",
       "Singapore                 13\n",
       "Saudi Arabia              11\n",
       "United Kingdom             5\n",
       "Qatar                      5\n",
       "unknown                    5\n",
       "Nigeria                    4\n",
       "Australia                  4\n",
       "France                     4\n",
       "South Africa               4\n",
       "Oman                       4\n",
       "Bahrain                    3\n",
       "Hong Kong                  3\n",
       "Bangladesh                 2\n",
       "Uganda                     2\n",
       "Italy                      2\n",
       "Asia/Pacific Region        2\n",
       "Ghana                      2\n",
       "Kuwait                     2\n",
       "Sweden                     2\n",
       "Russia                     1\n",
       "Germany                    1\n",
       "Kenya                      1\n",
       "Liberia                    1\n",
       "Tanzania                   1\n",
       "Sri Lanka                  1\n",
       "China                      1\n",
       "Canada                     1\n",
       "Denmark                    1\n",
       "Philippines                1\n",
       "Name: Country, dtype: int64"
      ]
     },
     "execution_count": 34,
     "metadata": {},
     "output_type": "execute_result"
    }
   ],
   "source": [
    "# Lets Look at unique values of Next Categorical Feature\n",
    "# Column: Country\n",
    "\n",
    "# From plot of Country, we can see that majority of clicks are from India. \n",
    "# Rest of world can be either grouped as one big entry or grouped by continent.\n",
    "# Further when we combine known information from City to derive Country, we can replace some of NAs in country column.\n",
    "data.loc[data['City']=='Thane & Outskirts','Country']='India'\n",
    "data.loc[data['City']=='Other Cities of Maharashtra','Country']='India'\n",
    "data.loc[data['City']=='Mumbai','Country']='India'\n",
    "data['Country'].value_counts(dropna=False)"
   ]
  },
  {
   "cell_type": "code",
   "execution_count": 35,
   "metadata": {},
   "outputs": [],
   "source": [
    "# Replacing cities with Conitent Name in the country Feature\n",
    "data['Country'] = data['Country'].replace('Switzerland', 'Europe')\n",
    "data['Country'] = data['Country'].replace('Denmark', 'Europe')\n",
    "data['Country'] = data['Country'].replace('Russia', 'Europe')\n",
    "data['Country'] = data['Country'].replace('Belgium', 'Europe')\n",
    "data['Country'] = data['Country'].replace('Italy', 'Europe')\n",
    "data['Country'] = data['Country'].replace('Netherlands', 'Europe')\n",
    "data['Country'] = data['Country'].replace('Sweden', 'Europe')\n",
    "data['Country'] = data['Country'].replace('Germany', 'Europe')\n",
    "data['Country'] = data['Country'].replace('France', 'Europe')\n",
    "data['Country'] = data['Country'].replace('United Kingdom', 'Europe')\n",
    "\n",
    "data['Country'] = data['Country'].replace('United Arab Emirates', 'Middle East')\n",
    "data['Country'] = data['Country'].replace('Saudi Arabia', 'Middle East')\n",
    "data['Country'] = data['Country'].replace('Qatar', 'Middle East')\n",
    "data['Country'] = data['Country'].replace('Oman', 'Middle East')\n",
    "data['Country'] = data['Country'].replace('Bahrain', 'Middle East')\n",
    "data['Country'] = data['Country'].replace('Kuwait', 'Middle East')\n",
    "\n",
    "data['Country'] = data['Country'].replace('United States', 'North America')\n",
    "data['Country'] = data['Country'].replace('Canada', 'North America')\n",
    "\n",
    "data['Country'] = data['Country'].replace('Nigeria', 'Africa')\n",
    "data['Country'] = data['Country'].replace('Ghana', 'Africa')\n",
    "data['Country'] = data['Country'].replace('Uganda', 'Africa')\n",
    "data['Country'] = data['Country'].replace('Kenya', 'Africa')\n",
    "data['Country'] = data['Country'].replace('Tanzania', 'Africa')\n",
    "data['Country'] = data['Country'].replace('Liberia', 'Africa')\n",
    "data['Country'] = data['Country'].replace('South Africa', 'Africa')\n",
    "\n",
    "data['Country'] = data['Country'].replace('Singapore', 'South & South-East Asia')\n",
    "data['Country'] = data['Country'].replace('Hong Kong', 'South & South-East Asia')\n",
    "data['Country'] = data['Country'].replace('Asia/Pacific Region', 'South & South-East Asia')\n",
    "data['Country'] = data['Country'].replace('China', 'South & South-East Asia')\n",
    "data['Country'] = data['Country'].replace('Philippines', 'South & South-East Asia')"
   ]
  },
  {
   "cell_type": "code",
   "execution_count": 36,
   "metadata": {},
   "outputs": [
    {
     "data": {
      "text/plain": [
       "India                      6963\n",
       "NaN                        2127\n",
       "Middle East                  57\n",
       "North America                30\n",
       "South & South-East Asia      20\n",
       "Europe                       16\n",
       "Africa                       15\n",
       "unknown                       5\n",
       "Australia                     4\n",
       "Bangladesh                    2\n",
       "Sri Lanka                     1\n",
       "Name: Country, dtype: int64"
      ]
     },
     "execution_count": 36,
     "metadata": {},
     "output_type": "execute_result"
    }
   ],
   "source": [
    "data['Country'].value_counts(dropna=False)"
   ]
  },
  {
   "cell_type": "markdown",
   "metadata": {},
   "source": [
    "#### We can observe\n",
    "1. 2127 Records with NAN value - <b>We can assume that when country is missing, it will be India. This is because the website has users mainly from India </b>\n",
    "2. There are some unique values whose presence is almost negligible.<b> We can combine all of them together into one bucket \"Other\"</b>"
   ]
  },
  {
   "cell_type": "code",
   "execution_count": 37,
   "metadata": {},
   "outputs": [
    {
     "data": {
      "text/plain": [
       "India    9090\n",
       "Other     150\n",
       "Name: Country, dtype: int64"
      ]
     },
     "execution_count": 37,
     "metadata": {},
     "output_type": "execute_result"
    }
   ],
   "source": [
    "# Renaming records with NaN value to India \n",
    "data['Country'].fillna('India',inplace=True) \n",
    "\n",
    "# Combining all records to \"Other\" whose counts are < 60\n",
    "counts = data['Country'].value_counts(dropna=False)\n",
    "data['Country'] = np.where(data['Country'].isin(counts.index[counts >= 60 ]), data['Country'], 'Other')\n",
    "data['Country'].value_counts(dropna=False)"
   ]
  },
  {
   "cell_type": "markdown",
   "metadata": {},
   "source": [
    "After making the above changes, we can observe country feature is heavily skewed and will not have any signficance in Model "
   ]
  },
  {
   "cell_type": "code",
   "execution_count": 38,
   "metadata": {},
   "outputs": [],
   "source": [
    "# Dropping country feature from data set\n",
    "data.drop(['Country'],axis=1,inplace=True)"
   ]
  },
  {
   "cell_type": "code",
   "execution_count": 39,
   "metadata": {},
   "outputs": [
    {
     "data": {
      "text/plain": [
       "NaN                                  3380\n",
       "Finance Management                    976\n",
       "Human Resource Management             848\n",
       "Marketing Management                  838\n",
       "Operations Management                 503\n",
       "Business Administration               403\n",
       "IT Projects Management                366\n",
       "Supply Chain Management               349\n",
       "Banking, Investment And Insurance     338\n",
       "Media and Advertising                 203\n",
       "Travel and Tourism                    203\n",
       "International Business                178\n",
       "Healthcare Management                 159\n",
       "Hospitality Management                114\n",
       "E-COMMERCE                            112\n",
       "Retail Management                     100\n",
       "Rural and Agribusiness                 73\n",
       "E-Business                             57\n",
       "Services Excellence                    40\n",
       "Name: Specialization, dtype: int64"
      ]
     },
     "execution_count": 39,
     "metadata": {},
     "output_type": "execute_result"
    }
   ],
   "source": [
    "# Lets Look at unique values of Next Categorical Feature\n",
    "# Column: Specialization\n",
    "\n",
    "data['Specialization'].value_counts(dropna=False)"
   ]
  },
  {
   "cell_type": "markdown",
   "metadata": {},
   "source": [
    "#### We can observe\n",
    "1. 3380 Records with NAN value - <b>We can rename these to Unspecified </b>\n"
   ]
  },
  {
   "cell_type": "code",
   "execution_count": 40,
   "metadata": {},
   "outputs": [],
   "source": [
    "# Replace NANs with \"Unspecified\"\n",
    "data['Specialization'].fillna('Unspecified',inplace=True)"
   ]
  },
  {
   "cell_type": "code",
   "execution_count": 41,
   "metadata": {},
   "outputs": [],
   "source": [
    "# By description of this column (Specialization), it is not desirable to group categories into one."
   ]
  },
  {
   "cell_type": "code",
   "execution_count": 42,
   "metadata": {},
   "outputs": [
    {
     "data": {
      "text/plain": [
       "Unemployed              5600\n",
       "NaN                     2690\n",
       "Working Professional     706\n",
       "Student                  210\n",
       "Other                     16\n",
       "Housewife                 10\n",
       "Businessman                8\n",
       "Name: What is your current occupation, dtype: int64"
      ]
     },
     "execution_count": 42,
     "metadata": {},
     "output_type": "execute_result"
    }
   ],
   "source": [
    "# Lets Look at unique values of Next Categorical Feature\n",
    "# Column 'What is your current occupation'\n",
    "data['What is your current occupation'].value_counts(dropna=False)"
   ]
  },
  {
   "cell_type": "markdown",
   "metadata": {},
   "source": [
    "#### We can observe\n",
    "1. 2690 Records with NAN value - <b>We can rename these to Unspecified </b>\n",
    "2. There are some unique values whose presence is almost negligible.<b> We can combine all of them together into one bucket \"Other\"</b>"
   ]
  },
  {
   "cell_type": "code",
   "execution_count": 43,
   "metadata": {},
   "outputs": [
    {
     "data": {
      "text/plain": [
       "Unemployed              5600\n",
       "Unspecified             2690\n",
       "Working Professional     706\n",
       "Student                  210\n",
       "Other                     34\n",
       "Name: What is your current occupation, dtype: int64"
      ]
     },
     "execution_count": 43,
     "metadata": {},
     "output_type": "execute_result"
    }
   ],
   "source": [
    "# Replace NANs with \"Unspecified\"\n",
    "data['What is your current occupation'].fillna('Unspecified',inplace=True)\n",
    "\n",
    "# Combining all records to \"Other\" whose counts are < 50\n",
    "counts = data['What is your current occupation'].value_counts(dropna=False)\n",
    "data['What is your current occupation'] = np.where(data['What is your current occupation'].isin(counts.index[counts >= 50 ]), data['What is your current occupation'], 'Other')\n",
    "\n",
    "# Verifying the value counts\n",
    "data['What is your current occupation'].value_counts(dropna=False)"
   ]
  },
  {
   "cell_type": "code",
   "execution_count": 44,
   "metadata": {},
   "outputs": [
    {
     "data": {
      "text/plain": [
       "Better Career Prospects      6528\n",
       "NaN                          2709\n",
       "Flexibility & Convenience       2\n",
       "Other                           1\n",
       "Name: What matters most to you in choosing a course, dtype: int64"
      ]
     },
     "execution_count": 44,
     "metadata": {},
     "output_type": "execute_result"
    }
   ],
   "source": [
    "# Lets Look at unique values of Next Categorical Feature\n",
    "# Column 'What matters most to you in choosing a course'\n",
    "\n",
    "data['What matters most to you in choosing a course'].value_counts(dropna=False)"
   ]
  },
  {
   "cell_type": "markdown",
   "metadata": {},
   "source": [
    "#### We can observe\n",
    "1. 2709 Records with NAN value - <b>We can rename these to Unspecified </b>\n"
   ]
  },
  {
   "cell_type": "code",
   "execution_count": 45,
   "metadata": {},
   "outputs": [
    {
     "data": {
      "text/plain": [
       "Better Career Prospects      6528\n",
       "Unspecified                  2709\n",
       "Flexibility & Convenience       2\n",
       "Other                           1\n",
       "Name: What matters most to you in choosing a course, dtype: int64"
      ]
     },
     "execution_count": 45,
     "metadata": {},
     "output_type": "execute_result"
    }
   ],
   "source": [
    "# Replace missing values with \"Unspecified\"\n",
    "data['What matters most to you in choosing a course'].fillna('Unspecified',inplace=True)\n",
    "\n",
    "# Verifying the value counts\n",
    "data['What matters most to you in choosing a course'].value_counts(dropna=False)"
   ]
  },
  {
   "cell_type": "code",
   "execution_count": 46,
   "metadata": {},
   "outputs": [
    {
     "data": {
      "text/plain": [
       "NaN                                                  3353\n",
       "Will revert after reading the email                  2072\n",
       "Ringing                                              1203\n",
       "Interested in other courses                           513\n",
       "Already a student                                     465\n",
       "Closed by Horizzon                                    358\n",
       "switched off                                          240\n",
       "Busy                                                  186\n",
       "Lost to EINS                                          175\n",
       "Not doing further education                           145\n",
       "Interested  in full time MBA                          117\n",
       "Graduation in progress                                111\n",
       "invalid number                                         83\n",
       "Diploma holder (Not Eligible)                          63\n",
       "wrong number given                                     47\n",
       "opp hangup                                             33\n",
       "number not provided                                    27\n",
       "in touch with EINS                                     12\n",
       "Lost to Others                                          7\n",
       "Want to take admission but has financial problems       6\n",
       "Still Thinking                                          6\n",
       "In confusion whether part time or DLP                   5\n",
       "Interested in Next batch                                5\n",
       "Lateral student                                         3\n",
       "Shall take in the next coming month                     2\n",
       "University not recognized                               2\n",
       "Recognition issue (DEC approval)                        1\n",
       "Name: Tags, dtype: int64"
      ]
     },
     "execution_count": 46,
     "metadata": {},
     "output_type": "execute_result"
    }
   ],
   "source": [
    "# Lets Look at unique values of Next Categorical Feature\n",
    "# Column 'Tags'\n",
    "data['Tags'].value_counts(dropna=False)"
   ]
  },
  {
   "cell_type": "markdown",
   "metadata": {},
   "source": [
    "#### We can observe\n",
    "1. 3353 Records with NAN value - <b>We can rename these to No Tags </b>\n",
    "2. There are some categories that can be clubbed together.<b> Busy, switched off, opp hangup, wrong number given, number not provided- these can be clubbed to Not Reachable</b>\n",
    "3. There are some unique values whose presence is almost negligible.<b> We can combine all of them together into one bucket \"Other\"</b>"
   ]
  },
  {
   "cell_type": "code",
   "execution_count": 47,
   "metadata": {},
   "outputs": [],
   "source": [
    "# Fill missing values with \"No tags\"\n",
    "data['Tags'].fillna('No Tags',inplace=True)"
   ]
  },
  {
   "cell_type": "code",
   "execution_count": 48,
   "metadata": {},
   "outputs": [
    {
     "data": {
      "text/plain": [
       "No Tags                                              3353\n",
       "Will revert after reading the email                  2072\n",
       "Ringing                                              1203\n",
       "Not reachable                                         616\n",
       "Interested in other courses                           513\n",
       "Already a student                                     465\n",
       "Closed by Horizzon                                    358\n",
       "Lost to EINS                                          175\n",
       "Not doing further education                           145\n",
       "Interested  in full time MBA                          117\n",
       "Graduation in progress                                111\n",
       "Diploma holder (Not Eligible)                          63\n",
       "in touch with EINS                                     12\n",
       "Lost to Others                                          7\n",
       "Still Thinking                                          6\n",
       "Want to take admission but has financial problems       6\n",
       "In confusion whether part time or DLP                   5\n",
       "Interested in Next batch                                5\n",
       "Lateral student                                         3\n",
       "University not recognized                               2\n",
       "Shall take in the next coming month                     2\n",
       "Recognition issue (DEC approval)                        1\n",
       "Name: Tags, dtype: int64"
      ]
     },
     "execution_count": 48,
     "metadata": {},
     "output_type": "execute_result"
    }
   ],
   "source": [
    "# There are some categories that can be clubbed together.\n",
    "# Busy, switched off, opp hangup, wrong number given, number not provided\n",
    "data['Tags'] = data['Tags'].replace('wrong number given', 'Not reachable')\n",
    "data['Tags'] = data['Tags'].replace('Busy', 'Not reachable')\n",
    "data['Tags'] = data['Tags'].replace('switched off', 'Not reachable')\n",
    "data['Tags'] = data['Tags'].replace('opp hangup', 'Not reachable')\n",
    "data['Tags'] = data['Tags'].replace('number not provided', 'Not reachable')\n",
    "data['Tags'] = data['Tags'].replace('invalid number', 'Not reachable')\n",
    "\n",
    "#Verifying value counts\n",
    "data['Tags'].value_counts(dropna=False)"
   ]
  },
  {
   "cell_type": "code",
   "execution_count": 49,
   "metadata": {},
   "outputs": [
    {
     "data": {
      "text/plain": [
       "No Tags                                3353\n",
       "Will revert after reading the email    2072\n",
       "Ringing                                1203\n",
       "Not reachable                           616\n",
       "Interested in other courses             513\n",
       "Already a student                       465\n",
       "Closed by Horizzon                      358\n",
       "Lost to EINS                            175\n",
       "Not doing further education             145\n",
       "Interested  in full time MBA            117\n",
       "Graduation in progress                  111\n",
       "Diploma holder (Not Eligible)            63\n",
       "Other                                    49\n",
       "Name: Tags, dtype: int64"
      ]
     },
     "execution_count": 49,
     "metadata": {},
     "output_type": "execute_result"
    }
   ],
   "source": [
    "# We can group all categories that have less counts into one group \"Other\"\n",
    "counts = data['Tags'].value_counts(dropna=False)\n",
    "data['Tags'] = np.where(data['Tags'].isin(counts.index[counts >= 60 ]), data['Tags'], 'Other')\n",
    "data['Tags'].value_counts(dropna=False)"
   ]
  },
  {
   "cell_type": "code",
   "execution_count": 50,
   "metadata": {},
   "outputs": [
    {
     "data": {
      "text/plain": [
       "NaN                            3669\n",
       "Mumbai                         3222\n",
       "Thane & Outskirts               752\n",
       "Other Cities                    686\n",
       "Other Cities of Maharashtra     457\n",
       "Other Metro Cities              380\n",
       "Tier II Cities                   74\n",
       "Name: City, dtype: int64"
      ]
     },
     "execution_count": 50,
     "metadata": {},
     "output_type": "execute_result"
    }
   ],
   "source": [
    "# Lets Look at unique values of Next Categorical Feature\n",
    "# Column City\n",
    "data['City'].value_counts(dropna=False)"
   ]
  },
  {
   "cell_type": "code",
   "execution_count": 51,
   "metadata": {},
   "outputs": [
    {
     "data": {
      "text/plain": [
       "Mumbai           3974\n",
       "Not Specified    3669\n",
       "Other Cities     1597\n",
       "Name: City, dtype: int64"
      ]
     },
     "execution_count": 51,
     "metadata": {},
     "output_type": "execute_result"
    }
   ],
   "source": [
    "# Fill missing values with \"Not Specified\"\n",
    "data['City'].fillna('Not Specified',inplace=True)\n",
    "# Combine Other Cities together.\n",
    "data.loc[data['City']=='Other Cities of Maharashtra','City']='Other Cities'\n",
    "# Mumbai and Thane are less than 30km apart.\n",
    "data.loc[data['City']=='Thane & Outskirts','City']='Mumbai'\n",
    "# Club Tier II Cities with Other Cities.\n",
    "data.loc[data['City']=='Tier II Cities','City']='Other Cities'\n",
    "# Club Other Metro Cities with Other Cities\n",
    "data.loc[data['City']=='Other Metro Cities','City']='Other Cities'\n",
    "data['City'].value_counts(dropna=False)"
   ]
  },
  {
   "cell_type": "code",
   "execution_count": 52,
   "metadata": {},
   "outputs": [],
   "source": [
    "# Looking at numbers, a majority of city information is as good as missing \n",
    "# (Sum of Not Specified and Other Cities) = 5266/9240 = 57%.\n",
    "# Hence, dropping the column.\n",
    "data.drop(['City'],axis=1,inplace=True)"
   ]
  },
  {
   "cell_type": "markdown",
   "metadata": {},
   "source": [
    "#### Binary and Unary Categorical Column Analysis"
   ]
  },
  {
   "cell_type": "code",
   "execution_count": 53,
   "metadata": {
    "scrolled": true
   },
   "outputs": [
    {
     "data": {
      "text/plain": [
       "Do Not Email                                2\n",
       "Do Not Call                                 2\n",
       "Search                                      2\n",
       "Magazine                                    1\n",
       "Newspaper Article                           2\n",
       "X Education Forums                          2\n",
       "Newspaper                                   2\n",
       "Digital Advertisement                       2\n",
       "Through Recommendations                     2\n",
       "Receive More Updates About Our Courses      1\n",
       "Update me on Supply Chain Content           1\n",
       "Get updates on DM Content                   1\n",
       "I agree to pay the amount through cheque    1\n",
       "A free copy of Mastering The Interview      2\n",
       "dtype: int64"
      ]
     },
     "execution_count": 53,
     "metadata": {},
     "output_type": "execute_result"
    }
   ],
   "source": [
    "# Binary Categorical columns with options as Yes or No\n",
    "y_n_cols = ['Do Not Email','Do Not Call','Search','Magazine',\n",
    "            'Newspaper Article','X Education Forums','Newspaper','Digital Advertisement',\n",
    "            'Through Recommendations','Receive More Updates About Our Courses',\n",
    "            'Update me on Supply Chain Content','Get updates on DM Content','I agree to pay the amount through cheque',\n",
    "            'A free copy of Mastering The Interview']\n",
    "data[y_n_cols].nunique()"
   ]
  },
  {
   "cell_type": "code",
   "execution_count": 54,
   "metadata": {},
   "outputs": [],
   "source": [
    "# Clearly the columns that do not change at all, have no use for analysis. We will drop these columns\n",
    "# Statement split to improve readability ONLY.\n",
    "data.drop(['Magazine','Receive More Updates About Our Courses','Update me on Supply Chain Content'],axis=1,inplace=True)\n",
    "data.drop(['Get updates on DM Content','I agree to pay the amount through cheque'],axis=1,inplace=True)"
   ]
  },
  {
   "cell_type": "code",
   "execution_count": 55,
   "metadata": {},
   "outputs": [
    {
     "data": {
      "text/plain": [
       "No     8506\n",
       "Yes     734\n",
       "Name: Do Not Email, dtype: int64"
      ]
     },
     "execution_count": 55,
     "metadata": {},
     "output_type": "execute_result"
    }
   ],
   "source": [
    "# Let us revisit this  Y/N columns\n",
    "data['Do Not Email'].value_counts(dropna=False)"
   ]
  },
  {
   "cell_type": "code",
   "execution_count": 56,
   "metadata": {},
   "outputs": [
    {
     "data": {
      "text/plain": [
       "No     9238\n",
       "Yes       2\n",
       "Name: Do Not Call, dtype: int64"
      ]
     },
     "execution_count": 56,
     "metadata": {},
     "output_type": "execute_result"
    }
   ],
   "source": [
    "data['Do Not Call'].value_counts(dropna=False)"
   ]
  },
  {
   "cell_type": "code",
   "execution_count": 57,
   "metadata": {},
   "outputs": [],
   "source": [
    "# As we can see, the number of Yeses, are too negligible. \n",
    "# Which means this column can be considered as if entire column values are \"No\". Thus the column can be dropped.\n",
    "data.drop(['Do Not Call'],axis=1,inplace=True)"
   ]
  },
  {
   "cell_type": "code",
   "execution_count": 58,
   "metadata": {},
   "outputs": [
    {
     "data": {
      "text/plain": [
       "No     9226\n",
       "Yes      14\n",
       "Name: Search, dtype: int64"
      ]
     },
     "execution_count": 58,
     "metadata": {},
     "output_type": "execute_result"
    }
   ],
   "source": [
    "data['Search'].value_counts(dropna=False)"
   ]
  },
  {
   "cell_type": "code",
   "execution_count": 59,
   "metadata": {},
   "outputs": [],
   "source": [
    "# As we can see, the number of Yeses, are too negligible. \n",
    "# Which means this column can be considered as if entire column values are \"No\". Thus the column can be dropped.\n",
    "data.drop(['Search'],axis=1,inplace=True)"
   ]
  },
  {
   "cell_type": "code",
   "execution_count": 60,
   "metadata": {},
   "outputs": [
    {
     "data": {
      "text/plain": [
       "No     9238\n",
       "Yes       2\n",
       "Name: Newspaper Article, dtype: int64"
      ]
     },
     "execution_count": 60,
     "metadata": {},
     "output_type": "execute_result"
    }
   ],
   "source": [
    "data['Newspaper Article'].value_counts(dropna=False)"
   ]
  },
  {
   "cell_type": "code",
   "execution_count": 61,
   "metadata": {},
   "outputs": [],
   "source": [
    "# As we can see, the number of Yeses, are too negligible. \n",
    "# Which means this column can be considered as if entire column values are \"No\". Thus the column can be dropped.\n",
    "data.drop(['Newspaper Article'],axis=1,inplace=True)"
   ]
  },
  {
   "cell_type": "code",
   "execution_count": 62,
   "metadata": {},
   "outputs": [
    {
     "data": {
      "text/plain": [
       "No     9239\n",
       "Yes       1\n",
       "Name: X Education Forums, dtype: int64"
      ]
     },
     "execution_count": 62,
     "metadata": {},
     "output_type": "execute_result"
    }
   ],
   "source": [
    "data['X Education Forums'].value_counts(dropna=False)"
   ]
  },
  {
   "cell_type": "code",
   "execution_count": 63,
   "metadata": {},
   "outputs": [],
   "source": [
    "# As we can see, the number of Yeses, are too negligible. \n",
    "# Which means this column can be considered as if entire column values are \"No\". Thus the column can be dropped.\n",
    "data.drop(['X Education Forums'],axis=1,inplace=True)"
   ]
  },
  {
   "cell_type": "code",
   "execution_count": 64,
   "metadata": {},
   "outputs": [
    {
     "data": {
      "text/plain": [
       "No     9239\n",
       "Yes       1\n",
       "Name: Newspaper, dtype: int64"
      ]
     },
     "execution_count": 64,
     "metadata": {},
     "output_type": "execute_result"
    }
   ],
   "source": [
    "data['Newspaper'].value_counts(dropna=False)"
   ]
  },
  {
   "cell_type": "code",
   "execution_count": 65,
   "metadata": {},
   "outputs": [],
   "source": [
    "# As we can see, the number of Yeses, are too negligible. \n",
    "# Which means this column can be considered as if entire column values are \"No\". Thus the column can be dropped.\n",
    "data.drop(['Newspaper'],axis=1,inplace=True)"
   ]
  },
  {
   "cell_type": "code",
   "execution_count": 66,
   "metadata": {},
   "outputs": [
    {
     "data": {
      "text/plain": [
       "No     9236\n",
       "Yes       4\n",
       "Name: Digital Advertisement, dtype: int64"
      ]
     },
     "execution_count": 66,
     "metadata": {},
     "output_type": "execute_result"
    }
   ],
   "source": [
    "data['Digital Advertisement'].value_counts(dropna=False)"
   ]
  },
  {
   "cell_type": "code",
   "execution_count": 67,
   "metadata": {},
   "outputs": [],
   "source": [
    "# As we can see, the number of Yeses, are too negligible. \n",
    "# Which means this column can be considered as if entire column values are \"No\". Thus the column can be dropped.\n",
    "data.drop(['Digital Advertisement'],axis=1,inplace=True)"
   ]
  },
  {
   "cell_type": "code",
   "execution_count": 68,
   "metadata": {},
   "outputs": [
    {
     "data": {
      "text/plain": [
       "No     9233\n",
       "Yes       7\n",
       "Name: Through Recommendations, dtype: int64"
      ]
     },
     "execution_count": 68,
     "metadata": {},
     "output_type": "execute_result"
    }
   ],
   "source": [
    "data['Through Recommendations'].value_counts(dropna=False)"
   ]
  },
  {
   "cell_type": "code",
   "execution_count": 69,
   "metadata": {},
   "outputs": [],
   "source": [
    "# As we can see, the number of Yeses, are too negligible. \n",
    "# Which means this column can be considered as if entire column values are \"No\". Thus the column can be dropped.\n",
    "data.drop(['Through Recommendations'],axis=1,inplace=True)"
   ]
  },
  {
   "cell_type": "code",
   "execution_count": 70,
   "metadata": {},
   "outputs": [
    {
     "data": {
      "text/plain": [
       "No     6352\n",
       "Yes    2888\n",
       "Name: A free copy of Mastering The Interview, dtype: int64"
      ]
     },
     "execution_count": 70,
     "metadata": {},
     "output_type": "execute_result"
    }
   ],
   "source": [
    "data['A free copy of Mastering The Interview'].value_counts(dropna=False)"
   ]
  },
  {
   "cell_type": "markdown",
   "metadata": {},
   "source": [
    "### 2.4  Numerical Feature Analysis"
   ]
  },
  {
   "cell_type": "code",
   "execution_count": 71,
   "metadata": {},
   "outputs": [
    {
     "data": {
      "text/plain": [
       "Index(['Lead Number', 'Lead Origin', 'Lead Source', 'Do Not Email',\n",
       "       'Converted', 'TotalVisits', 'Total Time Spent on Website',\n",
       "       'Page Views Per Visit', 'Last Activity', 'Specialization',\n",
       "       'What is your current occupation',\n",
       "       'What matters most to you in choosing a course', 'Tags',\n",
       "       'A free copy of Mastering The Interview', 'Last Notable Activity'],\n",
       "      dtype='object')"
      ]
     },
     "execution_count": 71,
     "metadata": {},
     "output_type": "execute_result"
    }
   ],
   "source": [
    "# Remaining columns after categorical variable analysis are,\n",
    "data.columns"
   ]
  },
  {
   "cell_type": "code",
   "execution_count": 72,
   "metadata": {},
   "outputs": [
    {
     "data": {
      "text/plain": [
       "Lead Number                                        0\n",
       "Lead Origin                                        0\n",
       "Lead Source                                        0\n",
       "Do Not Email                                       0\n",
       "Converted                                          0\n",
       "TotalVisits                                      137\n",
       "Total Time Spent on Website                        0\n",
       "Page Views Per Visit                             137\n",
       "Last Activity                                      0\n",
       "Specialization                                     0\n",
       "What is your current occupation                    0\n",
       "What matters most to you in choosing a course      0\n",
       "Tags                                               0\n",
       "A free copy of Mastering The Interview             0\n",
       "Last Notable Activity                              0\n",
       "dtype: int64"
      ]
     },
     "execution_count": 72,
     "metadata": {},
     "output_type": "execute_result"
    }
   ],
   "source": [
    "# Check for missing values.\n",
    "data.isnull().sum()"
   ]
  },
  {
   "cell_type": "code",
   "execution_count": 73,
   "metadata": {},
   "outputs": [
    {
     "data": {
      "text/html": [
       "<div>\n",
       "<style scoped>\n",
       "    .dataframe tbody tr th:only-of-type {\n",
       "        vertical-align: middle;\n",
       "    }\n",
       "\n",
       "    .dataframe tbody tr th {\n",
       "        vertical-align: top;\n",
       "    }\n",
       "\n",
       "    .dataframe thead th {\n",
       "        text-align: right;\n",
       "    }\n",
       "</style>\n",
       "<table border=\"1\" class=\"dataframe\">\n",
       "  <thead>\n",
       "    <tr style=\"text-align: right;\">\n",
       "      <th></th>\n",
       "      <th>TotalVisits</th>\n",
       "      <th>Page Views Per Visit</th>\n",
       "    </tr>\n",
       "  </thead>\n",
       "  <tbody>\n",
       "    <tr>\n",
       "      <td>count</td>\n",
       "      <td>9103.000000</td>\n",
       "      <td>9103.000000</td>\n",
       "    </tr>\n",
       "    <tr>\n",
       "      <td>mean</td>\n",
       "      <td>3.445238</td>\n",
       "      <td>2.362820</td>\n",
       "    </tr>\n",
       "    <tr>\n",
       "      <td>std</td>\n",
       "      <td>4.854853</td>\n",
       "      <td>2.161418</td>\n",
       "    </tr>\n",
       "    <tr>\n",
       "      <td>min</td>\n",
       "      <td>0.000000</td>\n",
       "      <td>0.000000</td>\n",
       "    </tr>\n",
       "    <tr>\n",
       "      <td>25%</td>\n",
       "      <td>1.000000</td>\n",
       "      <td>1.000000</td>\n",
       "    </tr>\n",
       "    <tr>\n",
       "      <td>50%</td>\n",
       "      <td>3.000000</td>\n",
       "      <td>2.000000</td>\n",
       "    </tr>\n",
       "    <tr>\n",
       "      <td>75%</td>\n",
       "      <td>5.000000</td>\n",
       "      <td>3.000000</td>\n",
       "    </tr>\n",
       "    <tr>\n",
       "      <td>max</td>\n",
       "      <td>251.000000</td>\n",
       "      <td>55.000000</td>\n",
       "    </tr>\n",
       "  </tbody>\n",
       "</table>\n",
       "</div>"
      ],
      "text/plain": [
       "       TotalVisits  Page Views Per Visit\n",
       "count  9103.000000           9103.000000\n",
       "mean      3.445238              2.362820\n",
       "std       4.854853              2.161418\n",
       "min       0.000000              0.000000\n",
       "25%       1.000000              1.000000\n",
       "50%       3.000000              2.000000\n",
       "75%       5.000000              3.000000\n",
       "max     251.000000             55.000000"
      ]
     },
     "execution_count": 73,
     "metadata": {},
     "output_type": "execute_result"
    }
   ],
   "source": [
    "# Describing the features which are having null values\n",
    "data[['TotalVisits','Page Views Per Visit']].describe()"
   ]
  },
  {
   "cell_type": "code",
   "execution_count": 74,
   "metadata": {},
   "outputs": [],
   "source": [
    "# Impute the values of TotalVisits and Page Views Per Visit with integer value of mean. \n",
    "# Note that, these columns are integer in nature.\n",
    "data['TotalVisits'].fillna(3,inplace=True)\n",
    "data['Page Views Per Visit'].fillna(2,inplace=True)"
   ]
  },
  {
   "cell_type": "code",
   "execution_count": 75,
   "metadata": {},
   "outputs": [
    {
     "data": {
      "text/plain": [
       "Lead Number                                      0\n",
       "Lead Origin                                      0\n",
       "Lead Source                                      0\n",
       "Do Not Email                                     0\n",
       "Converted                                        0\n",
       "TotalVisits                                      0\n",
       "Total Time Spent on Website                      0\n",
       "Page Views Per Visit                             0\n",
       "Last Activity                                    0\n",
       "Specialization                                   0\n",
       "What is your current occupation                  0\n",
       "What matters most to you in choosing a course    0\n",
       "Tags                                             0\n",
       "A free copy of Mastering The Interview           0\n",
       "Last Notable Activity                            0\n",
       "dtype: int64"
      ]
     },
     "execution_count": 75,
     "metadata": {},
     "output_type": "execute_result"
    }
   ],
   "source": [
    "# Re Check for missing values.\n",
    "data.isnull().sum()"
   ]
  },
  {
   "cell_type": "markdown",
   "metadata": {},
   "source": [
    "## Step 3. Prepare the data for Modelling"
   ]
  },
  {
   "cell_type": "code",
   "execution_count": 76,
   "metadata": {},
   "outputs": [
    {
     "data": {
      "text/plain": [
       "0    61.461039\n",
       "1    38.538961\n",
       "Name: Converted, dtype: float64"
      ]
     },
     "execution_count": 76,
     "metadata": {},
     "output_type": "execute_result"
    }
   ],
   "source": [
    "# Verify Data Imbalance level\n",
    "data['Converted'].value_counts(dropna=False)*100/len(data['Converted'])"
   ]
  },
  {
   "cell_type": "code",
   "execution_count": 77,
   "metadata": {},
   "outputs": [
    {
     "data": {
      "text/plain": [
       "Lead Number                                      9240\n",
       "Lead Origin                                         4\n",
       "Lead Source                                         9\n",
       "Do Not Email                                        2\n",
       "Converted                                           2\n",
       "TotalVisits                                        41\n",
       "Total Time Spent on Website                      1731\n",
       "Page Views Per Visit                              114\n",
       "Last Activity                                      12\n",
       "Specialization                                     19\n",
       "What is your current occupation                     5\n",
       "What matters most to you in choosing a course       4\n",
       "Tags                                               13\n",
       "A free copy of Mastering The Interview              2\n",
       "Last Notable Activity                               8\n",
       "dtype: int64"
      ]
     },
     "execution_count": 77,
     "metadata": {},
     "output_type": "execute_result"
    }
   ],
   "source": [
    "data.nunique()"
   ]
  },
  {
   "cell_type": "markdown",
   "metadata": {},
   "source": [
    "### 3.1 Convert binary categorical column to numeric"
   ]
  },
  {
   "cell_type": "code",
   "execution_count": 78,
   "metadata": {},
   "outputs": [],
   "source": [
    "# Convert the columns \"Do Not Email\" and \"A free copy of Mastering The Interview\" to numeric 1 (=Yes) and 0 (=No)\n",
    "data['Do Not Email']=data['Do Not Email'].apply(lambda x:1 if x=='Yes' else 0)\n",
    "data['A free copy of Mastering The Interview']=data['A free copy of Mastering The Interview'].apply(lambda x:1 if x=='Yes' else 0)"
   ]
  },
  {
   "cell_type": "markdown",
   "metadata": {},
   "source": [
    "### 3.2 Creation of dummies for categorical columns"
   ]
  },
  {
   "cell_type": "code",
   "execution_count": 79,
   "metadata": {},
   "outputs": [
    {
     "data": {
      "text/html": [
       "<div>\n",
       "<style scoped>\n",
       "    .dataframe tbody tr th:only-of-type {\n",
       "        vertical-align: middle;\n",
       "    }\n",
       "\n",
       "    .dataframe tbody tr th {\n",
       "        vertical-align: top;\n",
       "    }\n",
       "\n",
       "    .dataframe thead th {\n",
       "        text-align: right;\n",
       "    }\n",
       "</style>\n",
       "<table border=\"1\" class=\"dataframe\">\n",
       "  <thead>\n",
       "    <tr style=\"text-align: right;\">\n",
       "      <th></th>\n",
       "      <th>Lead Number</th>\n",
       "      <th>Lead Origin</th>\n",
       "      <th>Lead Source</th>\n",
       "      <th>Do Not Email</th>\n",
       "      <th>Converted</th>\n",
       "      <th>TotalVisits</th>\n",
       "      <th>Total Time Spent on Website</th>\n",
       "      <th>Page Views Per Visit</th>\n",
       "      <th>Last Activity</th>\n",
       "      <th>Specialization</th>\n",
       "      <th>...</th>\n",
       "      <th>Tags_Other</th>\n",
       "      <th>Tags_Ringing</th>\n",
       "      <th>Tags_Will revert after reading the email</th>\n",
       "      <th>Last Notable Activity_Email Link Clicked</th>\n",
       "      <th>Last Notable Activity_Email Opened</th>\n",
       "      <th>Last Notable Activity_Modified</th>\n",
       "      <th>Last Notable Activity_Olark Chat Conversation</th>\n",
       "      <th>Last Notable Activity_Other</th>\n",
       "      <th>Last Notable Activity_Page Visited on Website</th>\n",
       "      <th>Last Notable Activity_SMS Sent</th>\n",
       "    </tr>\n",
       "  </thead>\n",
       "  <tbody>\n",
       "    <tr>\n",
       "      <td>0</td>\n",
       "      <td>660737</td>\n",
       "      <td>API</td>\n",
       "      <td>Olark Chat</td>\n",
       "      <td>0</td>\n",
       "      <td>0</td>\n",
       "      <td>0.0</td>\n",
       "      <td>0</td>\n",
       "      <td>0.0</td>\n",
       "      <td>Page Visited on Website</td>\n",
       "      <td>Unspecified</td>\n",
       "      <td>...</td>\n",
       "      <td>0</td>\n",
       "      <td>0</td>\n",
       "      <td>0</td>\n",
       "      <td>0</td>\n",
       "      <td>0</td>\n",
       "      <td>1</td>\n",
       "      <td>0</td>\n",
       "      <td>0</td>\n",
       "      <td>0</td>\n",
       "      <td>0</td>\n",
       "    </tr>\n",
       "    <tr>\n",
       "      <td>1</td>\n",
       "      <td>660728</td>\n",
       "      <td>API</td>\n",
       "      <td>Organic Search</td>\n",
       "      <td>0</td>\n",
       "      <td>0</td>\n",
       "      <td>5.0</td>\n",
       "      <td>674</td>\n",
       "      <td>2.5</td>\n",
       "      <td>Email Opened</td>\n",
       "      <td>Unspecified</td>\n",
       "      <td>...</td>\n",
       "      <td>0</td>\n",
       "      <td>1</td>\n",
       "      <td>0</td>\n",
       "      <td>0</td>\n",
       "      <td>1</td>\n",
       "      <td>0</td>\n",
       "      <td>0</td>\n",
       "      <td>0</td>\n",
       "      <td>0</td>\n",
       "      <td>0</td>\n",
       "    </tr>\n",
       "    <tr>\n",
       "      <td>2</td>\n",
       "      <td>660727</td>\n",
       "      <td>Landing Page Submission</td>\n",
       "      <td>Direct Traffic</td>\n",
       "      <td>0</td>\n",
       "      <td>1</td>\n",
       "      <td>2.0</td>\n",
       "      <td>1532</td>\n",
       "      <td>2.0</td>\n",
       "      <td>Email Opened</td>\n",
       "      <td>Business Administration</td>\n",
       "      <td>...</td>\n",
       "      <td>0</td>\n",
       "      <td>0</td>\n",
       "      <td>1</td>\n",
       "      <td>0</td>\n",
       "      <td>1</td>\n",
       "      <td>0</td>\n",
       "      <td>0</td>\n",
       "      <td>0</td>\n",
       "      <td>0</td>\n",
       "      <td>0</td>\n",
       "    </tr>\n",
       "    <tr>\n",
       "      <td>3</td>\n",
       "      <td>660719</td>\n",
       "      <td>Landing Page Submission</td>\n",
       "      <td>Direct Traffic</td>\n",
       "      <td>0</td>\n",
       "      <td>0</td>\n",
       "      <td>1.0</td>\n",
       "      <td>305</td>\n",
       "      <td>1.0</td>\n",
       "      <td>Unreachable</td>\n",
       "      <td>Media and Advertising</td>\n",
       "      <td>...</td>\n",
       "      <td>0</td>\n",
       "      <td>1</td>\n",
       "      <td>0</td>\n",
       "      <td>0</td>\n",
       "      <td>0</td>\n",
       "      <td>1</td>\n",
       "      <td>0</td>\n",
       "      <td>0</td>\n",
       "      <td>0</td>\n",
       "      <td>0</td>\n",
       "    </tr>\n",
       "    <tr>\n",
       "      <td>4</td>\n",
       "      <td>660681</td>\n",
       "      <td>Landing Page Submission</td>\n",
       "      <td>Google</td>\n",
       "      <td>0</td>\n",
       "      <td>1</td>\n",
       "      <td>2.0</td>\n",
       "      <td>1428</td>\n",
       "      <td>1.0</td>\n",
       "      <td>Converted to Lead</td>\n",
       "      <td>Unspecified</td>\n",
       "      <td>...</td>\n",
       "      <td>0</td>\n",
       "      <td>0</td>\n",
       "      <td>1</td>\n",
       "      <td>0</td>\n",
       "      <td>0</td>\n",
       "      <td>1</td>\n",
       "      <td>0</td>\n",
       "      <td>0</td>\n",
       "      <td>0</td>\n",
       "      <td>0</td>\n",
       "    </tr>\n",
       "  </tbody>\n",
       "</table>\n",
       "<p>5 rows × 81 columns</p>\n",
       "</div>"
      ],
      "text/plain": [
       "   Lead Number              Lead Origin     Lead Source  Do Not Email  \\\n",
       "0       660737                      API      Olark Chat             0   \n",
       "1       660728                      API  Organic Search             0   \n",
       "2       660727  Landing Page Submission  Direct Traffic             0   \n",
       "3       660719  Landing Page Submission  Direct Traffic             0   \n",
       "4       660681  Landing Page Submission          Google             0   \n",
       "\n",
       "   Converted  TotalVisits  Total Time Spent on Website  Page Views Per Visit  \\\n",
       "0          0          0.0                            0                   0.0   \n",
       "1          0          5.0                          674                   2.5   \n",
       "2          1          2.0                         1532                   2.0   \n",
       "3          0          1.0                          305                   1.0   \n",
       "4          1          2.0                         1428                   1.0   \n",
       "\n",
       "             Last Activity           Specialization  ... Tags_Other  \\\n",
       "0  Page Visited on Website              Unspecified  ...          0   \n",
       "1             Email Opened              Unspecified  ...          0   \n",
       "2             Email Opened  Business Administration  ...          0   \n",
       "3              Unreachable    Media and Advertising  ...          0   \n",
       "4        Converted to Lead              Unspecified  ...          0   \n",
       "\n",
       "  Tags_Ringing Tags_Will revert after reading the email  \\\n",
       "0            0                                        0   \n",
       "1            1                                        0   \n",
       "2            0                                        1   \n",
       "3            1                                        0   \n",
       "4            0                                        1   \n",
       "\n",
       "   Last Notable Activity_Email Link Clicked  \\\n",
       "0                                         0   \n",
       "1                                         0   \n",
       "2                                         0   \n",
       "3                                         0   \n",
       "4                                         0   \n",
       "\n",
       "  Last Notable Activity_Email Opened  Last Notable Activity_Modified  \\\n",
       "0                                  0                               1   \n",
       "1                                  1                               0   \n",
       "2                                  1                               0   \n",
       "3                                  0                               1   \n",
       "4                                  0                               1   \n",
       "\n",
       "   Last Notable Activity_Olark Chat Conversation  Last Notable Activity_Other  \\\n",
       "0                                              0                            0   \n",
       "1                                              0                            0   \n",
       "2                                              0                            0   \n",
       "3                                              0                            0   \n",
       "4                                              0                            0   \n",
       "\n",
       "   Last Notable Activity_Page Visited on Website  \\\n",
       "0                                              0   \n",
       "1                                              0   \n",
       "2                                              0   \n",
       "3                                              0   \n",
       "4                                              0   \n",
       "\n",
       "   Last Notable Activity_SMS Sent  \n",
       "0                               0  \n",
       "1                               0  \n",
       "2                               0  \n",
       "3                               0  \n",
       "4                               0  \n",
       "\n",
       "[5 rows x 81 columns]"
      ]
     },
     "execution_count": 79,
     "metadata": {},
     "output_type": "execute_result"
    }
   ],
   "source": [
    "# For remaining categorical values, create dummies.\n",
    "dummies = pd.get_dummies(data[['Lead Origin', 'Lead Source', 'Last Activity', 'Specialization',\n",
    "        'What is your current occupation',\n",
    "       'What matters most to you in choosing a course', 'Tags', \n",
    "            'Last Notable Activity']], drop_first=True)\n",
    "data = pd.concat([data, dummies], axis=1)\n",
    "data.head()"
   ]
  },
  {
   "cell_type": "code",
   "execution_count": 80,
   "metadata": {},
   "outputs": [],
   "source": [
    "# Since dummies created, drop original columns\n",
    "data.drop(['Lead Origin', 'Lead Source', 'Last Activity', 'Specialization',\n",
    "        'What is your current occupation',\n",
    "       'What matters most to you in choosing a course', 'Tags', \n",
    "            'Last Notable Activity'], axis=1,inplace=True)"
   ]
  },
  {
   "cell_type": "code",
   "execution_count": 81,
   "metadata": {},
   "outputs": [
    {
     "data": {
      "text/html": [
       "<div>\n",
       "<style scoped>\n",
       "    .dataframe tbody tr th:only-of-type {\n",
       "        vertical-align: middle;\n",
       "    }\n",
       "\n",
       "    .dataframe tbody tr th {\n",
       "        vertical-align: top;\n",
       "    }\n",
       "\n",
       "    .dataframe thead th {\n",
       "        text-align: right;\n",
       "    }\n",
       "</style>\n",
       "<table border=\"1\" class=\"dataframe\">\n",
       "  <thead>\n",
       "    <tr style=\"text-align: right;\">\n",
       "      <th></th>\n",
       "      <th>Lead Number</th>\n",
       "      <th>Do Not Email</th>\n",
       "      <th>Converted</th>\n",
       "      <th>TotalVisits</th>\n",
       "      <th>Total Time Spent on Website</th>\n",
       "      <th>Page Views Per Visit</th>\n",
       "      <th>A free copy of Mastering The Interview</th>\n",
       "      <th>Lead Origin_Landing Page Submission</th>\n",
       "      <th>Lead Origin_Lead Add Form</th>\n",
       "      <th>Lead Origin_Lead Import</th>\n",
       "      <th>...</th>\n",
       "      <th>Tags_Other</th>\n",
       "      <th>Tags_Ringing</th>\n",
       "      <th>Tags_Will revert after reading the email</th>\n",
       "      <th>Last Notable Activity_Email Link Clicked</th>\n",
       "      <th>Last Notable Activity_Email Opened</th>\n",
       "      <th>Last Notable Activity_Modified</th>\n",
       "      <th>Last Notable Activity_Olark Chat Conversation</th>\n",
       "      <th>Last Notable Activity_Other</th>\n",
       "      <th>Last Notable Activity_Page Visited on Website</th>\n",
       "      <th>Last Notable Activity_SMS Sent</th>\n",
       "    </tr>\n",
       "  </thead>\n",
       "  <tbody>\n",
       "    <tr>\n",
       "      <td>0</td>\n",
       "      <td>660737</td>\n",
       "      <td>0</td>\n",
       "      <td>0</td>\n",
       "      <td>0.0</td>\n",
       "      <td>0</td>\n",
       "      <td>0.0</td>\n",
       "      <td>0</td>\n",
       "      <td>0</td>\n",
       "      <td>0</td>\n",
       "      <td>0</td>\n",
       "      <td>...</td>\n",
       "      <td>0</td>\n",
       "      <td>0</td>\n",
       "      <td>0</td>\n",
       "      <td>0</td>\n",
       "      <td>0</td>\n",
       "      <td>1</td>\n",
       "      <td>0</td>\n",
       "      <td>0</td>\n",
       "      <td>0</td>\n",
       "      <td>0</td>\n",
       "    </tr>\n",
       "    <tr>\n",
       "      <td>1</td>\n",
       "      <td>660728</td>\n",
       "      <td>0</td>\n",
       "      <td>0</td>\n",
       "      <td>5.0</td>\n",
       "      <td>674</td>\n",
       "      <td>2.5</td>\n",
       "      <td>0</td>\n",
       "      <td>0</td>\n",
       "      <td>0</td>\n",
       "      <td>0</td>\n",
       "      <td>...</td>\n",
       "      <td>0</td>\n",
       "      <td>1</td>\n",
       "      <td>0</td>\n",
       "      <td>0</td>\n",
       "      <td>1</td>\n",
       "      <td>0</td>\n",
       "      <td>0</td>\n",
       "      <td>0</td>\n",
       "      <td>0</td>\n",
       "      <td>0</td>\n",
       "    </tr>\n",
       "    <tr>\n",
       "      <td>2</td>\n",
       "      <td>660727</td>\n",
       "      <td>0</td>\n",
       "      <td>1</td>\n",
       "      <td>2.0</td>\n",
       "      <td>1532</td>\n",
       "      <td>2.0</td>\n",
       "      <td>1</td>\n",
       "      <td>1</td>\n",
       "      <td>0</td>\n",
       "      <td>0</td>\n",
       "      <td>...</td>\n",
       "      <td>0</td>\n",
       "      <td>0</td>\n",
       "      <td>1</td>\n",
       "      <td>0</td>\n",
       "      <td>1</td>\n",
       "      <td>0</td>\n",
       "      <td>0</td>\n",
       "      <td>0</td>\n",
       "      <td>0</td>\n",
       "      <td>0</td>\n",
       "    </tr>\n",
       "    <tr>\n",
       "      <td>3</td>\n",
       "      <td>660719</td>\n",
       "      <td>0</td>\n",
       "      <td>0</td>\n",
       "      <td>1.0</td>\n",
       "      <td>305</td>\n",
       "      <td>1.0</td>\n",
       "      <td>0</td>\n",
       "      <td>1</td>\n",
       "      <td>0</td>\n",
       "      <td>0</td>\n",
       "      <td>...</td>\n",
       "      <td>0</td>\n",
       "      <td>1</td>\n",
       "      <td>0</td>\n",
       "      <td>0</td>\n",
       "      <td>0</td>\n",
       "      <td>1</td>\n",
       "      <td>0</td>\n",
       "      <td>0</td>\n",
       "      <td>0</td>\n",
       "      <td>0</td>\n",
       "    </tr>\n",
       "    <tr>\n",
       "      <td>4</td>\n",
       "      <td>660681</td>\n",
       "      <td>0</td>\n",
       "      <td>1</td>\n",
       "      <td>2.0</td>\n",
       "      <td>1428</td>\n",
       "      <td>1.0</td>\n",
       "      <td>0</td>\n",
       "      <td>1</td>\n",
       "      <td>0</td>\n",
       "      <td>0</td>\n",
       "      <td>...</td>\n",
       "      <td>0</td>\n",
       "      <td>0</td>\n",
       "      <td>1</td>\n",
       "      <td>0</td>\n",
       "      <td>0</td>\n",
       "      <td>1</td>\n",
       "      <td>0</td>\n",
       "      <td>0</td>\n",
       "      <td>0</td>\n",
       "      <td>0</td>\n",
       "    </tr>\n",
       "  </tbody>\n",
       "</table>\n",
       "<p>5 rows × 73 columns</p>\n",
       "</div>"
      ],
      "text/plain": [
       "   Lead Number  Do Not Email  Converted  TotalVisits  \\\n",
       "0       660737             0          0          0.0   \n",
       "1       660728             0          0          5.0   \n",
       "2       660727             0          1          2.0   \n",
       "3       660719             0          0          1.0   \n",
       "4       660681             0          1          2.0   \n",
       "\n",
       "   Total Time Spent on Website  Page Views Per Visit  \\\n",
       "0                            0                   0.0   \n",
       "1                          674                   2.5   \n",
       "2                         1532                   2.0   \n",
       "3                          305                   1.0   \n",
       "4                         1428                   1.0   \n",
       "\n",
       "   A free copy of Mastering The Interview  \\\n",
       "0                                       0   \n",
       "1                                       0   \n",
       "2                                       1   \n",
       "3                                       0   \n",
       "4                                       0   \n",
       "\n",
       "   Lead Origin_Landing Page Submission  Lead Origin_Lead Add Form  \\\n",
       "0                                    0                          0   \n",
       "1                                    0                          0   \n",
       "2                                    1                          0   \n",
       "3                                    1                          0   \n",
       "4                                    1                          0   \n",
       "\n",
       "   Lead Origin_Lead Import  ...  Tags_Other  Tags_Ringing  \\\n",
       "0                        0  ...           0             0   \n",
       "1                        0  ...           0             1   \n",
       "2                        0  ...           0             0   \n",
       "3                        0  ...           0             1   \n",
       "4                        0  ...           0             0   \n",
       "\n",
       "   Tags_Will revert after reading the email  \\\n",
       "0                                         0   \n",
       "1                                         0   \n",
       "2                                         1   \n",
       "3                                         0   \n",
       "4                                         1   \n",
       "\n",
       "   Last Notable Activity_Email Link Clicked  \\\n",
       "0                                         0   \n",
       "1                                         0   \n",
       "2                                         0   \n",
       "3                                         0   \n",
       "4                                         0   \n",
       "\n",
       "   Last Notable Activity_Email Opened  Last Notable Activity_Modified  \\\n",
       "0                                   0                               1   \n",
       "1                                   1                               0   \n",
       "2                                   1                               0   \n",
       "3                                   0                               1   \n",
       "4                                   0                               1   \n",
       "\n",
       "   Last Notable Activity_Olark Chat Conversation  Last Notable Activity_Other  \\\n",
       "0                                              0                            0   \n",
       "1                                              0                            0   \n",
       "2                                              0                            0   \n",
       "3                                              0                            0   \n",
       "4                                              0                            0   \n",
       "\n",
       "   Last Notable Activity_Page Visited on Website  \\\n",
       "0                                              0   \n",
       "1                                              0   \n",
       "2                                              0   \n",
       "3                                              0   \n",
       "4                                              0   \n",
       "\n",
       "   Last Notable Activity_SMS Sent  \n",
       "0                               0  \n",
       "1                               0  \n",
       "2                               0  \n",
       "3                               0  \n",
       "4                               0  \n",
       "\n",
       "[5 rows x 73 columns]"
      ]
     },
     "execution_count": 81,
     "metadata": {},
     "output_type": "execute_result"
    }
   ],
   "source": [
    "# Re check the data set\n",
    "data.head()"
   ]
  },
  {
   "cell_type": "markdown",
   "metadata": {},
   "source": [
    "### 3.3 Handling Numerical Columns Outliers"
   ]
  },
  {
   "cell_type": "code",
   "execution_count": 82,
   "metadata": {},
   "outputs": [
    {
     "data": {
      "image/png": "[encoded data removed]",
      "text/plain": [
       "<Figure size 2160x720 with 3 Axes>"
      ]
     },
     "metadata": {
      "needs_background": "light"
     },
     "output_type": "display_data"
    }
   ],
   "source": [
    "# Numerical columns in data are:\n",
    "# TotalVisits\n",
    "# Total Time Spent on Website\n",
    "# Page Views Per Visit\n",
    "plt.figure(figsize=[30,10])\n",
    "plt.subplot(1,3,1)\n",
    "sns.boxplot(data['TotalVisits'])\n",
    "plt.subplot(1,3,2)\n",
    "sns.boxplot(data['Total Time Spent on Website'])\n",
    "plt.subplot(1,3,3)\n",
    "sns.boxplot(data['Page Views Per Visit'])\n",
    "plt.show()"
   ]
  },
  {
   "cell_type": "code",
   "execution_count": 83,
   "metadata": {},
   "outputs": [],
   "source": [
    "# There are few outliers on both total visits and page views per visit.\n",
    "# For analysis purpose, we will drop these based on TotalVisits.\n",
    "totalvisits_99p = data['TotalVisits'].quantile(0.99)\n",
    "data = data[data['TotalVisits'] <= totalvisits_99p]"
   ]
  },
  {
   "cell_type": "code",
   "execution_count": 84,
   "metadata": {},
   "outputs": [
    {
     "data": {
      "image/png": "[encoded data removed]",
      "text/plain": [
       "<Figure size 2160x720 with 3 Axes>"
      ]
     },
     "metadata": {
      "needs_background": "light"
     },
     "output_type": "display_data"
    }
   ],
   "source": [
    "# Re plot the numerical columns after hanlding outliers\n",
    "# TotalVisits\n",
    "# Total Time Spent on Website\n",
    "# Page Views Per Visit\n",
    "plt.figure(figsize=[30,10])\n",
    "plt.subplot(1,3,1)\n",
    "sns.boxplot(data['TotalVisits'])\n",
    "plt.subplot(1,3,2)\n",
    "sns.boxplot(data['Total Time Spent on Website'])\n",
    "plt.subplot(1,3,3)\n",
    "sns.boxplot(data['Page Views Per Visit'])\n",
    "plt.show()"
   ]
  },
  {
   "cell_type": "code",
   "execution_count": 85,
   "metadata": {},
   "outputs": [
    {
     "data": {
      "text/plain": [
       "(9157, 73)"
      ]
     },
     "execution_count": 85,
     "metadata": {},
     "output_type": "execute_result"
    }
   ],
   "source": [
    "data.shape"
   ]
  },
  {
   "cell_type": "markdown",
   "metadata": {},
   "source": [
    "### 3.4 Perform Train-Test split"
   ]
  },
  {
   "cell_type": "code",
   "execution_count": 86,
   "metadata": {},
   "outputs": [
    {
     "data": {
      "text/html": [
       "<div>\n",
       "<style scoped>\n",
       "    .dataframe tbody tr th:only-of-type {\n",
       "        vertical-align: middle;\n",
       "    }\n",
       "\n",
       "    .dataframe tbody tr th {\n",
       "        vertical-align: top;\n",
       "    }\n",
       "\n",
       "    .dataframe thead th {\n",
       "        text-align: right;\n",
       "    }\n",
       "</style>\n",
       "<table border=\"1\" class=\"dataframe\">\n",
       "  <thead>\n",
       "    <tr style=\"text-align: right;\">\n",
       "      <th></th>\n",
       "      <th>Lead Number</th>\n",
       "      <th>Do Not Email</th>\n",
       "      <th>Converted</th>\n",
       "      <th>TotalVisits</th>\n",
       "      <th>Total Time Spent on Website</th>\n",
       "      <th>Page Views Per Visit</th>\n",
       "      <th>A free copy of Mastering The Interview</th>\n",
       "      <th>Lead Origin_Landing Page Submission</th>\n",
       "      <th>Lead Origin_Lead Add Form</th>\n",
       "      <th>Lead Origin_Lead Import</th>\n",
       "      <th>...</th>\n",
       "      <th>Tags_Other</th>\n",
       "      <th>Tags_Ringing</th>\n",
       "      <th>Tags_Will revert after reading the email</th>\n",
       "      <th>Last Notable Activity_Email Link Clicked</th>\n",
       "      <th>Last Notable Activity_Email Opened</th>\n",
       "      <th>Last Notable Activity_Modified</th>\n",
       "      <th>Last Notable Activity_Olark Chat Conversation</th>\n",
       "      <th>Last Notable Activity_Other</th>\n",
       "      <th>Last Notable Activity_Page Visited on Website</th>\n",
       "      <th>Last Notable Activity_SMS Sent</th>\n",
       "    </tr>\n",
       "  </thead>\n",
       "  <tbody>\n",
       "    <tr>\n",
       "      <td>0</td>\n",
       "      <td>660737</td>\n",
       "      <td>0</td>\n",
       "      <td>0</td>\n",
       "      <td>0.0</td>\n",
       "      <td>0</td>\n",
       "      <td>0.0</td>\n",
       "      <td>0</td>\n",
       "      <td>0</td>\n",
       "      <td>0</td>\n",
       "      <td>0</td>\n",
       "      <td>...</td>\n",
       "      <td>0</td>\n",
       "      <td>0</td>\n",
       "      <td>0</td>\n",
       "      <td>0</td>\n",
       "      <td>0</td>\n",
       "      <td>1</td>\n",
       "      <td>0</td>\n",
       "      <td>0</td>\n",
       "      <td>0</td>\n",
       "      <td>0</td>\n",
       "    </tr>\n",
       "    <tr>\n",
       "      <td>1</td>\n",
       "      <td>660728</td>\n",
       "      <td>0</td>\n",
       "      <td>0</td>\n",
       "      <td>5.0</td>\n",
       "      <td>674</td>\n",
       "      <td>2.5</td>\n",
       "      <td>0</td>\n",
       "      <td>0</td>\n",
       "      <td>0</td>\n",
       "      <td>0</td>\n",
       "      <td>...</td>\n",
       "      <td>0</td>\n",
       "      <td>1</td>\n",
       "      <td>0</td>\n",
       "      <td>0</td>\n",
       "      <td>1</td>\n",
       "      <td>0</td>\n",
       "      <td>0</td>\n",
       "      <td>0</td>\n",
       "      <td>0</td>\n",
       "      <td>0</td>\n",
       "    </tr>\n",
       "    <tr>\n",
       "      <td>2</td>\n",
       "      <td>660727</td>\n",
       "      <td>0</td>\n",
       "      <td>1</td>\n",
       "      <td>2.0</td>\n",
       "      <td>1532</td>\n",
       "      <td>2.0</td>\n",
       "      <td>1</td>\n",
       "      <td>1</td>\n",
       "      <td>0</td>\n",
       "      <td>0</td>\n",
       "      <td>...</td>\n",
       "      <td>0</td>\n",
       "      <td>0</td>\n",
       "      <td>1</td>\n",
       "      <td>0</td>\n",
       "      <td>1</td>\n",
       "      <td>0</td>\n",
       "      <td>0</td>\n",
       "      <td>0</td>\n",
       "      <td>0</td>\n",
       "      <td>0</td>\n",
       "    </tr>\n",
       "    <tr>\n",
       "      <td>3</td>\n",
       "      <td>660719</td>\n",
       "      <td>0</td>\n",
       "      <td>0</td>\n",
       "      <td>1.0</td>\n",
       "      <td>305</td>\n",
       "      <td>1.0</td>\n",
       "      <td>0</td>\n",
       "      <td>1</td>\n",
       "      <td>0</td>\n",
       "      <td>0</td>\n",
       "      <td>...</td>\n",
       "      <td>0</td>\n",
       "      <td>1</td>\n",
       "      <td>0</td>\n",
       "      <td>0</td>\n",
       "      <td>0</td>\n",
       "      <td>1</td>\n",
       "      <td>0</td>\n",
       "      <td>0</td>\n",
       "      <td>0</td>\n",
       "      <td>0</td>\n",
       "    </tr>\n",
       "    <tr>\n",
       "      <td>4</td>\n",
       "      <td>660681</td>\n",
       "      <td>0</td>\n",
       "      <td>1</td>\n",
       "      <td>2.0</td>\n",
       "      <td>1428</td>\n",
       "      <td>1.0</td>\n",
       "      <td>0</td>\n",
       "      <td>1</td>\n",
       "      <td>0</td>\n",
       "      <td>0</td>\n",
       "      <td>...</td>\n",
       "      <td>0</td>\n",
       "      <td>0</td>\n",
       "      <td>1</td>\n",
       "      <td>0</td>\n",
       "      <td>0</td>\n",
       "      <td>1</td>\n",
       "      <td>0</td>\n",
       "      <td>0</td>\n",
       "      <td>0</td>\n",
       "      <td>0</td>\n",
       "    </tr>\n",
       "  </tbody>\n",
       "</table>\n",
       "<p>5 rows × 73 columns</p>\n",
       "</div>"
      ],
      "text/plain": [
       "   Lead Number  Do Not Email  Converted  TotalVisits  \\\n",
       "0       660737             0          0          0.0   \n",
       "1       660728             0          0          5.0   \n",
       "2       660727             0          1          2.0   \n",
       "3       660719             0          0          1.0   \n",
       "4       660681             0          1          2.0   \n",
       "\n",
       "   Total Time Spent on Website  Page Views Per Visit  \\\n",
       "0                            0                   0.0   \n",
       "1                          674                   2.5   \n",
       "2                         1532                   2.0   \n",
       "3                          305                   1.0   \n",
       "4                         1428                   1.0   \n",
       "\n",
       "   A free copy of Mastering The Interview  \\\n",
       "0                                       0   \n",
       "1                                       0   \n",
       "2                                       1   \n",
       "3                                       0   \n",
       "4                                       0   \n",
       "\n",
       "   Lead Origin_Landing Page Submission  Lead Origin_Lead Add Form  \\\n",
       "0                                    0                          0   \n",
       "1                                    0                          0   \n",
       "2                                    1                          0   \n",
       "3                                    1                          0   \n",
       "4                                    1                          0   \n",
       "\n",
       "   Lead Origin_Lead Import  ...  Tags_Other  Tags_Ringing  \\\n",
       "0                        0  ...           0             0   \n",
       "1                        0  ...           0             1   \n",
       "2                        0  ...           0             0   \n",
       "3                        0  ...           0             1   \n",
       "4                        0  ...           0             0   \n",
       "\n",
       "   Tags_Will revert after reading the email  \\\n",
       "0                                         0   \n",
       "1                                         0   \n",
       "2                                         1   \n",
       "3                                         0   \n",
       "4                                         1   \n",
       "\n",
       "   Last Notable Activity_Email Link Clicked  \\\n",
       "0                                         0   \n",
       "1                                         0   \n",
       "2                                         0   \n",
       "3                                         0   \n",
       "4                                         0   \n",
       "\n",
       "   Last Notable Activity_Email Opened  Last Notable Activity_Modified  \\\n",
       "0                                   0                               1   \n",
       "1                                   1                               0   \n",
       "2                                   1                               0   \n",
       "3                                   0                               1   \n",
       "4                                   0                               1   \n",
       "\n",
       "   Last Notable Activity_Olark Chat Conversation  Last Notable Activity_Other  \\\n",
       "0                                              0                            0   \n",
       "1                                              0                            0   \n",
       "2                                              0                            0   \n",
       "3                                              0                            0   \n",
       "4                                              0                            0   \n",
       "\n",
       "   Last Notable Activity_Page Visited on Website  \\\n",
       "0                                              0   \n",
       "1                                              0   \n",
       "2                                              0   \n",
       "3                                              0   \n",
       "4                                              0   \n",
       "\n",
       "   Last Notable Activity_SMS Sent  \n",
       "0                               0  \n",
       "1                               0  \n",
       "2                               0  \n",
       "3                               0  \n",
       "4                               0  \n",
       "\n",
       "[5 rows x 73 columns]"
      ]
     },
     "execution_count": 86,
     "metadata": {},
     "output_type": "execute_result"
    }
   ],
   "source": [
    "# Reviweing the head of the data set before proceeding with Train / Test Split\n",
    "data.head()"
   ]
  },
  {
   "cell_type": "markdown",
   "metadata": {},
   "source": [
    "#### We Can observe, except the below features, all others are having values as 0 or 1\n",
    "1. Lead Number - <b>Not required for Model building</b>\n",
    "2. Converted -  <b>Target Feature</b>\n",
    "3. TotalVisits - <b>Need to scale the feature</b>\n",
    "4. Total Time Spent on Website - <b>Need to scale the feature</b>\n",
    "3. Page Views Per Visit - <b>Need to scale the feature</b>  \n"
   ]
  },
  {
   "cell_type": "code",
   "execution_count": 87,
   "metadata": {},
   "outputs": [],
   "source": [
    "# Import Sklearn libraries\n",
    "from sklearn.model_selection import train_test_split\n",
    "from sklearn.preprocessing import StandardScaler\n",
    "# Excluding Lead Number and Converted features to build the model\n",
    "feature_cols = [x for x in data.columns if ((x!='Converted') and (x!='Lead Number'))]\n",
    "X = data[feature_cols]\n",
    "y = data['Converted']\n",
    "RAND_STATE = 100\n",
    "TRAIN_SIZE = 0.7\n",
    "\n",
    "# Train, Test Split\n",
    "X_train, X_test, y_train, y_test = train_test_split(X, y, train_size=TRAIN_SIZE, random_state=RAND_STATE)"
   ]
  },
  {
   "cell_type": "markdown",
   "metadata": {},
   "source": [
    "### 3.5 Perform Scaling"
   ]
  },
  {
   "cell_type": "code",
   "execution_count": 88,
   "metadata": {
    "scrolled": true
   },
   "outputs": [
    {
     "data": {
      "text/html": [
       "<div>\n",
       "<style scoped>\n",
       "    .dataframe tbody tr th:only-of-type {\n",
       "        vertical-align: middle;\n",
       "    }\n",
       "\n",
       "    .dataframe tbody tr th {\n",
       "        vertical-align: top;\n",
       "    }\n",
       "\n",
       "    .dataframe thead th {\n",
       "        text-align: right;\n",
       "    }\n",
       "</style>\n",
       "<table border=\"1\" class=\"dataframe\">\n",
       "  <thead>\n",
       "    <tr style=\"text-align: right;\">\n",
       "      <th></th>\n",
       "      <th>Do Not Email</th>\n",
       "      <th>TotalVisits</th>\n",
       "      <th>Total Time Spent on Website</th>\n",
       "      <th>Page Views Per Visit</th>\n",
       "      <th>A free copy of Mastering The Interview</th>\n",
       "      <th>Lead Origin_Landing Page Submission</th>\n",
       "      <th>Lead Origin_Lead Add Form</th>\n",
       "      <th>Lead Origin_Lead Import</th>\n",
       "      <th>Lead Source_Facebook</th>\n",
       "      <th>Lead Source_Google</th>\n",
       "      <th>...</th>\n",
       "      <th>Tags_Other</th>\n",
       "      <th>Tags_Ringing</th>\n",
       "      <th>Tags_Will revert after reading the email</th>\n",
       "      <th>Last Notable Activity_Email Link Clicked</th>\n",
       "      <th>Last Notable Activity_Email Opened</th>\n",
       "      <th>Last Notable Activity_Modified</th>\n",
       "      <th>Last Notable Activity_Olark Chat Conversation</th>\n",
       "      <th>Last Notable Activity_Other</th>\n",
       "      <th>Last Notable Activity_Page Visited on Website</th>\n",
       "      <th>Last Notable Activity_SMS Sent</th>\n",
       "    </tr>\n",
       "  </thead>\n",
       "  <tbody>\n",
       "    <tr>\n",
       "      <td>6490</td>\n",
       "      <td>0</td>\n",
       "      <td>-0.744597</td>\n",
       "      <td>-0.831303</td>\n",
       "      <td>-0.647913</td>\n",
       "      <td>0</td>\n",
       "      <td>0</td>\n",
       "      <td>0</td>\n",
       "      <td>0</td>\n",
       "      <td>0</td>\n",
       "      <td>1</td>\n",
       "      <td>...</td>\n",
       "      <td>0</td>\n",
       "      <td>0</td>\n",
       "      <td>0</td>\n",
       "      <td>0</td>\n",
       "      <td>0</td>\n",
       "      <td>1</td>\n",
       "      <td>0</td>\n",
       "      <td>0</td>\n",
       "      <td>0</td>\n",
       "      <td>0</td>\n",
       "    </tr>\n",
       "    <tr>\n",
       "      <td>4026</td>\n",
       "      <td>1</td>\n",
       "      <td>-0.069711</td>\n",
       "      <td>-0.578290</td>\n",
       "      <td>-0.405762</td>\n",
       "      <td>0</td>\n",
       "      <td>0</td>\n",
       "      <td>0</td>\n",
       "      <td>0</td>\n",
       "      <td>0</td>\n",
       "      <td>1</td>\n",
       "      <td>...</td>\n",
       "      <td>0</td>\n",
       "      <td>0</td>\n",
       "      <td>0</td>\n",
       "      <td>0</td>\n",
       "      <td>0</td>\n",
       "      <td>0</td>\n",
       "      <td>0</td>\n",
       "      <td>0</td>\n",
       "      <td>0</td>\n",
       "      <td>1</td>\n",
       "    </tr>\n",
       "    <tr>\n",
       "      <td>6453</td>\n",
       "      <td>0</td>\n",
       "      <td>2.967279</td>\n",
       "      <td>-0.130933</td>\n",
       "      <td>1.773595</td>\n",
       "      <td>1</td>\n",
       "      <td>1</td>\n",
       "      <td>0</td>\n",
       "      <td>0</td>\n",
       "      <td>0</td>\n",
       "      <td>0</td>\n",
       "      <td>...</td>\n",
       "      <td>0</td>\n",
       "      <td>0</td>\n",
       "      <td>0</td>\n",
       "      <td>0</td>\n",
       "      <td>0</td>\n",
       "      <td>0</td>\n",
       "      <td>0</td>\n",
       "      <td>0</td>\n",
       "      <td>0</td>\n",
       "      <td>1</td>\n",
       "    </tr>\n",
       "    <tr>\n",
       "      <td>8949</td>\n",
       "      <td>0</td>\n",
       "      <td>0.942619</td>\n",
       "      <td>-0.594791</td>\n",
       "      <td>-0.405762</td>\n",
       "      <td>0</td>\n",
       "      <td>1</td>\n",
       "      <td>0</td>\n",
       "      <td>0</td>\n",
       "      <td>0</td>\n",
       "      <td>1</td>\n",
       "      <td>...</td>\n",
       "      <td>0</td>\n",
       "      <td>0</td>\n",
       "      <td>1</td>\n",
       "      <td>0</td>\n",
       "      <td>1</td>\n",
       "      <td>0</td>\n",
       "      <td>0</td>\n",
       "      <td>0</td>\n",
       "      <td>0</td>\n",
       "      <td>0</td>\n",
       "    </tr>\n",
       "    <tr>\n",
       "      <td>6467</td>\n",
       "      <td>0</td>\n",
       "      <td>2.629836</td>\n",
       "      <td>-0.767133</td>\n",
       "      <td>4.195103</td>\n",
       "      <td>1</td>\n",
       "      <td>1</td>\n",
       "      <td>0</td>\n",
       "      <td>0</td>\n",
       "      <td>0</td>\n",
       "      <td>1</td>\n",
       "      <td>...</td>\n",
       "      <td>0</td>\n",
       "      <td>1</td>\n",
       "      <td>0</td>\n",
       "      <td>0</td>\n",
       "      <td>0</td>\n",
       "      <td>0</td>\n",
       "      <td>0</td>\n",
       "      <td>0</td>\n",
       "      <td>0</td>\n",
       "      <td>1</td>\n",
       "    </tr>\n",
       "  </tbody>\n",
       "</table>\n",
       "<p>5 rows × 71 columns</p>\n",
       "</div>"
      ],
      "text/plain": [
       "      Do Not Email  TotalVisits  Total Time Spent on Website  \\\n",
       "6490             0    -0.744597                    -0.831303   \n",
       "4026             1    -0.069711                    -0.578290   \n",
       "6453             0     2.967279                    -0.130933   \n",
       "8949             0     0.942619                    -0.594791   \n",
       "6467             0     2.629836                    -0.767133   \n",
       "\n",
       "      Page Views Per Visit  A free copy of Mastering The Interview  \\\n",
       "6490             -0.647913                                       0   \n",
       "4026             -0.405762                                       0   \n",
       "6453              1.773595                                       1   \n",
       "8949             -0.405762                                       0   \n",
       "6467              4.195103                                       1   \n",
       "\n",
       "      Lead Origin_Landing Page Submission  Lead Origin_Lead Add Form  \\\n",
       "6490                                    0                          0   \n",
       "4026                                    0                          0   \n",
       "6453                                    1                          0   \n",
       "8949                                    1                          0   \n",
       "6467                                    1                          0   \n",
       "\n",
       "      Lead Origin_Lead Import  Lead Source_Facebook  Lead Source_Google  ...  \\\n",
       "6490                        0                     0                   1  ...   \n",
       "4026                        0                     0                   1  ...   \n",
       "6453                        0                     0                   0  ...   \n",
       "8949                        0                     0                   1  ...   \n",
       "6467                        0                     0                   1  ...   \n",
       "\n",
       "      Tags_Other  Tags_Ringing  Tags_Will revert after reading the email  \\\n",
       "6490           0             0                                         0   \n",
       "4026           0             0                                         0   \n",
       "6453           0             0                                         0   \n",
       "8949           0             0                                         1   \n",
       "6467           0             1                                         0   \n",
       "\n",
       "      Last Notable Activity_Email Link Clicked  \\\n",
       "6490                                         0   \n",
       "4026                                         0   \n",
       "6453                                         0   \n",
       "8949                                         0   \n",
       "6467                                         0   \n",
       "\n",
       "      Last Notable Activity_Email Opened  Last Notable Activity_Modified  \\\n",
       "6490                                   0                               1   \n",
       "4026                                   0                               0   \n",
       "6453                                   0                               0   \n",
       "8949                                   1                               0   \n",
       "6467                                   0                               0   \n",
       "\n",
       "      Last Notable Activity_Olark Chat Conversation  \\\n",
       "6490                                              0   \n",
       "4026                                              0   \n",
       "6453                                              0   \n",
       "8949                                              0   \n",
       "6467                                              0   \n",
       "\n",
       "      Last Notable Activity_Other  \\\n",
       "6490                            0   \n",
       "4026                            0   \n",
       "6453                            0   \n",
       "8949                            0   \n",
       "6467                            0   \n",
       "\n",
       "      Last Notable Activity_Page Visited on Website  \\\n",
       "6490                                              0   \n",
       "4026                                              0   \n",
       "6453                                              0   \n",
       "8949                                              0   \n",
       "6467                                              0   \n",
       "\n",
       "      Last Notable Activity_SMS Sent  \n",
       "6490                               0  \n",
       "4026                               1  \n",
       "6453                               1  \n",
       "8949                               0  \n",
       "6467                               1  \n",
       "\n",
       "[5 rows x 71 columns]"
      ]
     },
     "execution_count": 88,
     "metadata": {},
     "output_type": "execute_result"
    }
   ],
   "source": [
    "# We also must scale all numeric columns\n",
    "import warnings\n",
    "warnings.filterwarnings('ignore')\n",
    "num_cols = ['TotalVisits', 'Total Time Spent on Website', 'Page Views Per Visit']\n",
    "scaler = StandardScaler() # Can be reused for scaling test data.\n",
    "X_train[num_cols] = scaler.fit_transform(X_train[num_cols])\n",
    "X_train.head()"
   ]
  },
  {
   "cell_type": "markdown",
   "metadata": {},
   "source": [
    "## Step 4: Modelling"
   ]
  },
  {
   "cell_type": "markdown",
   "metadata": {},
   "source": [
    "### 4.1 Buliding Logistic Regression Model on all the features"
   ]
  },
  {
   "cell_type": "code",
   "execution_count": 89,
   "metadata": {},
   "outputs": [
    {
     "data": {
      "text/html": [
       "<table class=\"simpletable\">\n",
       "<caption>Generalized Linear Model Regression Results</caption>\n",
       "<tr>\n",
       "  <th>Dep. Variable:</th>       <td>Converted</td>    <th>  No. Observations:  </th>  <td>  6409</td> \n",
       "</tr>\n",
       "<tr>\n",
       "  <th>Model:</th>                  <td>GLM</td>       <th>  Df Residuals:      </th>  <td>  6337</td> \n",
       "</tr>\n",
       "<tr>\n",
       "  <th>Model Family:</th>        <td>Binomial</td>     <th>  Df Model:          </th>  <td>    71</td> \n",
       "</tr>\n",
       "<tr>\n",
       "  <th>Link Function:</th>         <td>logit</td>      <th>  Scale:             </th> <td>  1.0000</td>\n",
       "</tr>\n",
       "<tr>\n",
       "  <th>Method:</th>                <td>IRLS</td>       <th>  Log-Likelihood:    </th> <td> -1147.9</td>\n",
       "</tr>\n",
       "<tr>\n",
       "  <th>Date:</th>            <td>Sun, 06 Sep 2020</td> <th>  Deviance:          </th> <td>  2295.9</td>\n",
       "</tr>\n",
       "<tr>\n",
       "  <th>Time:</th>                <td>19:41:09</td>     <th>  Pearson chi2:      </th> <td>9.82e+03</td>\n",
       "</tr>\n",
       "<tr>\n",
       "  <th>No. Iterations:</th>         <td>21</td>        <th>                     </th>     <td> </td>   \n",
       "</tr>\n",
       "<tr>\n",
       "  <th>Covariance Type:</th>     <td>nonrobust</td>    <th>                     </th>     <td> </td>   \n",
       "</tr>\n",
       "</table>\n",
       "<table class=\"simpletable\">\n",
       "<tr>\n",
       "                                     <td></td>                                        <th>coef</th>     <th>std err</th>      <th>z</th>      <th>P>|z|</th>  <th>[0.025</th>    <th>0.975]</th>  \n",
       "</tr>\n",
       "<tr>\n",
       "  <th>const</th>                                                                   <td>   -4.9429</td> <td>    1.572</td> <td>   -3.144</td> <td> 0.002</td> <td>   -8.025</td> <td>   -1.861</td>\n",
       "</tr>\n",
       "<tr>\n",
       "  <th>Do Not Email</th>                                                            <td>   -1.0670</td> <td>    0.298</td> <td>   -3.577</td> <td> 0.000</td> <td>   -1.652</td> <td>   -0.482</td>\n",
       "</tr>\n",
       "<tr>\n",
       "  <th>TotalVisits</th>                                                             <td>    0.2298</td> <td>    0.089</td> <td>    2.570</td> <td> 0.010</td> <td>    0.055</td> <td>    0.405</td>\n",
       "</tr>\n",
       "<tr>\n",
       "  <th>Total Time Spent on Website</th>                                             <td>    1.0566</td> <td>    0.065</td> <td>   16.153</td> <td> 0.000</td> <td>    0.928</td> <td>    1.185</td>\n",
       "</tr>\n",
       "<tr>\n",
       "  <th>Page Views Per Visit</th>                                                    <td>   -0.1210</td> <td>    0.091</td> <td>   -1.331</td> <td> 0.183</td> <td>   -0.299</td> <td>    0.057</td>\n",
       "</tr>\n",
       "<tr>\n",
       "  <th>A free copy of Mastering The Interview</th>                                  <td>   -0.2483</td> <td>    0.185</td> <td>   -1.345</td> <td> 0.179</td> <td>   -0.610</td> <td>    0.114</td>\n",
       "</tr>\n",
       "<tr>\n",
       "  <th>Lead Origin_Landing Page Submission</th>                                     <td>   -0.1884</td> <td>    0.247</td> <td>   -0.763</td> <td> 0.446</td> <td>   -0.672</td> <td>    0.296</td>\n",
       "</tr>\n",
       "<tr>\n",
       "  <th>Lead Origin_Lead Add Form</th>                                               <td>    1.2358</td> <td>    1.472</td> <td>    0.839</td> <td> 0.401</td> <td>   -1.650</td> <td>    4.121</td>\n",
       "</tr>\n",
       "<tr>\n",
       "  <th>Lead Origin_Lead Import</th>                                                 <td>   21.2562</td> <td> 4.82e+04</td> <td>    0.000</td> <td> 1.000</td> <td>-9.44e+04</td> <td> 9.45e+04</td>\n",
       "</tr>\n",
       "<tr>\n",
       "  <th>Lead Source_Facebook</th>                                                    <td>  -21.5660</td> <td> 4.82e+04</td> <td>   -0.000</td> <td> 1.000</td> <td>-9.45e+04</td> <td> 9.44e+04</td>\n",
       "</tr>\n",
       "<tr>\n",
       "  <th>Lead Source_Google</th>                                                      <td>    0.0392</td> <td>    0.191</td> <td>    0.205</td> <td> 0.837</td> <td>   -0.335</td> <td>    0.413</td>\n",
       "</tr>\n",
       "<tr>\n",
       "  <th>Lead Source_Olark Chat</th>                                                  <td>    1.1886</td> <td>    0.259</td> <td>    4.582</td> <td> 0.000</td> <td>    0.680</td> <td>    1.697</td>\n",
       "</tr>\n",
       "<tr>\n",
       "  <th>Lead Source_Organic Search</th>                                              <td>    0.1008</td> <td>    0.217</td> <td>    0.465</td> <td> 0.642</td> <td>   -0.324</td> <td>    0.526</td>\n",
       "</tr>\n",
       "<tr>\n",
       "  <th>Lead Source_Other</th>                                                       <td>    0.9857</td> <td>    1.098</td> <td>    0.898</td> <td> 0.369</td> <td>   -1.166</td> <td>    3.137</td>\n",
       "</tr>\n",
       "<tr>\n",
       "  <th>Lead Source_Reference</th>                                                   <td>   -0.3904</td> <td>    1.511</td> <td>   -0.258</td> <td> 0.796</td> <td>   -3.351</td> <td>    2.571</td>\n",
       "</tr>\n",
       "<tr>\n",
       "  <th>Lead Source_Referral Sites</th>                                              <td>   -0.0342</td> <td>    0.498</td> <td>   -0.069</td> <td> 0.945</td> <td>   -1.011</td> <td>    0.942</td>\n",
       "</tr>\n",
       "<tr>\n",
       "  <th>Lead Source_Welingak Website</th>                                            <td>    2.5960</td> <td>    1.637</td> <td>    1.586</td> <td> 0.113</td> <td>   -0.611</td> <td>    5.804</td>\n",
       "</tr>\n",
       "<tr>\n",
       "  <th>Last Activity_Email Bounced</th>                                             <td>   -0.1225</td> <td>    0.717</td> <td>   -0.171</td> <td> 0.864</td> <td>   -1.527</td> <td>    1.282</td>\n",
       "</tr>\n",
       "<tr>\n",
       "  <th>Last Activity_Email Link Clicked</th>                                        <td>    0.5944</td> <td>    0.769</td> <td>    0.773</td> <td> 0.440</td> <td>   -0.913</td> <td>    2.101</td>\n",
       "</tr>\n",
       "<tr>\n",
       "  <th>Last Activity_Email Opened</th>                                              <td>    0.7826</td> <td>    0.446</td> <td>    1.754</td> <td> 0.079</td> <td>   -0.092</td> <td>    1.657</td>\n",
       "</tr>\n",
       "<tr>\n",
       "  <th>Last Activity_Form Submitted on Website</th>                                 <td>    0.8626</td> <td>    0.687</td> <td>    1.256</td> <td> 0.209</td> <td>   -0.483</td> <td>    2.209</td>\n",
       "</tr>\n",
       "<tr>\n",
       "  <th>Last Activity_Olark Chat Conversation</th>                                   <td>   -0.1676</td> <td>    0.457</td> <td>   -0.367</td> <td> 0.714</td> <td>   -1.064</td> <td>    0.729</td>\n",
       "</tr>\n",
       "<tr>\n",
       "  <th>Last Activity_Other</th>                                                     <td>   -1.0480</td> <td>    0.834</td> <td>   -1.257</td> <td> 0.209</td> <td>   -2.683</td> <td>    0.587</td>\n",
       "</tr>\n",
       "<tr>\n",
       "  <th>Last Activity_Page Visited on Website</th>                                   <td>    0.4036</td> <td>    0.536</td> <td>    0.754</td> <td> 0.451</td> <td>   -0.646</td> <td>    1.453</td>\n",
       "</tr>\n",
       "<tr>\n",
       "  <th>Last Activity_SMS Sent</th>                                                  <td>    2.0396</td> <td>    0.419</td> <td>    4.865</td> <td> 0.000</td> <td>    1.218</td> <td>    2.861</td>\n",
       "</tr>\n",
       "<tr>\n",
       "  <th>Last Activity_Unknown</th>                                                   <td>    0.0015</td> <td>    0.819</td> <td>    0.002</td> <td> 0.999</td> <td>   -1.604</td> <td>    1.607</td>\n",
       "</tr>\n",
       "<tr>\n",
       "  <th>Last Activity_Unreachable</th>                                               <td>   -0.1520</td> <td>    0.953</td> <td>   -0.160</td> <td> 0.873</td> <td>   -2.019</td> <td>    1.715</td>\n",
       "</tr>\n",
       "<tr>\n",
       "  <th>Last Activity_Unsubscribed</th>                                              <td>    0.0590</td> <td>    1.252</td> <td>    0.047</td> <td> 0.962</td> <td>   -2.394</td> <td>    2.512</td>\n",
       "</tr>\n",
       "<tr>\n",
       "  <th>Specialization_Business Administration</th>                                  <td>    0.1840</td> <td>    0.415</td> <td>    0.443</td> <td> 0.658</td> <td>   -0.630</td> <td>    0.998</td>\n",
       "</tr>\n",
       "<tr>\n",
       "  <th>Specialization_E-Business</th>                                               <td>   -0.0911</td> <td>    0.697</td> <td>   -0.131</td> <td> 0.896</td> <td>   -1.457</td> <td>    1.275</td>\n",
       "</tr>\n",
       "<tr>\n",
       "  <th>Specialization_E-COMMERCE</th>                                               <td>    0.6449</td> <td>    0.556</td> <td>    1.160</td> <td> 0.246</td> <td>   -0.445</td> <td>    1.735</td>\n",
       "</tr>\n",
       "<tr>\n",
       "  <th>Specialization_Finance Management</th>                                       <td>   -0.2608</td> <td>    0.372</td> <td>   -0.700</td> <td> 0.484</td> <td>   -0.991</td> <td>    0.469</td>\n",
       "</tr>\n",
       "<tr>\n",
       "  <th>Specialization_Healthcare Management</th>                                    <td>    0.2287</td> <td>    0.551</td> <td>    0.415</td> <td> 0.678</td> <td>   -0.852</td> <td>    1.309</td>\n",
       "</tr>\n",
       "<tr>\n",
       "  <th>Specialization_Hospitality Management</th>                                   <td>   -0.2343</td> <td>    0.593</td> <td>   -0.395</td> <td> 0.693</td> <td>   -1.397</td> <td>    0.928</td>\n",
       "</tr>\n",
       "<tr>\n",
       "  <th>Specialization_Human Resource Management</th>                                <td>   -0.1041</td> <td>    0.367</td> <td>   -0.284</td> <td> 0.777</td> <td>   -0.823</td> <td>    0.615</td>\n",
       "</tr>\n",
       "<tr>\n",
       "  <th>Specialization_IT Projects Management</th>                                   <td>    0.4307</td> <td>    0.425</td> <td>    1.012</td> <td> 0.311</td> <td>   -0.403</td> <td>    1.264</td>\n",
       "</tr>\n",
       "<tr>\n",
       "  <th>Specialization_International Business</th>                                   <td>   -0.1056</td> <td>    0.513</td> <td>   -0.206</td> <td> 0.837</td> <td>   -1.111</td> <td>    0.900</td>\n",
       "</tr>\n",
       "<tr>\n",
       "  <th>Specialization_Marketing Management</th>                                     <td>    0.0924</td> <td>    0.370</td> <td>    0.250</td> <td> 0.803</td> <td>   -0.632</td> <td>    0.817</td>\n",
       "</tr>\n",
       "<tr>\n",
       "  <th>Specialization_Media and Advertising</th>                                    <td>    0.2284</td> <td>    0.496</td> <td>    0.461</td> <td> 0.645</td> <td>   -0.743</td> <td>    1.200</td>\n",
       "</tr>\n",
       "<tr>\n",
       "  <th>Specialization_Operations Management</th>                                    <td>   -0.1097</td> <td>    0.400</td> <td>   -0.274</td> <td> 0.784</td> <td>   -0.893</td> <td>    0.674</td>\n",
       "</tr>\n",
       "<tr>\n",
       "  <th>Specialization_Retail Management</th>                                        <td>   -0.1452</td> <td>    0.615</td> <td>   -0.236</td> <td> 0.813</td> <td>   -1.350</td> <td>    1.059</td>\n",
       "</tr>\n",
       "<tr>\n",
       "  <th>Specialization_Rural and Agribusiness</th>                                   <td>    0.0627</td> <td>    0.839</td> <td>    0.075</td> <td> 0.940</td> <td>   -1.582</td> <td>    1.707</td>\n",
       "</tr>\n",
       "<tr>\n",
       "  <th>Specialization_Services Excellence</th>                                      <td>    0.1311</td> <td>    0.781</td> <td>    0.168</td> <td> 0.867</td> <td>   -1.400</td> <td>    1.663</td>\n",
       "</tr>\n",
       "<tr>\n",
       "  <th>Specialization_Supply Chain Management</th>                                  <td>   -0.4343</td> <td>    0.433</td> <td>   -1.003</td> <td> 0.316</td> <td>   -1.283</td> <td>    0.415</td>\n",
       "</tr>\n",
       "<tr>\n",
       "  <th>Specialization_Travel and Tourism</th>                                       <td>   -0.5496</td> <td>    0.520</td> <td>   -1.058</td> <td> 0.290</td> <td>   -1.568</td> <td>    0.469</td>\n",
       "</tr>\n",
       "<tr>\n",
       "  <th>Specialization_Unspecified</th>                                              <td>   -0.1459</td> <td>    0.381</td> <td>   -0.383</td> <td> 0.701</td> <td>   -0.892</td> <td>    0.600</td>\n",
       "</tr>\n",
       "<tr>\n",
       "  <th>What is your current occupation_Student</th>                                 <td>    0.1302</td> <td>    1.161</td> <td>    0.112</td> <td> 0.911</td> <td>   -2.146</td> <td>    2.407</td>\n",
       "</tr>\n",
       "<tr>\n",
       "  <th>What is your current occupation_Unemployed</th>                              <td>    0.1521</td> <td>    1.012</td> <td>    0.150</td> <td> 0.881</td> <td>   -1.832</td> <td>    2.136</td>\n",
       "</tr>\n",
       "<tr>\n",
       "  <th>What is your current occupation_Unspecified</th>                             <td>   18.4219</td> <td> 1.33e+04</td> <td>    0.001</td> <td> 0.999</td> <td>-2.61e+04</td> <td> 2.62e+04</td>\n",
       "</tr>\n",
       "<tr>\n",
       "  <th>What is your current occupation_Working Professional</th>                    <td>    0.5134</td> <td>    1.051</td> <td>    0.488</td> <td> 0.625</td> <td>   -1.547</td> <td>    2.574</td>\n",
       "</tr>\n",
       "<tr>\n",
       "  <th>What matters most to you in choosing a course_Flexibility & Convenience</th> <td>  -17.9280</td> <td> 4.82e+04</td> <td>   -0.000</td> <td> 1.000</td> <td>-9.45e+04</td> <td> 9.44e+04</td>\n",
       "</tr>\n",
       "<tr>\n",
       "  <th>What matters most to you in choosing a course_Other</th>                     <td>  -18.3248</td> <td> 4.82e+04</td> <td>   -0.000</td> <td> 1.000</td> <td>-9.45e+04</td> <td> 9.44e+04</td>\n",
       "</tr>\n",
       "<tr>\n",
       "  <th>What matters most to you in choosing a course_Unspecified</th>               <td>  -20.8449</td> <td> 1.33e+04</td> <td>   -0.002</td> <td> 0.999</td> <td>-2.62e+04</td> <td> 2.61e+04</td>\n",
       "</tr>\n",
       "<tr>\n",
       "  <th>Tags_Closed by Horizzon</th>                                                 <td>   10.0513</td> <td>    1.061</td> <td>    9.473</td> <td> 0.000</td> <td>    7.972</td> <td>   12.131</td>\n",
       "</tr>\n",
       "<tr>\n",
       "  <th>Tags_Diploma holder (Not Eligible)</th>                                      <td>    0.9844</td> <td>    1.316</td> <td>    0.748</td> <td> 0.454</td> <td>   -1.595</td> <td>    3.563</td>\n",
       "</tr>\n",
       "<tr>\n",
       "  <th>Tags_Graduation in progress</th>                                             <td>    2.3753</td> <td>    0.935</td> <td>    2.540</td> <td> 0.011</td> <td>    0.542</td> <td>    4.209</td>\n",
       "</tr>\n",
       "<tr>\n",
       "  <th>Tags_Interested  in full time MBA</th>                                       <td>    1.6591</td> <td>    0.963</td> <td>    1.722</td> <td> 0.085</td> <td>   -0.229</td> <td>    3.547</td>\n",
       "</tr>\n",
       "<tr>\n",
       "  <th>Tags_Interested in other courses</th>                                        <td>    0.9919</td> <td>    0.863</td> <td>    1.149</td> <td> 0.251</td> <td>   -0.700</td> <td>    2.684</td>\n",
       "</tr>\n",
       "<tr>\n",
       "  <th>Tags_Lost to EINS</th>                                                       <td>   10.0704</td> <td>    0.944</td> <td>   10.664</td> <td> 0.000</td> <td>    8.220</td> <td>   11.921</td>\n",
       "</tr>\n",
       "<tr>\n",
       "  <th>Tags_No Tags</th>                                                            <td>    5.2078</td> <td>    0.751</td> <td>    6.936</td> <td> 0.000</td> <td>    3.736</td> <td>    6.679</td>\n",
       "</tr>\n",
       "<tr>\n",
       "  <th>Tags_Not doing further education</th>                                        <td>    1.0182</td> <td>    1.261</td> <td>    0.808</td> <td> 0.419</td> <td>   -1.453</td> <td>    3.489</td>\n",
       "</tr>\n",
       "<tr>\n",
       "  <th>Tags_Not reachable</th>                                                      <td>    2.2863</td> <td>    0.760</td> <td>    3.008</td> <td> 0.003</td> <td>    0.797</td> <td>    3.776</td>\n",
       "</tr>\n",
       "<tr>\n",
       "  <th>Tags_Other</th>                                                              <td>    3.7942</td> <td>    0.875</td> <td>    4.339</td> <td> 0.000</td> <td>    2.080</td> <td>    5.508</td>\n",
       "</tr>\n",
       "<tr>\n",
       "  <th>Tags_Ringing</th>                                                            <td>   -0.0964</td> <td>    0.782</td> <td>   -0.123</td> <td> 0.902</td> <td>   -1.630</td> <td>    1.437</td>\n",
       "</tr>\n",
       "<tr>\n",
       "  <th>Tags_Will revert after reading the email</th>                                <td>    7.7239</td> <td>    0.761</td> <td>   10.151</td> <td> 0.000</td> <td>    6.233</td> <td>    9.215</td>\n",
       "</tr>\n",
       "<tr>\n",
       "  <th>Last Notable Activity_Email Link Clicked</th>                                <td>   -1.1670</td> <td>    1.143</td> <td>   -1.021</td> <td> 0.307</td> <td>   -3.408</td> <td>    1.074</td>\n",
       "</tr>\n",
       "<tr>\n",
       "  <th>Last Notable Activity_Email Opened</th>                                      <td>   -0.8150</td> <td>    0.859</td> <td>   -0.949</td> <td> 0.343</td> <td>   -2.499</td> <td>    0.869</td>\n",
       "</tr>\n",
       "<tr>\n",
       "  <th>Last Notable Activity_Modified</th>                                          <td>   -1.5452</td> <td>    0.821</td> <td>   -1.883</td> <td> 0.060</td> <td>   -3.154</td> <td>    0.063</td>\n",
       "</tr>\n",
       "<tr>\n",
       "  <th>Last Notable Activity_Olark Chat Conversation</th>                           <td>   -1.3391</td> <td>    0.967</td> <td>   -1.385</td> <td> 0.166</td> <td>   -3.234</td> <td>    0.555</td>\n",
       "</tr>\n",
       "<tr>\n",
       "  <th>Last Notable Activity_Other</th>                                             <td>    0.8625</td> <td>    1.258</td> <td>    0.685</td> <td> 0.493</td> <td>   -1.604</td> <td>    3.329</td>\n",
       "</tr>\n",
       "<tr>\n",
       "  <th>Last Notable Activity_Page Visited on Website</th>                           <td>   -0.9123</td> <td>    0.970</td> <td>   -0.940</td> <td> 0.347</td> <td>   -2.814</td> <td>    0.990</td>\n",
       "</tr>\n",
       "<tr>\n",
       "  <th>Last Notable Activity_SMS Sent</th>                                          <td>    0.0456</td> <td>    0.848</td> <td>    0.054</td> <td> 0.957</td> <td>   -1.616</td> <td>    1.707</td>\n",
       "</tr>\n",
       "</table>"
      ],
      "text/plain": [
       "<class 'statsmodels.iolib.summary.Summary'>\n",
       "\"\"\"\n",
       "                 Generalized Linear Model Regression Results                  \n",
       "==============================================================================\n",
       "Dep. Variable:              Converted   No. Observations:                 6409\n",
       "Model:                            GLM   Df Residuals:                     6337\n",
       "Model Family:                Binomial   Df Model:                           71\n",
       "Link Function:                  logit   Scale:                          1.0000\n",
       "Method:                          IRLS   Log-Likelihood:                -1147.9\n",
       "Date:                Sun, 06 Sep 2020   Deviance:                       2295.9\n",
       "Time:                        19:41:09   Pearson chi2:                 9.82e+03\n",
       "No. Iterations:                    21                                         \n",
       "Covariance Type:            nonrobust                                         \n",
       "===========================================================================================================================================\n",
       "                                                                              coef    std err          z      P>|z|      [0.025      0.975]\n",
       "-------------------------------------------------------------------------------------------------------------------------------------------\n",
       "const                                                                      -4.9429      1.572     -3.144      0.002      -8.025      -1.861\n",
       "Do Not Email                                                               -1.0670      0.298     -3.577      0.000      -1.652      -0.482\n",
       "TotalVisits                                                                 0.2298      0.089      2.570      0.010       0.055       0.405\n",
       "Total Time Spent on Website                                                 1.0566      0.065     16.153      0.000       0.928       1.185\n",
       "Page Views Per Visit                                                       -0.1210      0.091     -1.331      0.183      -0.299       0.057\n",
       "A free copy of Mastering The Interview                                     -0.2483      0.185     -1.345      0.179      -0.610       0.114\n",
       "Lead Origin_Landing Page Submission                                        -0.1884      0.247     -0.763      0.446      -0.672       0.296\n",
       "Lead Origin_Lead Add Form                                                   1.2358      1.472      0.839      0.401      -1.650       4.121\n",
       "Lead Origin_Lead Import                                                    21.2562   4.82e+04      0.000      1.000   -9.44e+04    9.45e+04\n",
       "Lead Source_Facebook                                                      -21.5660   4.82e+04     -0.000      1.000   -9.45e+04    9.44e+04\n",
       "Lead Source_Google                                                          0.0392      0.191      0.205      0.837      -0.335       0.413\n",
       "Lead Source_Olark Chat                                                      1.1886      0.259      4.582      0.000       0.680       1.697\n",
       "Lead Source_Organic Search                                                  0.1008      0.217      0.465      0.642      -0.324       0.526\n",
       "Lead Source_Other                                                           0.9857      1.098      0.898      0.369      -1.166       3.137\n",
       "Lead Source_Reference                                                      -0.3904      1.511     -0.258      0.796      -3.351       2.571\n",
       "Lead Source_Referral Sites                                                 -0.0342      0.498     -0.069      0.945      -1.011       0.942\n",
       "Lead Source_Welingak Website                                                2.5960      1.637      1.586      0.113      -0.611       5.804\n",
       "Last Activity_Email Bounced                                                -0.1225      0.717     -0.171      0.864      -1.527       1.282\n",
       "Last Activity_Email Link Clicked                                            0.5944      0.769      0.773      0.440      -0.913       2.101\n",
       "Last Activity_Email Opened                                                  0.7826      0.446      1.754      0.079      -0.092       1.657\n",
       "Last Activity_Form Submitted on Website                                     0.8626      0.687      1.256      0.209      -0.483       2.209\n",
       "Last Activity_Olark Chat Conversation                                      -0.1676      0.457     -0.367      0.714      -1.064       0.729\n",
       "Last Activity_Other                                                        -1.0480      0.834     -1.257      0.209      -2.683       0.587\n",
       "Last Activity_Page Visited on Website                                       0.4036      0.536      0.754      0.451      -0.646       1.453\n",
       "Last Activity_SMS Sent                                                      2.0396      0.419      4.865      0.000       1.218       2.861\n",
       "Last Activity_Unknown                                                       0.0015      0.819      0.002      0.999      -1.604       1.607\n",
       "Last Activity_Unreachable                                                  -0.1520      0.953     -0.160      0.873      -2.019       1.715\n",
       "Last Activity_Unsubscribed                                                  0.0590      1.252      0.047      0.962      -2.394       2.512\n",
       "Specialization_Business Administration                                      0.1840      0.415      0.443      0.658      -0.630       0.998\n",
       "Specialization_E-Business                                                  -0.0911      0.697     -0.131      0.896      -1.457       1.275\n",
       "Specialization_E-COMMERCE                                                   0.6449      0.556      1.160      0.246      -0.445       1.735\n",
       "Specialization_Finance Management                                          -0.2608      0.372     -0.700      0.484      -0.991       0.469\n",
       "Specialization_Healthcare Management                                        0.2287      0.551      0.415      0.678      -0.852       1.309\n",
       "Specialization_Hospitality Management                                      -0.2343      0.593     -0.395      0.693      -1.397       0.928\n",
       "Specialization_Human Resource Management                                   -0.1041      0.367     -0.284      0.777      -0.823       0.615\n",
       "Specialization_IT Projects Management                                       0.4307      0.425      1.012      0.311      -0.403       1.264\n",
       "Specialization_International Business                                      -0.1056      0.513     -0.206      0.837      -1.111       0.900\n",
       "Specialization_Marketing Management                                         0.0924      0.370      0.250      0.803      -0.632       0.817\n",
       "Specialization_Media and Advertising                                        0.2284      0.496      0.461      0.645      -0.743       1.200\n",
       "Specialization_Operations Management                                       -0.1097      0.400     -0.274      0.784      -0.893       0.674\n",
       "Specialization_Retail Management                                           -0.1452      0.615     -0.236      0.813      -1.350       1.059\n",
       "Specialization_Rural and Agribusiness                                       0.0627      0.839      0.075      0.940      -1.582       1.707\n",
       "Specialization_Services Excellence                                          0.1311      0.781      0.168      0.867      -1.400       1.663\n",
       "Specialization_Supply Chain Management                                     -0.4343      0.433     -1.003      0.316      -1.283       0.415\n",
       "Specialization_Travel and Tourism                                          -0.5496      0.520     -1.058      0.290      -1.568       0.469\n",
       "Specialization_Unspecified                                                 -0.1459      0.381     -0.383      0.701      -0.892       0.600\n",
       "What is your current occupation_Student                                     0.1302      1.161      0.112      0.911      -2.146       2.407\n",
       "What is your current occupation_Unemployed                                  0.1521      1.012      0.150      0.881      -1.832       2.136\n",
       "What is your current occupation_Unspecified                                18.4219   1.33e+04      0.001      0.999   -2.61e+04    2.62e+04\n",
       "What is your current occupation_Working Professional                        0.5134      1.051      0.488      0.625      -1.547       2.574\n",
       "What matters most to you in choosing a course_Flexibility & Convenience   -17.9280   4.82e+04     -0.000      1.000   -9.45e+04    9.44e+04\n",
       "What matters most to you in choosing a course_Other                       -18.3248   4.82e+04     -0.000      1.000   -9.45e+04    9.44e+04\n",
       "What matters most to you in choosing a course_Unspecified                 -20.8449   1.33e+04     -0.002      0.999   -2.62e+04    2.61e+04\n",
       "Tags_Closed by Horizzon                                                    10.0513      1.061      9.473      0.000       7.972      12.131\n",
       "Tags_Diploma holder (Not Eligible)                                          0.9844      1.316      0.748      0.454      -1.595       3.563\n",
       "Tags_Graduation in progress                                                 2.3753      0.935      2.540      0.011       0.542       4.209\n",
       "Tags_Interested  in full time MBA                                           1.6591      0.963      1.722      0.085      -0.229       3.547\n",
       "Tags_Interested in other courses                                            0.9919      0.863      1.149      0.251      -0.700       2.684\n",
       "Tags_Lost to EINS                                                          10.0704      0.944     10.664      0.000       8.220      11.921\n",
       "Tags_No Tags                                                                5.2078      0.751      6.936      0.000       3.736       6.679\n",
       "Tags_Not doing further education                                            1.0182      1.261      0.808      0.419      -1.453       3.489\n",
       "Tags_Not reachable                                                          2.2863      0.760      3.008      0.003       0.797       3.776\n",
       "Tags_Other                                                                  3.7942      0.875      4.339      0.000       2.080       5.508\n",
       "Tags_Ringing                                                               -0.0964      0.782     -0.123      0.902      -1.630       1.437\n",
       "Tags_Will revert after reading the email                                    7.7239      0.761     10.151      0.000       6.233       9.215\n",
       "Last Notable Activity_Email Link Clicked                                   -1.1670      1.143     -1.021      0.307      -3.408       1.074\n",
       "Last Notable Activity_Email Opened                                         -0.8150      0.859     -0.949      0.343      -2.499       0.869\n",
       "Last Notable Activity_Modified                                             -1.5452      0.821     -1.883      0.060      -3.154       0.063\n",
       "Last Notable Activity_Olark Chat Conversation                              -1.3391      0.967     -1.385      0.166      -3.234       0.555\n",
       "Last Notable Activity_Other                                                 0.8625      1.258      0.685      0.493      -1.604       3.329\n",
       "Last Notable Activity_Page Visited on Website                              -0.9123      0.970     -0.940      0.347      -2.814       0.990\n",
       "Last Notable Activity_SMS Sent                                              0.0456      0.848      0.054      0.957      -1.616       1.707\n",
       "===========================================================================================================================================\n",
       "\"\"\""
      ]
     },
     "execution_count": 89,
     "metadata": {},
     "output_type": "execute_result"
    }
   ],
   "source": [
    "# imporring neccassary librraries for Logistic regression model using Stats model\n",
    "import statsmodels.api as sm\n",
    "\n",
    "# Creating the first model using stats library\n",
    "logistic_mdl = sm.GLM(y_train,(sm.add_constant(X_train)), family = sm.families.Binomial())\n",
    "\n",
    "# Viewing Model Summmary\n",
    "logistic_mdl.fit().summary()"
   ]
  },
  {
   "cell_type": "markdown",
   "metadata": {},
   "source": [
    "There are several columns with P value more than 0.05 thus making these columns completely insignificant for model.\n",
    "\n",
    "\n",
    "Since, there are several columns to process, we will use RFE library to filter out the columns that do not have sufficient support.\n",
    "\n"
   ]
  },
  {
   "cell_type": "markdown",
   "metadata": {},
   "source": [
    "### 4.2 Buliding Logistic Regression Model using RFE "
   ]
  },
  {
   "cell_type": "code",
   "execution_count": 90,
   "metadata": {},
   "outputs": [
    {
     "data": {
      "text/plain": [
       "[('Do Not Email', False, 2),\n",
       " ('TotalVisits', False, 44),\n",
       " ('Total Time Spent on Website', False, 5),\n",
       " ('Page Views Per Visit', False, 49),\n",
       " ('A free copy of Mastering The Interview', False, 33),\n",
       " ('Lead Origin_Landing Page Submission', False, 31),\n",
       " ('Lead Origin_Lead Add Form', False, 4),\n",
       " ('Lead Origin_Lead Import', False, 52),\n",
       " ('Lead Source_Facebook', False, 30),\n",
       " ('Lead Source_Google', False, 62),\n",
       " ('Lead Source_Olark Chat', False, 6),\n",
       " ('Lead Source_Organic Search', False, 53),\n",
       " ('Lead Source_Other', False, 12),\n",
       " ('Lead Source_Reference', False, 29),\n",
       " ('Lead Source_Referral Sites', False, 46),\n",
       " ('Lead Source_Welingak Website', True, 1),\n",
       " ('Last Activity_Email Bounced', False, 26),\n",
       " ('Last Activity_Email Link Clicked', False, 51),\n",
       " ('Last Activity_Email Opened', False, 22),\n",
       " ('Last Activity_Form Submitted on Website', False, 21),\n",
       " ('Last Activity_Olark Chat Conversation', False, 9),\n",
       " ('Last Activity_Other', False, 14),\n",
       " ('Last Activity_Page Visited on Website', False, 60),\n",
       " ('Last Activity_SMS Sent', True, 1),\n",
       " ('Last Activity_Unknown', False, 43),\n",
       " ('Last Activity_Unreachable', False, 59),\n",
       " ('Last Activity_Unsubscribed', False, 34),\n",
       " ('Specialization_Business Administration', False, 50),\n",
       " ('Specialization_E-Business', False, 55),\n",
       " ('Specialization_E-COMMERCE', False, 27),\n",
       " ('Specialization_Finance Management', False, 35),\n",
       " ('Specialization_Healthcare Management', False, 45),\n",
       " ('Specialization_Hospitality Management', False, 38),\n",
       " ('Specialization_Human Resource Management', False, 40),\n",
       " ('Specialization_IT Projects Management', False, 28),\n",
       " ('Specialization_International Business', False, 41),\n",
       " ('Specialization_Marketing Management', False, 61),\n",
       " ('Specialization_Media and Advertising', False, 48),\n",
       " ('Specialization_Operations Management', False, 39),\n",
       " ('Specialization_Retail Management', False, 36),\n",
       " ('Specialization_Rural and Agribusiness', False, 54),\n",
       " ('Specialization_Services Excellence', False, 56),\n",
       " ('Specialization_Supply Chain Management', False, 20),\n",
       " ('Specialization_Travel and Tourism', False, 17),\n",
       " ('Specialization_Unspecified', False, 32),\n",
       " ('What is your current occupation_Student', False, 15),\n",
       " ('What is your current occupation_Unemployed', False, 47),\n",
       " ('What is your current occupation_Unspecified', False, 7),\n",
       " ('What is your current occupation_Working Professional', False, 19),\n",
       " ('What matters most to you in choosing a course_Flexibility & Convenience',\n",
       "  False,\n",
       "  57),\n",
       " ('What matters most to you in choosing a course_Other', False, 58),\n",
       " ('What matters most to you in choosing a course_Unspecified', True, 1),\n",
       " ('Tags_Closed by Horizzon', True, 1),\n",
       " ('Tags_Diploma holder (Not Eligible)', False, 13),\n",
       " ('Tags_Graduation in progress', False, 42),\n",
       " ('Tags_Interested  in full time MBA', False, 18),\n",
       " ('Tags_Interested in other courses', False, 3),\n",
       " ('Tags_Lost to EINS', True, 1),\n",
       " ('Tags_No Tags', True, 1),\n",
       " ('Tags_Not doing further education', False, 8),\n",
       " ('Tags_Not reachable', False, 37),\n",
       " ('Tags_Other', True, 1),\n",
       " ('Tags_Ringing', True, 1),\n",
       " ('Tags_Will revert after reading the email', True, 1),\n",
       " ('Last Notable Activity_Email Link Clicked', False, 24),\n",
       " ('Last Notable Activity_Email Opened', False, 23),\n",
       " ('Last Notable Activity_Modified', True, 1),\n",
       " ('Last Notable Activity_Olark Chat Conversation', False, 16),\n",
       " ('Last Notable Activity_Other', False, 11),\n",
       " ('Last Notable Activity_Page Visited on Website', False, 25),\n",
       " ('Last Notable Activity_SMS Sent', False, 10)]"
      ]
     },
     "execution_count": 90,
     "metadata": {},
     "output_type": "execute_result"
    }
   ],
   "source": [
    "# importing neccassary libraries for Logistic regression model\n",
    "from sklearn.linear_model import LogisticRegression\n",
    "from sklearn.feature_selection import RFE\n",
    "from sklearn import metrics\n",
    "\n",
    "# Chosing the  features for buliding model using RFE \n",
    "\n",
    "logreg = LogisticRegression()\n",
    "rfe = RFE(logreg, 10)  # Taking 10 as the number of features for the model\n",
    "\n",
    "rfe = rfe.fit(X_train, y_train)\n",
    "list(zip(X_train.columns, rfe.support_, rfe.ranking_))"
   ]
  },
  {
   "cell_type": "code",
   "execution_count": 91,
   "metadata": {},
   "outputs": [
    {
     "data": {
      "text/plain": [
       "Index(['Lead Source_Welingak Website', 'Last Activity_SMS Sent',\n",
       "       'What matters most to you in choosing a course_Unspecified',\n",
       "       'Tags_Closed by Horizzon', 'Tags_Lost to EINS', 'Tags_No Tags',\n",
       "       'Tags_Other', 'Tags_Ringing',\n",
       "       'Tags_Will revert after reading the email',\n",
       "       'Last Notable Activity_Modified'],\n",
       "      dtype='object')"
      ]
     },
     "execution_count": 91,
     "metadata": {},
     "output_type": "execute_result"
    }
   ],
   "source": [
    "# Columns that have support\n",
    "col_w_support = X_train.columns[rfe.support_]\n",
    "col_w_support"
   ]
  },
  {
   "cell_type": "markdown",
   "metadata": {},
   "source": [
    "### 4.3 Model rebuild\n",
    "##### Rebuild the model using columns having RFE support"
   ]
  },
  {
   "cell_type": "code",
   "execution_count": 92,
   "metadata": {},
   "outputs": [
    {
     "data": {
      "text/html": [
       "<table class=\"simpletable\">\n",
       "<caption>Generalized Linear Model Regression Results</caption>\n",
       "<tr>\n",
       "  <th>Dep. Variable:</th>       <td>Converted</td>    <th>  No. Observations:  </th>  <td>  6409</td> \n",
       "</tr>\n",
       "<tr>\n",
       "  <th>Model:</th>                  <td>GLM</td>       <th>  Df Residuals:      </th>  <td>  6398</td> \n",
       "</tr>\n",
       "<tr>\n",
       "  <th>Model Family:</th>        <td>Binomial</td>     <th>  Df Model:          </th>  <td>    10</td> \n",
       "</tr>\n",
       "<tr>\n",
       "  <th>Link Function:</th>         <td>logit</td>      <th>  Scale:             </th> <td>  1.0000</td>\n",
       "</tr>\n",
       "<tr>\n",
       "  <th>Method:</th>                <td>IRLS</td>       <th>  Log-Likelihood:    </th> <td> -1357.4</td>\n",
       "</tr>\n",
       "<tr>\n",
       "  <th>Date:</th>            <td>Sun, 06 Sep 2020</td> <th>  Deviance:          </th> <td>  2714.7</td>\n",
       "</tr>\n",
       "<tr>\n",
       "  <th>Time:</th>                <td>19:41:13</td>     <th>  Pearson chi2:      </th> <td>1.15e+04</td>\n",
       "</tr>\n",
       "<tr>\n",
       "  <th>No. Iterations:</th>          <td>8</td>        <th>                     </th>     <td> </td>   \n",
       "</tr>\n",
       "<tr>\n",
       "  <th>Covariance Type:</th>     <td>nonrobust</td>    <th>                     </th>     <td> </td>   \n",
       "</tr>\n",
       "</table>\n",
       "<table class=\"simpletable\">\n",
       "<tr>\n",
       "                              <td></td>                                 <th>coef</th>     <th>std err</th>      <th>z</th>      <th>P>|z|</th>  <th>[0.025</th>    <th>0.975]</th>  \n",
       "</tr>\n",
       "<tr>\n",
       "  <th>const</th>                                                     <td>   -2.9947</td> <td>    0.136</td> <td>  -22.037</td> <td> 0.000</td> <td>   -3.261</td> <td>   -2.728</td>\n",
       "</tr>\n",
       "<tr>\n",
       "  <th>Lead Source_Welingak Website</th>                              <td>    2.8024</td> <td>    0.746</td> <td>    3.755</td> <td> 0.000</td> <td>    1.340</td> <td>    4.265</td>\n",
       "</tr>\n",
       "<tr>\n",
       "  <th>Last Activity_SMS Sent</th>                                    <td>    2.2303</td> <td>    0.114</td> <td>   19.504</td> <td> 0.000</td> <td>    2.006</td> <td>    2.454</td>\n",
       "</tr>\n",
       "<tr>\n",
       "  <th>What matters most to you in choosing a course_Unspecified</th> <td>   -2.6342</td> <td>    0.144</td> <td>  -18.356</td> <td> 0.000</td> <td>   -2.915</td> <td>   -2.353</td>\n",
       "</tr>\n",
       "<tr>\n",
       "  <th>Tags_Closed by Horizzon</th>                                   <td>    8.7091</td> <td>    0.729</td> <td>   11.952</td> <td> 0.000</td> <td>    7.281</td> <td>   10.137</td>\n",
       "</tr>\n",
       "<tr>\n",
       "  <th>Tags_Lost to EINS</th>                                         <td>    8.5748</td> <td>    0.569</td> <td>   15.058</td> <td> 0.000</td> <td>    7.459</td> <td>    9.691</td>\n",
       "</tr>\n",
       "<tr>\n",
       "  <th>Tags_No Tags</th>                                              <td>    3.4412</td> <td>    0.171</td> <td>   20.131</td> <td> 0.000</td> <td>    3.106</td> <td>    3.776</td>\n",
       "</tr>\n",
       "<tr>\n",
       "  <th>Tags_Other</th>                                                <td>    2.1337</td> <td>    0.448</td> <td>    4.762</td> <td> 0.000</td> <td>    1.256</td> <td>    3.012</td>\n",
       "</tr>\n",
       "<tr>\n",
       "  <th>Tags_Ringing</th>                                              <td>   -1.9281</td> <td>    0.260</td> <td>   -7.414</td> <td> 0.000</td> <td>   -2.438</td> <td>   -1.418</td>\n",
       "</tr>\n",
       "<tr>\n",
       "  <th>Tags_Will revert after reading the email</th>                  <td>    6.1822</td> <td>    0.201</td> <td>   30.807</td> <td> 0.000</td> <td>    5.789</td> <td>    6.575</td>\n",
       "</tr>\n",
       "<tr>\n",
       "  <th>Last Notable Activity_Modified</th>                            <td>   -1.4659</td> <td>    0.118</td> <td>  -12.378</td> <td> 0.000</td> <td>   -1.698</td> <td>   -1.234</td>\n",
       "</tr>\n",
       "</table>"
      ],
      "text/plain": [
       "<class 'statsmodels.iolib.summary.Summary'>\n",
       "\"\"\"\n",
       "                 Generalized Linear Model Regression Results                  \n",
       "==============================================================================\n",
       "Dep. Variable:              Converted   No. Observations:                 6409\n",
       "Model:                            GLM   Df Residuals:                     6398\n",
       "Model Family:                Binomial   Df Model:                           10\n",
       "Link Function:                  logit   Scale:                          1.0000\n",
       "Method:                          IRLS   Log-Likelihood:                -1357.4\n",
       "Date:                Sun, 06 Sep 2020   Deviance:                       2714.7\n",
       "Time:                        19:41:13   Pearson chi2:                 1.15e+04\n",
       "No. Iterations:                     8                                         \n",
       "Covariance Type:            nonrobust                                         \n",
       "=============================================================================================================================\n",
       "                                                                coef    std err          z      P>|z|      [0.025      0.975]\n",
       "-----------------------------------------------------------------------------------------------------------------------------\n",
       "const                                                        -2.9947      0.136    -22.037      0.000      -3.261      -2.728\n",
       "Lead Source_Welingak Website                                  2.8024      0.746      3.755      0.000       1.340       4.265\n",
       "Last Activity_SMS Sent                                        2.2303      0.114     19.504      0.000       2.006       2.454\n",
       "What matters most to you in choosing a course_Unspecified    -2.6342      0.144    -18.356      0.000      -2.915      -2.353\n",
       "Tags_Closed by Horizzon                                       8.7091      0.729     11.952      0.000       7.281      10.137\n",
       "Tags_Lost to EINS                                             8.5748      0.569     15.058      0.000       7.459       9.691\n",
       "Tags_No Tags                                                  3.4412      0.171     20.131      0.000       3.106       3.776\n",
       "Tags_Other                                                    2.1337      0.448      4.762      0.000       1.256       3.012\n",
       "Tags_Ringing                                                 -1.9281      0.260     -7.414      0.000      -2.438      -1.418\n",
       "Tags_Will revert after reading the email                      6.1822      0.201     30.807      0.000       5.789       6.575\n",
       "Last Notable Activity_Modified                               -1.4659      0.118    -12.378      0.000      -1.698      -1.234\n",
       "=============================================================================================================================\n",
       "\"\"\""
      ]
     },
     "execution_count": 92,
     "metadata": {},
     "output_type": "execute_result"
    }
   ],
   "source": [
    "# Rebuild the model using the columns that have support.\n",
    "X_train_sm = sm.add_constant(X_train[col_w_support])\n",
    "logm2 = sm.GLM(y_train,X_train_sm, family = sm.families.Binomial())\n",
    "res = logm2.fit()\n",
    "res.summary()"
   ]
  },
  {
   "cell_type": "markdown",
   "metadata": {},
   "source": [
    "#### All the features are significant in the model based on the p Value."
   ]
  },
  {
   "cell_type": "markdown",
   "metadata": {},
   "source": [
    "#### Lets review  VIF of features"
   ]
  },
  {
   "cell_type": "code",
   "execution_count": 93,
   "metadata": {},
   "outputs": [
    {
     "data": {
      "text/html": [
       "<div>\n",
       "<style scoped>\n",
       "    .dataframe tbody tr th:only-of-type {\n",
       "        vertical-align: middle;\n",
       "    }\n",
       "\n",
       "    .dataframe tbody tr th {\n",
       "        vertical-align: top;\n",
       "    }\n",
       "\n",
       "    .dataframe thead th {\n",
       "        text-align: right;\n",
       "    }\n",
       "</style>\n",
       "<table border=\"1\" class=\"dataframe\">\n",
       "  <thead>\n",
       "    <tr style=\"text-align: right;\">\n",
       "      <th></th>\n",
       "      <th>Features</th>\n",
       "      <th>VIF</th>\n",
       "    </tr>\n",
       "  </thead>\n",
       "  <tbody>\n",
       "    <tr>\n",
       "      <td>0</td>\n",
       "      <td>Lead Source_Welingak Website</td>\n",
       "      <td>1.11</td>\n",
       "    </tr>\n",
       "    <tr>\n",
       "      <td>3</td>\n",
       "      <td>Tags_Closed by Horizzon</td>\n",
       "      <td>1.06</td>\n",
       "    </tr>\n",
       "    <tr>\n",
       "      <td>4</td>\n",
       "      <td>Tags_Lost to EINS</td>\n",
       "      <td>1.05</td>\n",
       "    </tr>\n",
       "    <tr>\n",
       "      <td>6</td>\n",
       "      <td>Tags_Other</td>\n",
       "      <td>1.01</td>\n",
       "    </tr>\n",
       "    <tr>\n",
       "      <td>2</td>\n",
       "      <td>What matters most to you in choosing a course_...</td>\n",
       "      <td>0.20</td>\n",
       "    </tr>\n",
       "    <tr>\n",
       "      <td>8</td>\n",
       "      <td>Tags_Will revert after reading the email</td>\n",
       "      <td>0.16</td>\n",
       "    </tr>\n",
       "    <tr>\n",
       "      <td>1</td>\n",
       "      <td>Last Activity_SMS Sent</td>\n",
       "      <td>0.11</td>\n",
       "    </tr>\n",
       "    <tr>\n",
       "      <td>5</td>\n",
       "      <td>Tags_No Tags</td>\n",
       "      <td>0.08</td>\n",
       "    </tr>\n",
       "    <tr>\n",
       "      <td>7</td>\n",
       "      <td>Tags_Ringing</td>\n",
       "      <td>0.06</td>\n",
       "    </tr>\n",
       "    <tr>\n",
       "      <td>9</td>\n",
       "      <td>Last Notable Activity_Modified</td>\n",
       "      <td>0.04</td>\n",
       "    </tr>\n",
       "  </tbody>\n",
       "</table>\n",
       "</div>"
      ],
      "text/plain": [
       "                                            Features   VIF\n",
       "0                       Lead Source_Welingak Website  1.11\n",
       "3                            Tags_Closed by Horizzon  1.06\n",
       "4                                  Tags_Lost to EINS  1.05\n",
       "6                                         Tags_Other  1.01\n",
       "2  What matters most to you in choosing a course_...  0.20\n",
       "8           Tags_Will revert after reading the email  0.16\n",
       "1                             Last Activity_SMS Sent  0.11\n",
       "5                                       Tags_No Tags  0.08\n",
       "7                                       Tags_Ringing  0.06\n",
       "9                     Last Notable Activity_Modified  0.04"
      ]
     },
     "execution_count": 93,
     "metadata": {},
     "output_type": "execute_result"
    }
   ],
   "source": [
    "# importing necessary libraries\n",
    "from statsmodels.stats.outliers_influence import variance_inflation_factor\n",
    "vif = pd.DataFrame()\n",
    "vif['Features'] = X_train[col_w_support].columns\n",
    "vif['VIF'] = [variance_inflation_factor(X_train[col_w_support].values, i) for i in range(X_train[col_w_support].shape[1])]\n",
    "vif['VIF'] = round(vif['VIF'], 2)\n",
    "vif = vif.sort_values(by = \"VIF\", ascending = False)\n",
    "vif"
   ]
  },
  {
   "cell_type": "markdown",
   "metadata": {},
   "source": [
    "There are no features with high VIF values.\n",
    "\n",
    "The Model built is good based on the P value and VIF "
   ]
  },
  {
   "cell_type": "markdown",
   "metadata": {},
   "source": [
    "### 4.4 Finding the Optimal probability cutoff"
   ]
  },
  {
   "cell_type": "code",
   "execution_count": 94,
   "metadata": {},
   "outputs": [
    {
     "data": {
      "text/html": [
       "<div>\n",
       "<style scoped>\n",
       "    .dataframe tbody tr th:only-of-type {\n",
       "        vertical-align: middle;\n",
       "    }\n",
       "\n",
       "    .dataframe tbody tr th {\n",
       "        vertical-align: top;\n",
       "    }\n",
       "\n",
       "    .dataframe thead th {\n",
       "        text-align: right;\n",
       "    }\n",
       "</style>\n",
       "<table border=\"1\" class=\"dataframe\">\n",
       "  <thead>\n",
       "    <tr style=\"text-align: right;\">\n",
       "      <th></th>\n",
       "      <th>Converted</th>\n",
       "      <th>Conv_Prob</th>\n",
       "      <th>LeadID</th>\n",
       "    </tr>\n",
       "  </thead>\n",
       "  <tbody>\n",
       "    <tr>\n",
       "      <td>0</td>\n",
       "      <td>0</td>\n",
       "      <td>0.011424</td>\n",
       "      <td>6490</td>\n",
       "    </tr>\n",
       "    <tr>\n",
       "      <td>1</td>\n",
       "      <td>1</td>\n",
       "      <td>0.935642</td>\n",
       "      <td>4026</td>\n",
       "    </tr>\n",
       "    <tr>\n",
       "      <td>2</td>\n",
       "      <td>1</td>\n",
       "      <td>0.317694</td>\n",
       "      <td>6453</td>\n",
       "    </tr>\n",
       "    <tr>\n",
       "      <td>3</td>\n",
       "      <td>1</td>\n",
       "      <td>0.960361</td>\n",
       "      <td>8949</td>\n",
       "    </tr>\n",
       "    <tr>\n",
       "      <td>4</td>\n",
       "      <td>0</td>\n",
       "      <td>0.063421</td>\n",
       "      <td>6467</td>\n",
       "    </tr>\n",
       "  </tbody>\n",
       "</table>\n",
       "</div>"
      ],
      "text/plain": [
       "   Converted  Conv_Prob  LeadID\n",
       "0          0   0.011424    6490\n",
       "1          1   0.935642    4026\n",
       "2          1   0.317694    6453\n",
       "3          1   0.960361    8949\n",
       "4          0   0.063421    6467"
      ]
     },
     "execution_count": 94,
     "metadata": {},
     "output_type": "execute_result"
    }
   ],
   "source": [
    "# Calculating the probability of conversion\n",
    "y_train_pred = res.predict(X_train_sm).values.reshape(-1)\n",
    "y_train_pred_final = pd.DataFrame({'Converted':y_train.values, 'Conv_Prob':y_train_pred})\n",
    "y_train_pred_final['LeadID'] = y_train.index\n",
    "y_train_pred_final.head()"
   ]
  },
  {
   "cell_type": "code",
   "execution_count": 95,
   "metadata": {},
   "outputs": [
    {
     "data": {
      "text/html": [
       "<div>\n",
       "<style scoped>\n",
       "    .dataframe tbody tr th:only-of-type {\n",
       "        vertical-align: middle;\n",
       "    }\n",
       "\n",
       "    .dataframe tbody tr th {\n",
       "        vertical-align: top;\n",
       "    }\n",
       "\n",
       "    .dataframe thead th {\n",
       "        text-align: right;\n",
       "    }\n",
       "</style>\n",
       "<table border=\"1\" class=\"dataframe\">\n",
       "  <thead>\n",
       "    <tr style=\"text-align: right;\">\n",
       "      <th></th>\n",
       "      <th>Converted</th>\n",
       "      <th>Conv_Prob</th>\n",
       "      <th>LeadID</th>\n",
       "      <th>predicted</th>\n",
       "    </tr>\n",
       "  </thead>\n",
       "  <tbody>\n",
       "    <tr>\n",
       "      <td>0</td>\n",
       "      <td>0</td>\n",
       "      <td>0.011424</td>\n",
       "      <td>6490</td>\n",
       "      <td>0</td>\n",
       "    </tr>\n",
       "    <tr>\n",
       "      <td>1</td>\n",
       "      <td>1</td>\n",
       "      <td>0.935642</td>\n",
       "      <td>4026</td>\n",
       "      <td>1</td>\n",
       "    </tr>\n",
       "    <tr>\n",
       "      <td>2</td>\n",
       "      <td>1</td>\n",
       "      <td>0.317694</td>\n",
       "      <td>6453</td>\n",
       "      <td>0</td>\n",
       "    </tr>\n",
       "    <tr>\n",
       "      <td>3</td>\n",
       "      <td>1</td>\n",
       "      <td>0.960361</td>\n",
       "      <td>8949</td>\n",
       "      <td>1</td>\n",
       "    </tr>\n",
       "    <tr>\n",
       "      <td>4</td>\n",
       "      <td>0</td>\n",
       "      <td>0.063421</td>\n",
       "      <td>6467</td>\n",
       "      <td>0</td>\n",
       "    </tr>\n",
       "  </tbody>\n",
       "</table>\n",
       "</div>"
      ],
      "text/plain": [
       "   Converted  Conv_Prob  LeadID  predicted\n",
       "0          0   0.011424    6490          0\n",
       "1          1   0.935642    4026          1\n",
       "2          1   0.317694    6453          0\n",
       "3          1   0.960361    8949          1\n",
       "4          0   0.063421    6467          0"
      ]
     },
     "execution_count": 95,
     "metadata": {},
     "output_type": "execute_result"
    }
   ],
   "source": [
    "# Using a threshold of 0.5 probability initially.\n",
    "y_train_pred_final['predicted'] = y_train_pred_final.Conv_Prob.map(lambda x: 1 if x > 0.5 else 0)\n",
    "y_train_pred_final.head()"
   ]
  },
  {
   "cell_type": "markdown",
   "metadata": {},
   "source": [
    "#### Reviewing Confusion Matrix and Model Metrics"
   ]
  },
  {
   "cell_type": "code",
   "execution_count": 96,
   "metadata": {},
   "outputs": [],
   "source": [
    "# Defining a function to be useful again when needed.\n",
    "def print_metrics(confusion,accuracy):\n",
    "    print('Confusion Matrix : ')\n",
    "    print(confusion)\n",
    "    \n",
    "    # Print all metrics\n",
    "    TP = confusion[1,1] # true positive \n",
    "    TN = confusion[0,0] # true negatives\n",
    "    FP = confusion[0,1] # false positives\n",
    "    FN = confusion[1,0] # false negatives\n",
    "    \n",
    "    print('Accuracy: ', round(100*accuracy, 2),'%')\n",
    "    print('Sensitivity: ', round(100*(TP / float(TP+FN)), 2),'%')\n",
    "    print('Specificity: ', round(100*(TN / float(TN+FP)), 2),'%')\n",
    "    print('False positive rate: ', round(100*(FP/ float(TN+FP)), 2),'%')\n",
    "    print('Positive predictive value: ', round(100*(TP / float(TP+FP)), 2),'%')\n",
    "    print('Negative predictive value: ', round(100*(TN / float(TN+FN)), 2),'%')\n",
    "    print('Precision: ', round(100*(TP / float(TP + FP)), 2),'%')\n",
    "    print('Recall: ', round(100*(TP / float(TP + FN)), 2),'%')"
   ]
  },
  {
   "cell_type": "code",
   "execution_count": 97,
   "metadata": {},
   "outputs": [
    {
     "name": "stdout",
     "output_type": "stream",
     "text": [
      "Confusion Matrix : \n",
      "[[3705  224]\n",
      " [ 242 2238]]\n",
      "Accuracy:  92.73 %\n",
      "Sensitivity:  90.24 %\n",
      "Specificity:  94.3 %\n",
      "False positive rate:  5.7 %\n",
      "Positive predictive value:  90.9 %\n",
      "Negative predictive value:  93.87 %\n",
      "Precision:  90.9 %\n",
      "Recall:  90.24 %\n"
     ]
    }
   ],
   "source": [
    "# Confusion Matrix\n",
    "confusion = metrics.confusion_matrix(y_train_pred_final.Converted, y_train_pred_final.predicted )\n",
    "# Checking Model Accuracy\n",
    "accuracy = metrics.accuracy_score(y_train_pred_final.Converted, y_train_pred_final.predicted)\n",
    "print_metrics(confusion,accuracy)"
   ]
  },
  {
   "cell_type": "markdown",
   "metadata": {},
   "source": [
    "####  ROC Curve plot"
   ]
  },
  {
   "cell_type": "code",
   "execution_count": 98,
   "metadata": {},
   "outputs": [
    {
     "data": {
      "image/png": "[encoded data removed]",
      "text/plain": [
       "<Figure size 360x360 with 1 Axes>"
      ]
     },
     "metadata": {
      "needs_background": "light"
     },
     "output_type": "display_data"
    }
   ],
   "source": [
    "# Drawing ROC Curve\n",
    "def draw_roc( actual, probs ):\n",
    "    fpr, tpr, thresholds = metrics.roc_curve( actual, probs,\n",
    "                                              drop_intermediate = False )\n",
    "    auc_score = metrics.roc_auc_score( actual, probs )\n",
    "    plt.figure(figsize=(5, 5))\n",
    "    plt.plot( fpr, tpr, label='ROC curve (area = %0.2f)' % auc_score )\n",
    "    plt.plot([0, 1], [0, 1], 'k--')\n",
    "    plt.xlim([0.0, 1.0])\n",
    "    plt.ylim([0.0, 1.05])\n",
    "    plt.xlabel('False Positive Rate or [1 - True Negative Rate]')\n",
    "    plt.ylabel('True Positive Rate')\n",
    "    plt.title('Receiver operating characteristic')\n",
    "    plt.legend(loc=\"lower right\")\n",
    "    plt.show()\n",
    "\n",
    "draw_roc(y_train_pred_final.Converted, y_train_pred_final.Conv_Prob)"
   ]
  },
  {
   "cell_type": "markdown",
   "metadata": {},
   "source": [
    "####  Determine Optimal cut-off point (Rather than earlier used 0.5)"
   ]
  },
  {
   "cell_type": "code",
   "execution_count": 99,
   "metadata": {},
   "outputs": [
    {
     "data": {
      "image/png": "[encoded data removed]",
      "text/plain": [
       "<Figure size 432x288 with 1 Axes>"
      ]
     },
     "metadata": {
      "needs_background": "light"
     },
     "output_type": "display_data"
    }
   ],
   "source": [
    "# Plotting Accuracy,Sensitivity,Specificity vs Probabilty\n",
    "numbers = [float(x)/50 for x in range(50)]\n",
    "for i in numbers:\n",
    "    y_train_pred_final[i]= y_train_pred_final.Conv_Prob.map(lambda x: 1 if x > i else 0)\n",
    "\n",
    "cutoff_df = pd.DataFrame( columns = ['prob','accuracy','sensitivity','specificity'])\n",
    "from sklearn.metrics import confusion_matrix\n",
    "\n",
    "for i in numbers:\n",
    "    cm1 = metrics.confusion_matrix(y_train_pred_final.Converted, y_train_pred_final[i] )\n",
    "    total1=sum(sum(cm1))\n",
    "    accuracy = (cm1[0,0]+cm1[1,1])/total1\n",
    "    \n",
    "    speci = cm1[0,0]/(cm1[0,0]+cm1[0,1])\n",
    "    sensi = cm1[1,1]/(cm1[1,0]+cm1[1,1])\n",
    "    cutoff_df.loc[i] =[ i ,accuracy,sensi,speci]\n",
    "\n",
    "cutoff_df.plot.line(x='prob', y=['accuracy','sensitivity','specificity'])\n",
    "plt.show()"
   ]
  },
  {
   "cell_type": "code",
   "execution_count": 100,
   "metadata": {},
   "outputs": [
    {
     "data": {
      "text/html": [
       "<div>\n",
       "<style scoped>\n",
       "    .dataframe tbody tr th:only-of-type {\n",
       "        vertical-align: middle;\n",
       "    }\n",
       "\n",
       "    .dataframe tbody tr th {\n",
       "        vertical-align: top;\n",
       "    }\n",
       "\n",
       "    .dataframe thead th {\n",
       "        text-align: right;\n",
       "    }\n",
       "</style>\n",
       "<table border=\"1\" class=\"dataframe\">\n",
       "  <thead>\n",
       "    <tr style=\"text-align: right;\">\n",
       "      <th></th>\n",
       "      <th>prob</th>\n",
       "      <th>accuracy</th>\n",
       "      <th>sensitivity</th>\n",
       "      <th>specificity</th>\n",
       "    </tr>\n",
       "  </thead>\n",
       "  <tbody>\n",
       "    <tr>\n",
       "      <td>0.28</td>\n",
       "      <td>0.28</td>\n",
       "      <td>0.913715</td>\n",
       "      <td>0.923790</td>\n",
       "      <td>0.907356</td>\n",
       "    </tr>\n",
       "    <tr>\n",
       "      <td>0.30</td>\n",
       "      <td>0.30</td>\n",
       "      <td>0.915275</td>\n",
       "      <td>0.923387</td>\n",
       "      <td>0.910155</td>\n",
       "    </tr>\n",
       "  </tbody>\n",
       "</table>\n",
       "</div>"
      ],
      "text/plain": [
       "      prob  accuracy  sensitivity  specificity\n",
       "0.28  0.28  0.913715     0.923790     0.907356\n",
       "0.30  0.30  0.915275     0.923387     0.910155"
      ]
     },
     "execution_count": 100,
     "metadata": {},
     "output_type": "execute_result"
    }
   ],
   "source": [
    "# From plot we see that the intersection point is approximately 0.3. We can confirm this by looking at raw values.\n",
    "# Select dataframe values where absolute differences between accuracy, sensitivity and specificity are less than 2%.\n",
    "cutoff_df[(abs(cutoff_df.accuracy-cutoff_df.sensitivity)<0.02) & (abs(cutoff_df.accuracy-cutoff_df.specificity)<0.02) & (abs(cutoff_df.specificity-cutoff_df.sensitivity)<0.02)]"
   ]
  },
  {
   "cell_type": "code",
   "execution_count": 101,
   "metadata": {},
   "outputs": [],
   "source": [
    "# There are two values, but probability of 0.3 has better accuracy and specificty while maintaining same level of sensitivity.\n",
    "# Hence, selecting optimal cut off as 0.3"
   ]
  },
  {
   "cell_type": "markdown",
   "metadata": {},
   "source": [
    "### 4.5 Final Prediction on Train data set using Optimal Cutoff"
   ]
  },
  {
   "cell_type": "code",
   "execution_count": 102,
   "metadata": {},
   "outputs": [
    {
     "name": "stdout",
     "output_type": "stream",
     "text": [
      "Confusion Matrix : \n",
      "[[3576  353]\n",
      " [ 190 2290]]\n",
      "Accuracy:  92.73 %\n",
      "Sensitivity:  92.34 %\n",
      "Specificity:  91.02 %\n",
      "False positive rate:  8.98 %\n",
      "Positive predictive value:  86.64 %\n",
      "Negative predictive value:  94.95 %\n",
      "Precision:  86.64 %\n",
      "Recall:  92.34 %\n"
     ]
    },
    {
     "data": {
      "image/png": "[encoded data removed]",
      "text/plain": [
       "<Figure size 360x360 with 1 Axes>"
      ]
     },
     "metadata": {
      "needs_background": "light"
     },
     "output_type": "display_data"
    }
   ],
   "source": [
    "# Prediction using optimal cutoff 0.3\n",
    "OPT_CUTOFF = 0.3\n",
    "y_train_pred_final['final_predicted'] = y_train_pred_final.Conv_Prob.map( lambda x: 1 if x > OPT_CUTOFF else 0)\n",
    "confusion = metrics.confusion_matrix(y_train_pred_final.Converted, y_train_pred_final.final_predicted )\n",
    "accuracy = metrics.accuracy_score(y_train_pred_final.Converted, y_train_pred_final.predicted)\n",
    "print_metrics(confusion,accuracy)\n",
    "draw_roc(y_train_pred_final.Converted, y_train_pred_final.Conv_Prob)"
   ]
  },
  {
   "cell_type": "markdown",
   "metadata": {},
   "source": [
    "### 4.6 Model Evaluation on Test data set"
   ]
  },
  {
   "cell_type": "code",
   "execution_count": 103,
   "metadata": {},
   "outputs": [],
   "source": [
    "# Scaling Test data set\n",
    "X_test[num_cols] = scaler.transform(X_test[num_cols])\n",
    "X_test = X_test[col_w_support]"
   ]
  },
  {
   "cell_type": "code",
   "execution_count": 104,
   "metadata": {},
   "outputs": [
    {
     "data": {
      "text/html": [
       "<div>\n",
       "<style scoped>\n",
       "    .dataframe tbody tr th:only-of-type {\n",
       "        vertical-align: middle;\n",
       "    }\n",
       "\n",
       "    .dataframe tbody tr th {\n",
       "        vertical-align: top;\n",
       "    }\n",
       "\n",
       "    .dataframe thead th {\n",
       "        text-align: right;\n",
       "    }\n",
       "</style>\n",
       "<table border=\"1\" class=\"dataframe\">\n",
       "  <thead>\n",
       "    <tr style=\"text-align: right;\">\n",
       "      <th></th>\n",
       "      <th>LeadID</th>\n",
       "      <th>Converted</th>\n",
       "      <th>Conv_Prob</th>\n",
       "      <th>final_predicted</th>\n",
       "    </tr>\n",
       "  </thead>\n",
       "  <tbody>\n",
       "    <tr>\n",
       "      <td>0</td>\n",
       "      <td>7359</td>\n",
       "      <td>0</td>\n",
       "      <td>0.317694</td>\n",
       "      <td>1</td>\n",
       "    </tr>\n",
       "    <tr>\n",
       "      <td>1</td>\n",
       "      <td>2201</td>\n",
       "      <td>0</td>\n",
       "      <td>0.011424</td>\n",
       "      <td>0</td>\n",
       "    </tr>\n",
       "    <tr>\n",
       "      <td>2</td>\n",
       "      <td>2473</td>\n",
       "      <td>1</td>\n",
       "      <td>0.995583</td>\n",
       "      <td>1</td>\n",
       "    </tr>\n",
       "    <tr>\n",
       "      <td>3</td>\n",
       "      <td>8388</td>\n",
       "      <td>0</td>\n",
       "      <td>0.011424</td>\n",
       "      <td>0</td>\n",
       "    </tr>\n",
       "    <tr>\n",
       "      <td>4</td>\n",
       "      <td>2949</td>\n",
       "      <td>0</td>\n",
       "      <td>0.011424</td>\n",
       "      <td>0</td>\n",
       "    </tr>\n",
       "    <tr>\n",
       "      <td>...</td>\n",
       "      <td>...</td>\n",
       "      <td>...</td>\n",
       "      <td>...</td>\n",
       "      <td>...</td>\n",
       "    </tr>\n",
       "    <tr>\n",
       "      <td>2743</td>\n",
       "      <td>7308</td>\n",
       "      <td>0</td>\n",
       "      <td>0.100863</td>\n",
       "      <td>0</td>\n",
       "    </tr>\n",
       "    <tr>\n",
       "      <td>2744</td>\n",
       "      <td>3154</td>\n",
       "      <td>0</td>\n",
       "      <td>0.047667</td>\n",
       "      <td>0</td>\n",
       "    </tr>\n",
       "    <tr>\n",
       "      <td>2745</td>\n",
       "      <td>9118</td>\n",
       "      <td>0</td>\n",
       "      <td>0.317694</td>\n",
       "      <td>1</td>\n",
       "    </tr>\n",
       "    <tr>\n",
       "      <td>2746</td>\n",
       "      <td>8092</td>\n",
       "      <td>1</td>\n",
       "      <td>0.960361</td>\n",
       "      <td>1</td>\n",
       "    </tr>\n",
       "    <tr>\n",
       "      <td>2747</td>\n",
       "      <td>4744</td>\n",
       "      <td>0</td>\n",
       "      <td>0.317694</td>\n",
       "      <td>1</td>\n",
       "    </tr>\n",
       "  </tbody>\n",
       "</table>\n",
       "<p>2748 rows × 4 columns</p>\n",
       "</div>"
      ],
      "text/plain": [
       "      LeadID  Converted  Conv_Prob  final_predicted\n",
       "0       7359          0   0.317694                1\n",
       "1       2201          0   0.011424                0\n",
       "2       2473          1   0.995583                1\n",
       "3       8388          0   0.011424                0\n",
       "4       2949          0   0.011424                0\n",
       "...      ...        ...        ...              ...\n",
       "2743    7308          0   0.100863                0\n",
       "2744    3154          0   0.047667                0\n",
       "2745    9118          0   0.317694                1\n",
       "2746    8092          1   0.960361                1\n",
       "2747    4744          0   0.317694                1\n",
       "\n",
       "[2748 rows x 4 columns]"
      ]
     },
     "execution_count": 104,
     "metadata": {},
     "output_type": "execute_result"
    }
   ],
   "source": [
    "# Predecting using Test data set\n",
    "X_test_sm = sm.add_constant(X_test)\n",
    "y_test_pred = res.predict(X_test_sm)\n",
    "\n",
    "y_pred_1 = pd.DataFrame(y_test_pred)\n",
    "y_test_df = pd.DataFrame(y_test)\n",
    "\n",
    "y_test_df['LeadID'] = y_test_df.index\n",
    "y_pred_1.reset_index(drop=True, inplace=True)\n",
    "y_test_df.reset_index(drop=True, inplace=True)\n",
    "y_pred_final = pd.concat([y_test_df, y_pred_1],axis=1)\n",
    "\n",
    "y_pred_final= y_pred_final.rename(columns={ 0 : 'Conv_Prob'})\n",
    "y_pred_final = y_pred_final[['LeadID','Converted','Conv_Prob']]\n",
    "y_pred_final['final_predicted'] = y_pred_final.Conv_Prob.map(lambda x: 1 if x > OPT_CUTOFF else 0)\n",
    "y_pred_final"
   ]
  },
  {
   "cell_type": "code",
   "execution_count": 105,
   "metadata": {},
   "outputs": [
    {
     "name": "stdout",
     "output_type": "stream",
     "text": [
      "Confusion Matrix : \n",
      "[[1567  136]\n",
      " [  82  963]]\n",
      "Accuracy:  92.07 %\n",
      "Sensitivity:  92.15 %\n",
      "Specificity:  92.01 %\n",
      "False positive rate:  7.99 %\n",
      "Positive predictive value:  87.63 %\n",
      "Negative predictive value:  95.03 %\n",
      "Precision:  87.63 %\n",
      "Recall:  92.15 %\n"
     ]
    },
    {
     "data": {
      "image/png": "[encoded data removed]",
      "text/plain": [
       "<Figure size 360x360 with 1 Axes>"
      ]
     },
     "metadata": {
      "needs_background": "light"
     },
     "output_type": "display_data"
    }
   ],
   "source": [
    "# Confusion Matrix for Test data set\n",
    "confusion = metrics.confusion_matrix(y_pred_final.Converted, y_pred_final.final_predicted )\n",
    "accuracy = metrics.accuracy_score(y_pred_final.Converted, y_pred_final.final_predicted)\n",
    "print_metrics(confusion,accuracy)\n",
    "draw_roc(y_pred_final.Converted, y_pred_final.Conv_Prob)"
   ]
  },
  {
   "cell_type": "code",
   "execution_count": 106,
   "metadata": {},
   "outputs": [
    {
     "name": "stdout",
     "output_type": "stream",
     "text": [
      "Conversion Rate  87.6\n"
     ]
    }
   ],
   "source": [
    "# Conversion Rate\n",
    "# Conversion rate will be ratio of number of people really converted to number of people predicted to be converted.\n",
    "# Thus this is ratio of True-Positives to Total Positives predicted.\n",
    "# With predicted values, this is\n",
    "#  Converted people = True Positives\n",
    "#  Total leads = Total Positives (TP + FP)\n",
    "# Thus, conversion rate will be\n",
    "conv_rate = 100*round(confusion[1,1]/(confusion[1,1]+confusion[0,1]),3)\n",
    "print(\"Conversion Rate \",conv_rate)"
   ]
  },
  {
   "cell_type": "markdown",
   "metadata": {},
   "source": [
    "### 4.7 Generating lead score on Test data set\n",
    "\n",
    "#### Lead score is nothing but rounded integer of 100*Probability"
   ]
  },
  {
   "cell_type": "code",
   "execution_count": 107,
   "metadata": {},
   "outputs": [
    {
     "data": {
      "text/plain": [
       "(2748, 5)"
      ]
     },
     "execution_count": 107,
     "metadata": {},
     "output_type": "execute_result"
    }
   ],
   "source": [
    "# Calculating Lead score\n",
    "y_pred_final = y_pred_final[['LeadID', 'Converted', 'Conv_Prob', 'final_predicted']]\n",
    "\n",
    "data_pred = y_pred_final\n",
    "\n",
    "data_pred['Lead_Score'] = data_pred['Conv_Prob'].apply(lambda x : round(x*100,2))\n",
    "data_pred = data_pred.sort_values(by=['Lead_Score'], axis = 0, ascending = True)\n",
    "data_pred.shape"
   ]
  },
  {
   "cell_type": "code",
   "execution_count": 108,
   "metadata": {},
   "outputs": [
    {
     "data": {
      "image/png": "[encoded data removed]",
      "text/plain": [
       "<Figure size 432x288 with 1 Axes>"
      ]
     },
     "metadata": {
      "needs_background": "light"
     },
     "output_type": "display_data"
    }
   ],
   "source": [
    "sns.distplot(data_pred.Lead_Score)\n",
    "plt.show()"
   ]
  },
  {
   "cell_type": "markdown",
   "metadata": {},
   "source": [
    "#### We can see from plot that, there are two gaussian distributions centered around 0 and 100. \n",
    "#### These correspond to class 0 (Not converted) and class 1 (Converted)."
   ]
  },
  {
   "cell_type": "markdown",
   "metadata": {},
   "source": [
    "## Step 5: Final Analysis and Recommendations"
   ]
  },
  {
   "cell_type": "markdown",
   "metadata": {},
   "source": [
    "### The below are the Features from the Final Model bulit\n",
    "#### Positivily impactiing features \n",
    "1. Tags_Closed by Horizzon\n",
    "2. Tags_Lost to EINS\n",
    "3. Tags_Will revert after reading the emai\n",
    "4. Tags_No Tags\n",
    "5. Lead Source_Welingak Website\n",
    "6. Last Activity_SMS Sent\n",
    "7. Tags_Other\n",
    "\n",
    "#### Negatively impactiing features \n",
    "1. What matters most to you in choosing a course_Unspecified\n",
    "2. Tags_Ringing\n",
    "3. Last Notable Activity_Modified\n",
    "\n",
    "\n",
    "### Below is the Metric Summary on the Train data set\n",
    "\n",
    "| METRIC | VALUE | \n",
    "| --- | --- |\n",
    "| Accuracy |92.73%|\n",
    "| Sensitivity |92.34%|\n",
    "| Specificity |91.02% |\n",
    "| Precision |86.64% |\n",
    "| Recall |92.34%|\n",
    "\n",
    "### Below is the Metric Summary on the Test data set\n",
    "\n",
    "| METRIC | VALUE | \n",
    "| --- | --- |\n",
    "| Accuracy |92.07%|\n",
    "| Sensitivity |92.15% |\n",
    "| Specificity |92.01% |\n",
    "| Precision |87.63% |\n",
    "| Recall |92.15% |\n",
    "\n",
    "\n",
    "\n",
    "### Conversion Rate \n",
    "\n",
    "| Conversion Rate | VALUE | \n",
    "| --- | --- |\n",
    "| With Model |87.6%|\n",
    "\n",
    "\n",
    "### The Model Built is Good in predection based \n",
    "\n",
    "1. All the Metrics are almost similar for both Train and Test Data\n",
    "2. Conversion Rate is  87%"
   ]
  },
  {
   "cell_type": "code",
   "execution_count": null,
   "metadata": {},
   "outputs": [],
   "source": []
  }
 ],
 "metadata": {
  "kernelspec": {
   "display_name": "Python 3",
   "language": "python",
   "name": "python3"
  },
  "language_info": {
   "codemirror_mode": {
    "name": "ipython",
    "version": 3
   },
   "file_extension": ".py",
   "mimetype": "text/x-python",
   "name": "python",
   "nbconvert_exporter": "python",
   "pygments_lexer": "ipython3",
   "version": "3.7.4"
  }
 },
 "nbformat": 4,
 "nbformat_minor": 2
}
