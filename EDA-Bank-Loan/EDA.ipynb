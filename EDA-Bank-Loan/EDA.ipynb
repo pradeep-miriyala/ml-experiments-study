{
 "cells": [
  {
   "cell_type": "markdown",
   "metadata": {},
   "source": [
    "## EDA Case study on Bank Application Data\n",
    "__Authors__\n",
    "* S S B Phani Pradeep Miriyala\n",
    "* Chandra Sekhar Reddy Kandimalla"
   ]
  },
  {
   "cell_type": "code",
   "execution_count": 1,
   "metadata": {},
   "outputs": [],
   "source": [
    "# UPGRAD EDA Case Study \n",
    "# Importing all the necessary libraries\n",
    "import numpy as np\n",
    "import pandas as pd\n",
    "import matplotlib.pyplot as plt\n",
    "import seaborn as sns\n",
    "%matplotlib inline\n",
    "import warnings\n",
    "warnings.filterwarnings('ignore')"
   ]
  },
  {
   "cell_type": "markdown",
   "metadata": {},
   "source": [
    "__Data Files__\n",
    "* application_data.csv : *Consists of current application data details*\n",
    "* previous_application.csv : *Consists of data about customer's previous application history*\n",
    "* column_description.csv : *Consists of desccriptions about each column in application data and previous application data files. This file will not be considered for any analysis and is an auxiliary information file*"
   ]
  },
  {
   "cell_type": "markdown",
   "metadata": {},
   "source": [
    "# Data Exploration on current application data\n",
    "### Step 1 : Start by importing the application data file\n",
    "__Basic exploration of \"application data\" file__\n",
    "* Import data from application data file\n",
    "* Check for data properties"
   ]
  },
  {
   "cell_type": "code",
   "execution_count": 2,
   "metadata": {},
   "outputs": [],
   "source": [
    "# Load the data fully.\n",
    "data_file=\"application_data.csv\"\n",
    "app_data = pd.read_csv(data_file)"
   ]
  },
  {
   "cell_type": "markdown",
   "metadata": {},
   "source": [
    "### Step 2 : Check the structure of the data"
   ]
  },
  {
   "cell_type": "code",
   "execution_count": 3,
   "metadata": {},
   "outputs": [
    {
     "name": "stdout",
     "output_type": "stream",
     "text": [
      "Data shape : (307511, 122)\n",
      "<class 'pandas.core.frame.DataFrame'>\n",
      "RangeIndex: 307511 entries, 0 to 307510\n",
      "Columns: 122 entries, SK_ID_CURR to AMT_REQ_CREDIT_BUREAU_YEAR\n",
      "dtypes: float64(65), int64(41), object(16)\n",
      "memory usage: 286.2+ MB\n"
     ]
    }
   ],
   "source": [
    "# Let us identify data structure properties\n",
    "print(\"Data shape :\", app_data.shape)\n",
    "app_data.info()"
   ]
  },
  {
   "cell_type": "markdown",
   "metadata": {},
   "source": [
    "***\n",
    "The data has over 3 Lakh rows and 122 columns. Now let us move on to data quality check.\n",
    "***\n",
    "###  Step 3: Data Quality Check and missing values\n",
    "#### Step 3. a : finding the percentage of missing values for all the columns"
   ]
  },
  {
   "cell_type": "code",
   "execution_count": 4,
   "metadata": {},
   "outputs": [
    {
     "name": "stdout",
     "output_type": "stream",
     "text": [
      "                              Null_Percentage\n",
      "COMMONAREA_MEDI                     69.872297\n",
      "COMMONAREA_AVG                      69.872297\n",
      "COMMONAREA_MODE                     69.872297\n",
      "NONLIVINGAPARTMENTS_MODE            69.432963\n",
      "NONLIVINGAPARTMENTS_AVG             69.432963\n",
      "NONLIVINGAPARTMENTS_MEDI            69.432963\n",
      "FONDKAPREMONT_MODE                  68.386172\n",
      "LIVINGAPARTMENTS_MODE               68.354953\n",
      "LIVINGAPARTMENTS_AVG                68.354953\n",
      "LIVINGAPARTMENTS_MEDI               68.354953\n",
      "FLOORSMIN_AVG                       67.848630\n",
      "FLOORSMIN_MODE                      67.848630\n",
      "FLOORSMIN_MEDI                      67.848630\n",
      "YEARS_BUILD_MEDI                    66.497784\n",
      "YEARS_BUILD_MODE                    66.497784\n",
      "YEARS_BUILD_AVG                     66.497784\n",
      "OWN_CAR_AGE                         65.990810\n",
      "LANDAREA_MEDI                       59.376738\n",
      "LANDAREA_MODE                       59.376738\n",
      "LANDAREA_AVG                        59.376738\n",
      "BASEMENTAREA_MEDI                   58.515956\n",
      "BASEMENTAREA_AVG                    58.515956\n",
      "BASEMENTAREA_MODE                   58.515956\n",
      "EXT_SOURCE_1                        56.381073\n",
      "NONLIVINGAREA_MODE                  55.179164\n",
      "NONLIVINGAREA_AVG                   55.179164\n",
      "NONLIVINGAREA_MEDI                  55.179164\n",
      "ELEVATORS_MEDI                      53.295980\n",
      "ELEVATORS_AVG                       53.295980\n",
      "ELEVATORS_MODE                      53.295980\n",
      "WALLSMATERIAL_MODE                  50.840783\n",
      "APARTMENTS_MEDI                     50.749729\n",
      "APARTMENTS_AVG                      50.749729\n",
      "APARTMENTS_MODE                     50.749729\n",
      "ENTRANCES_MEDI                      50.348768\n",
      "ENTRANCES_AVG                       50.348768\n",
      "ENTRANCES_MODE                      50.348768\n",
      "LIVINGAREA_AVG                      50.193326\n",
      "LIVINGAREA_MODE                     50.193326\n",
      "LIVINGAREA_MEDI                     50.193326\n",
      "HOUSETYPE_MODE                      50.176091\n",
      "FLOORSMAX_MODE                      49.760822\n",
      "FLOORSMAX_MEDI                      49.760822\n",
      "FLOORSMAX_AVG                       49.760822\n",
      "YEARS_BEGINEXPLUATATION_MODE        48.781019\n",
      "YEARS_BEGINEXPLUATATION_MEDI        48.781019\n",
      "YEARS_BEGINEXPLUATATION_AVG         48.781019\n",
      "TOTALAREA_MODE                      48.268517\n",
      "EMERGENCYSTATE_MODE                 47.398304\n"
     ]
    }
   ],
   "source": [
    "# Get null counts in each column and sort them by columns having highest percentage of null values.\n",
    "null_percentage=(app_data.isnull().sum()*100/app_data.shape[0]).to_frame('Null_Percentage')\n",
    "null_percentage.sort_values(by='Null_Percentage',ascending=False,inplace=True)\n",
    "# Print only columns where there are some nulls.\n",
    "# Also adjust the maximum rows displayed temporarily and reset after all columns are displayed.\n",
    "def_rows = pd.options.display.max_rows\n",
    "pd.options.display.max_rows = 100\n",
    "# Let us get list of columns where Null value percentages are above 40%.\n",
    "cols_to_remove = null_percentage[null_percentage.Null_Percentage>40].index\n",
    "print(null_percentage[null_percentage.Null_Percentage>40])\n",
    "pd.options.display.max_rows = def_rows"
   ]
  },
  {
   "cell_type": "markdown",
   "metadata": {},
   "source": [
    "#### Step 3.b: Remove the columns where data is missing for above 45% of whole set."
   ]
  },
  {
   "cell_type": "code",
   "execution_count": 5,
   "metadata": {},
   "outputs": [],
   "source": [
    "# Chosing threshold as 40% to remove\n",
    "app_data.drop(cols_to_remove,axis=1,inplace=True)"
   ]
  },
  {
   "cell_type": "code",
   "execution_count": 6,
   "metadata": {
    "scrolled": true
   },
   "outputs": [
    {
     "name": "stdout",
     "output_type": "stream",
     "text": [
      "<class 'pandas.core.frame.DataFrame'>\n",
      "RangeIndex: 307511 entries, 0 to 307510\n",
      "Data columns (total 73 columns):\n",
      "SK_ID_CURR                     307511 non-null int64\n",
      "TARGET                         307511 non-null int64\n",
      "NAME_CONTRACT_TYPE             307511 non-null object\n",
      "CODE_GENDER                    307511 non-null object\n",
      "FLAG_OWN_CAR                   307511 non-null object\n",
      "FLAG_OWN_REALTY                307511 non-null object\n",
      "CNT_CHILDREN                   307511 non-null int64\n",
      "AMT_INCOME_TOTAL               307511 non-null float64\n",
      "AMT_CREDIT                     307511 non-null float64\n",
      "AMT_ANNUITY                    307499 non-null float64\n",
      "AMT_GOODS_PRICE                307233 non-null float64\n",
      "NAME_TYPE_SUITE                306219 non-null object\n",
      "NAME_INCOME_TYPE               307511 non-null object\n",
      "NAME_EDUCATION_TYPE            307511 non-null object\n",
      "NAME_FAMILY_STATUS             307511 non-null object\n",
      "NAME_HOUSING_TYPE              307511 non-null object\n",
      "REGION_POPULATION_RELATIVE     307511 non-null float64\n",
      "DAYS_BIRTH                     307511 non-null int64\n",
      "DAYS_EMPLOYED                  307511 non-null int64\n",
      "DAYS_REGISTRATION              307511 non-null float64\n",
      "DAYS_ID_PUBLISH                307511 non-null int64\n",
      "FLAG_MOBIL                     307511 non-null int64\n",
      "FLAG_EMP_PHONE                 307511 non-null int64\n",
      "FLAG_WORK_PHONE                307511 non-null int64\n",
      "FLAG_CONT_MOBILE               307511 non-null int64\n",
      "FLAG_PHONE                     307511 non-null int64\n",
      "FLAG_EMAIL                     307511 non-null int64\n",
      "OCCUPATION_TYPE                211120 non-null object\n",
      "CNT_FAM_MEMBERS                307509 non-null float64\n",
      "REGION_RATING_CLIENT           307511 non-null int64\n",
      "REGION_RATING_CLIENT_W_CITY    307511 non-null int64\n",
      "WEEKDAY_APPR_PROCESS_START     307511 non-null object\n",
      "HOUR_APPR_PROCESS_START        307511 non-null int64\n",
      "REG_REGION_NOT_LIVE_REGION     307511 non-null int64\n",
      "REG_REGION_NOT_WORK_REGION     307511 non-null int64\n",
      "LIVE_REGION_NOT_WORK_REGION    307511 non-null int64\n",
      "REG_CITY_NOT_LIVE_CITY         307511 non-null int64\n",
      "REG_CITY_NOT_WORK_CITY         307511 non-null int64\n",
      "LIVE_CITY_NOT_WORK_CITY        307511 non-null int64\n",
      "ORGANIZATION_TYPE              307511 non-null object\n",
      "EXT_SOURCE_2                   306851 non-null float64\n",
      "EXT_SOURCE_3                   246546 non-null float64\n",
      "OBS_30_CNT_SOCIAL_CIRCLE       306490 non-null float64\n",
      "DEF_30_CNT_SOCIAL_CIRCLE       306490 non-null float64\n",
      "OBS_60_CNT_SOCIAL_CIRCLE       306490 non-null float64\n",
      "DEF_60_CNT_SOCIAL_CIRCLE       306490 non-null float64\n",
      "DAYS_LAST_PHONE_CHANGE         307510 non-null float64\n",
      "FLAG_DOCUMENT_2                307511 non-null int64\n",
      "FLAG_DOCUMENT_3                307511 non-null int64\n",
      "FLAG_DOCUMENT_4                307511 non-null int64\n",
      "FLAG_DOCUMENT_5                307511 non-null int64\n",
      "FLAG_DOCUMENT_6                307511 non-null int64\n",
      "FLAG_DOCUMENT_7                307511 non-null int64\n",
      "FLAG_DOCUMENT_8                307511 non-null int64\n",
      "FLAG_DOCUMENT_9                307511 non-null int64\n",
      "FLAG_DOCUMENT_10               307511 non-null int64\n",
      "FLAG_DOCUMENT_11               307511 non-null int64\n",
      "FLAG_DOCUMENT_12               307511 non-null int64\n",
      "FLAG_DOCUMENT_13               307511 non-null int64\n",
      "FLAG_DOCUMENT_14               307511 non-null int64\n",
      "FLAG_DOCUMENT_15               307511 non-null int64\n",
      "FLAG_DOCUMENT_16               307511 non-null int64\n",
      "FLAG_DOCUMENT_17               307511 non-null int64\n",
      "FLAG_DOCUMENT_18               307511 non-null int64\n",
      "FLAG_DOCUMENT_19               307511 non-null int64\n",
      "FLAG_DOCUMENT_20               307511 non-null int64\n",
      "FLAG_DOCUMENT_21               307511 non-null int64\n",
      "AMT_REQ_CREDIT_BUREAU_HOUR     265992 non-null float64\n",
      "AMT_REQ_CREDIT_BUREAU_DAY      265992 non-null float64\n",
      "AMT_REQ_CREDIT_BUREAU_WEEK     265992 non-null float64\n",
      "AMT_REQ_CREDIT_BUREAU_MON      265992 non-null float64\n",
      "AMT_REQ_CREDIT_BUREAU_QRT      265992 non-null float64\n",
      "AMT_REQ_CREDIT_BUREAU_YEAR     265992 non-null float64\n",
      "dtypes: float64(20), int64(41), object(12)\n",
      "memory usage: 171.3+ MB\n"
     ]
    }
   ],
   "source": [
    "# Recheck data frame information.\n",
    "app_data.info()"
   ]
  },
  {
   "cell_type": "code",
   "execution_count": 7,
   "metadata": {},
   "outputs": [
    {
     "name": "stdout",
     "output_type": "stream",
     "text": [
      "REG_CITY_NOT_LIVE_CITY              2\n",
      "FLAG_EMAIL                          2\n",
      "FLAG_DOCUMENT_9                     2\n",
      "REG_REGION_NOT_LIVE_REGION          2\n",
      "REG_REGION_NOT_WORK_REGION          2\n",
      "LIVE_REGION_NOT_WORK_REGION         2\n",
      "REG_CITY_NOT_WORK_CITY              2\n",
      "LIVE_CITY_NOT_WORK_CITY             2\n",
      "FLAG_DOCUMENT_16                    2\n",
      "FLAG_DOCUMENT_15                    2\n",
      "FLAG_PHONE                          2\n",
      "FLAG_DOCUMENT_14                    2\n",
      "FLAG_DOCUMENT_12                    2\n",
      "FLAG_DOCUMENT_11                    2\n",
      "FLAG_DOCUMENT_2                     2\n",
      "FLAG_DOCUMENT_3                     2\n",
      "FLAG_DOCUMENT_4                     2\n",
      "FLAG_DOCUMENT_5                     2\n",
      "FLAG_DOCUMENT_6                     2\n",
      "FLAG_DOCUMENT_7                     2\n",
      "FLAG_DOCUMENT_8                     2\n",
      "FLAG_DOCUMENT_13                    2\n",
      "FLAG_CONT_MOBILE                    2\n",
      "FLAG_DOCUMENT_10                    2\n",
      "FLAG_EMP_PHONE                      2\n",
      "FLAG_MOBIL                          2\n",
      "FLAG_DOCUMENT_17                    2\n",
      "FLAG_DOCUMENT_18                    2\n",
      "TARGET                              2\n",
      "NAME_CONTRACT_TYPE                  2\n",
      "FLAG_DOCUMENT_19                    2\n",
      "FLAG_DOCUMENT_20                    2\n",
      "FLAG_DOCUMENT_21                    2\n",
      "FLAG_OWN_CAR                        2\n",
      "FLAG_OWN_REALTY                     2\n",
      "FLAG_WORK_PHONE                     2\n",
      "REGION_RATING_CLIENT                3\n",
      "REGION_RATING_CLIENT_W_CITY         3\n",
      "CODE_GENDER                         3\n",
      "AMT_REQ_CREDIT_BUREAU_HOUR          5\n",
      "NAME_EDUCATION_TYPE                 5\n",
      "NAME_FAMILY_STATUS                  6\n",
      "NAME_HOUSING_TYPE                   6\n",
      "NAME_TYPE_SUITE                     7\n",
      "WEEKDAY_APPR_PROCESS_START          7\n",
      "NAME_INCOME_TYPE                    8\n",
      "AMT_REQ_CREDIT_BUREAU_DAY           9\n",
      "DEF_60_CNT_SOCIAL_CIRCLE            9\n",
      "AMT_REQ_CREDIT_BUREAU_WEEK          9\n",
      "DEF_30_CNT_SOCIAL_CIRCLE           10\n",
      "AMT_REQ_CREDIT_BUREAU_QRT          11\n",
      "CNT_CHILDREN                       15\n",
      "CNT_FAM_MEMBERS                    17\n",
      "OCCUPATION_TYPE                    18\n",
      "AMT_REQ_CREDIT_BUREAU_MON          24\n",
      "HOUR_APPR_PROCESS_START            24\n",
      "AMT_REQ_CREDIT_BUREAU_YEAR         25\n",
      "OBS_60_CNT_SOCIAL_CIRCLE           33\n",
      "OBS_30_CNT_SOCIAL_CIRCLE           33\n",
      "ORGANIZATION_TYPE                  58\n",
      "REGION_POPULATION_RELATIVE         81\n",
      "EXT_SOURCE_3                      814\n",
      "AMT_GOODS_PRICE                  1002\n",
      "AMT_INCOME_TOTAL                 2548\n",
      "DAYS_LAST_PHONE_CHANGE           3773\n",
      "AMT_CREDIT                       5603\n",
      "DAYS_ID_PUBLISH                  6168\n",
      "DAYS_EMPLOYED                   12574\n",
      "AMT_ANNUITY                     13672\n",
      "DAYS_REGISTRATION               15688\n",
      "DAYS_BIRTH                      17460\n",
      "EXT_SOURCE_2                   119831\n",
      "SK_ID_CURR                     307511\n",
      "dtype: int64\n"
     ]
    }
   ],
   "source": [
    "#look at number of unique catergories in columns\n",
    "pd.options.display.max_rows=80\n",
    "print(app_data.nunique().sort_values())\n",
    "pd.options.display.max_rows=def_rows"
   ]
  },
  {
   "cell_type": "markdown",
   "metadata": {},
   "source": [
    "#### Step 3.c : Check for values to impute for columns that have less share (but not too less) of missing values.\n",
    "We will consider columns that have more than 10% of missing values."
   ]
  },
  {
   "cell_type": "code",
   "execution_count": 8,
   "metadata": {},
   "outputs": [
    {
     "name": "stdout",
     "output_type": "stream",
     "text": [
      "                            Null_Percentage\n",
      "OCCUPATION_TYPE                   31.345545\n",
      "EXT_SOURCE_3                      19.825307\n",
      "AMT_REQ_CREDIT_BUREAU_YEAR        13.501631\n",
      "AMT_REQ_CREDIT_BUREAU_QRT         13.501631\n",
      "AMT_REQ_CREDIT_BUREAU_MON         13.501631\n",
      "AMT_REQ_CREDIT_BUREAU_WEEK        13.501631\n",
      "AMT_REQ_CREDIT_BUREAU_DAY         13.501631\n",
      "AMT_REQ_CREDIT_BUREAU_HOUR        13.501631\n"
     ]
    }
   ],
   "source": [
    "# We need to recalculate null percentages as the previously calculated array is not useful due to dropping some columns\n",
    "null_percentage=(app_data.isnull().sum()*100/app_data.shape[0]).to_frame('Null_Percentage')\n",
    "null_percentage.sort_values(by='Null_Percentage',ascending=False,inplace=True)\n",
    "cols_to_impute = null_percentage[null_percentage.Null_Percentage>10].index\n",
    "print(null_percentage[null_percentage.Null_Percentage>10])"
   ]
  },
  {
   "cell_type": "code",
   "execution_count": 9,
   "metadata": {},
   "outputs": [
    {
     "name": "stdout",
     "output_type": "stream",
     "text": [
      "<class 'pandas.core.frame.DataFrame'>\n",
      "RangeIndex: 307511 entries, 0 to 307510\n",
      "Data columns (total 8 columns):\n",
      "OCCUPATION_TYPE               211120 non-null object\n",
      "EXT_SOURCE_3                  246546 non-null float64\n",
      "AMT_REQ_CREDIT_BUREAU_YEAR    265992 non-null float64\n",
      "AMT_REQ_CREDIT_BUREAU_QRT     265992 non-null float64\n",
      "AMT_REQ_CREDIT_BUREAU_MON     265992 non-null float64\n",
      "AMT_REQ_CREDIT_BUREAU_WEEK    265992 non-null float64\n",
      "AMT_REQ_CREDIT_BUREAU_DAY     265992 non-null float64\n",
      "AMT_REQ_CREDIT_BUREAU_HOUR    265992 non-null float64\n",
      "dtypes: float64(7), object(1)\n",
      "memory usage: 18.8+ MB\n"
     ]
    }
   ],
   "source": [
    "# Let us look at data types and nature of data for all these columns.\n",
    "app_data[cols_to_impute].info()"
   ]
  },
  {
   "cell_type": "code",
   "execution_count": 10,
   "metadata": {},
   "outputs": [],
   "source": [
    "# Except OCCUPATION_TYPE all other columns are numeric in nature."
   ]
  },
  {
   "cell_type": "code",
   "execution_count": 11,
   "metadata": {},
   "outputs": [
    {
     "data": {
      "text/plain": [
       "array(['Laborers', 'Core staff', 'Accountants', 'Managers', nan,\n",
       "       'Drivers', 'Sales staff', 'Cleaning staff', 'Cooking staff',\n",
       "       'Private service staff', 'Medicine staff', 'Security staff',\n",
       "       'High skill tech staff', 'Waiters/barmen staff',\n",
       "       'Low-skill Laborers', 'Realty agents', 'Secretaries', 'IT staff',\n",
       "       'HR staff'], dtype=object)"
      ]
     },
     "execution_count": 11,
     "metadata": {},
     "output_type": "execute_result"
    }
   ],
   "source": [
    "# First column, OCCUPATION_TYPE has 30% missing values.\n",
    "# It can be noted that occupation type is categorical type. We can confirm this by looking at all unique values of this column.\n",
    "app_data.OCCUPATION_TYPE.unique()"
   ]
  },
  {
   "cell_type": "markdown",
   "metadata": {},
   "source": [
    "*It can be seen that, there are no repeated values. Hence there is no need to __correct__ any values.\n",
    "<br/>For missing values, we will create a new category named **No Occupation**.*"
   ]
  },
  {
   "cell_type": "code",
   "execution_count": 12,
   "metadata": {},
   "outputs": [
    {
     "data": {
      "text/plain": [
       "array(['Laborers', 'Core staff', 'Accountants', 'Managers',\n",
       "       'No Occupation', 'Drivers', 'Sales staff', 'Cleaning staff',\n",
       "       'Cooking staff', 'Private service staff', 'Medicine staff',\n",
       "       'Security staff', 'High skill tech staff', 'Waiters/barmen staff',\n",
       "       'Low-skill Laborers', 'Realty agents', 'Secretaries', 'IT staff',\n",
       "       'HR staff'], dtype=object)"
      ]
     },
     "execution_count": 12,
     "metadata": {},
     "output_type": "execute_result"
    }
   ],
   "source": [
    "# Imputing the null values with No Occupation value\n",
    "app_data.loc[app_data.OCCUPATION_TYPE.isnull(),\"OCCUPATION_TYPE\"]=\"No Occupation\"\n",
    "app_data.OCCUPATION_TYPE.unique()"
   ]
  },
  {
   "cell_type": "code",
   "execution_count": 13,
   "metadata": {},
   "outputs": [
    {
     "data": {
      "image/png": "[encoded data removed]",
      "text/plain": [
       "<Figure size 432x288 with 1 Axes>"
      ]
     },
     "metadata": {
      "needs_background": "light"
     },
     "output_type": "display_data"
    },
    {
     "name": "stdout",
     "output_type": "stream",
     "text": [
      "Missing values :  60965\n",
      "count    246546.000000\n",
      "mean          0.510853\n",
      "std           0.194844\n",
      "min           0.000527\n",
      "25%           0.370650\n",
      "50%           0.535276\n",
      "75%           0.669057\n",
      "max           0.896010\n",
      "Name: EXT_SOURCE_3, dtype: float64\n"
     ]
    }
   ],
   "source": [
    "# Now look at EXT_SOURCE_3 column\n",
    "# The data type of this column is float type.\n",
    "# To understood which value is suitable for imputing, let us look at box plot and see how data is distributed.\n",
    "def analyze_data(data,col_name,xscale=\"linear\"):\n",
    "    sns.boxplot(data[col_name])\n",
    "    plt.xscale(xscale)\n",
    "    plt.show()    \n",
    "    print(\"Missing values : \",data[col_name].isnull().sum())\n",
    "    print(data[col_name].describe())\n",
    "analyze_data(app_data,\"EXT_SOURCE_3\")"
   ]
  },
  {
   "cell_type": "markdown",
   "metadata": {},
   "source": [
    "##### As it can be seen, data is very nicely distrubuted with median (0.53) and mean (0.51) values very close.\n",
    "* EXT_SOURCE_3 is described as \"Normalized score from external data source\"\n",
    "* Although data is nicely distributed, we should not impute it with neither mean or median. The score should be imputed with zero."
   ]
  },
  {
   "cell_type": "code",
   "execution_count": 14,
   "metadata": {},
   "outputs": [],
   "source": [
    "# Imputing the null values with 0\n",
    "app_data.loc[app_data.EXT_SOURCE_3.isnull(),\"EXT_SOURCE_3\"]=0"
   ]
  },
  {
   "cell_type": "code",
   "execution_count": 15,
   "metadata": {},
   "outputs": [
    {
     "data": {
      "image/png": "[encoded data removed]",
      "text/plain": [
       "<Figure size 432x288 with 1 Axes>"
      ]
     },
     "metadata": {
      "needs_background": "light"
     },
     "output_type": "display_data"
    },
    {
     "name": "stdout",
     "output_type": "stream",
     "text": [
      "Missing values :  41519\n",
      "count    265992.000000\n",
      "mean          1.899974\n",
      "std           1.869295\n",
      "min           0.000000\n",
      "25%           0.000000\n",
      "50%           1.000000\n",
      "75%           3.000000\n",
      "max          25.000000\n",
      "Name: AMT_REQ_CREDIT_BUREAU_YEAR, dtype: float64\n"
     ]
    }
   ],
   "source": [
    "# Now let us look at AMT_REQ_CREDIT_BUREAU_YEAR column\n",
    "analyze_data(app_data,\"AMT_REQ_CREDIT_BUREAU_YEAR\")"
   ]
  },
  {
   "cell_type": "code",
   "execution_count": 16,
   "metadata": {},
   "outputs": [
    {
     "data": {
      "image/png": "[encoded data removed]",
      "text/plain": [
       "<Figure size 432x288 with 1 Axes>"
      ]
     },
     "metadata": {
      "needs_background": "light"
     },
     "output_type": "display_data"
    },
    {
     "name": "stdout",
     "output_type": "stream",
     "text": [
      "Missing values :  41519\n",
      "count    265992.000000\n",
      "mean          0.265474\n",
      "std           0.794056\n",
      "min           0.000000\n",
      "25%           0.000000\n",
      "50%           0.000000\n",
      "75%           0.000000\n",
      "max         261.000000\n",
      "Name: AMT_REQ_CREDIT_BUREAU_QRT, dtype: float64\n"
     ]
    }
   ],
   "source": [
    "# Now let us look at AMT_REQ_CREDIT_BUREAU_QRT column\n",
    "analyze_data(app_data,\"AMT_REQ_CREDIT_BUREAU_QRT\")"
   ]
  },
  {
   "cell_type": "markdown",
   "metadata": {},
   "source": [
    "##### From the plot, we can observe that this column has several outliers. \n",
    "*This column is described as \"Number of enquiries to Credit Bureau about the client 3 month (excluding last 1 month before application)\".*\n",
    "<br/>Since it is absolutely number of enquiries, we can not impute the missing values with either mean or median.\n",
    "<br/>Assume that if this value is missing, it could mean there are no record of entries which implies the missing values can be imputed with **0**.\n",
    "<br/>Further, this column data type has to be fixed. This is an integer column stored as floating type."
   ]
  },
  {
   "cell_type": "code",
   "execution_count": 17,
   "metadata": {},
   "outputs": [
    {
     "data": {
      "image/png": "[encoded data removed]",
      "text/plain": [
       "<Figure size 432x288 with 1 Axes>"
      ]
     },
     "metadata": {
      "needs_background": "light"
     },
     "output_type": "display_data"
    },
    {
     "name": "stdout",
     "output_type": "stream",
     "text": [
      "Missing values :  41519\n",
      "count    265992.000000\n",
      "mean          0.267395\n",
      "std           0.916002\n",
      "min           0.000000\n",
      "25%           0.000000\n",
      "50%           0.000000\n",
      "75%           0.000000\n",
      "max          27.000000\n",
      "Name: AMT_REQ_CREDIT_BUREAU_MON, dtype: float64\n"
     ]
    }
   ],
   "source": [
    "# Now let us look at AMT_REQ_CREDIT_BUREAU_MON column\n",
    "analyze_data(app_data,\"AMT_REQ_CREDIT_BUREAU_MON\")"
   ]
  },
  {
   "cell_type": "markdown",
   "metadata": {},
   "source": [
    "##### From the plot, we can observe that this column has several outliers. \n",
    "*This column is described as \"Number of enquiries to Credit Bureau about the client one month before application (excluding one week before application)\".*\n",
    "<br/>Since it is absolutely number of enquiries, we can not impute the missing values with either mean or median.\n",
    "<br/>Assume that if this value is missing, it could mean there are no record of entries which implies the missing values can be imputed with **0**.\n",
    "<br/>Further, this column data type has to be fixed. This is an integer column stored as floating type."
   ]
  },
  {
   "cell_type": "code",
   "execution_count": 18,
   "metadata": {},
   "outputs": [
    {
     "data": {
      "image/png": "[encoded data removed]",
      "text/plain": [
       "<Figure size 432x288 with 1 Axes>"
      ]
     },
     "metadata": {
      "needs_background": "light"
     },
     "output_type": "display_data"
    },
    {
     "name": "stdout",
     "output_type": "stream",
     "text": [
      "Missing values :  41519\n",
      "count    265992.000000\n",
      "mean          0.034362\n",
      "std           0.204685\n",
      "min           0.000000\n",
      "25%           0.000000\n",
      "50%           0.000000\n",
      "75%           0.000000\n",
      "max           8.000000\n",
      "Name: AMT_REQ_CREDIT_BUREAU_WEEK, dtype: float64\n"
     ]
    }
   ],
   "source": [
    "# Now let us look at AMT_REQ_CREDIT_BUREAU_WEEK column\n",
    "analyze_data(app_data,\"AMT_REQ_CREDIT_BUREAU_WEEK\")"
   ]
  },
  {
   "cell_type": "markdown",
   "metadata": {},
   "source": [
    "##### From the plot, we can observe that this column has several outliers. \n",
    "*This column is described as \"Number of enquiries to Credit Bureau about the client one week before application (excluding one day before application)\".*\n",
    "<br/>Since it is absolutely number of enquiries, we can not impute the missing values with either mean or median.\n",
    "<br/>Assume that if this value is missing, it could mean there are no record of entries which implies the missing values can be imputed with **0**.\n",
    "<br/>Further, this column data type has to be fixed. This is an integer column stored as floating type."
   ]
  },
  {
   "cell_type": "code",
   "execution_count": 19,
   "metadata": {},
   "outputs": [
    {
     "data": {
      "image/png": "[encoded data removed]",
      "text/plain": [
       "<Figure size 432x288 with 1 Axes>"
      ]
     },
     "metadata": {
      "needs_background": "light"
     },
     "output_type": "display_data"
    },
    {
     "name": "stdout",
     "output_type": "stream",
     "text": [
      "Missing values :  41519\n",
      "count    265992.000000\n",
      "mean          0.007000\n",
      "std           0.110757\n",
      "min           0.000000\n",
      "25%           0.000000\n",
      "50%           0.000000\n",
      "75%           0.000000\n",
      "max           9.000000\n",
      "Name: AMT_REQ_CREDIT_BUREAU_DAY, dtype: float64\n"
     ]
    }
   ],
   "source": [
    "# Now let us look at AMT_REQ_CREDIT_BUREAU_DAY column\n",
    "analyze_data(app_data,\"AMT_REQ_CREDIT_BUREAU_DAY\")"
   ]
  },
  {
   "cell_type": "markdown",
   "metadata": {},
   "source": [
    "##### From the plot, we can observe that this column has several outliers. \n",
    "*This column is described as \"Number of enquiries to Credit Bureau about the client one day before application (excluding one hour before application)\".*\n",
    "<br/>Since it is absolutely number of enquiries, we can not impute the missing values with either mean or median.\n",
    "<br/>Assume that if this value is missing, it could mean there are no record of entries which implies the missing values can be imputed with **0**.\n",
    "<br/>Further, this column data type has to be fixed. This is an integer column stored as floating type."
   ]
  },
  {
   "cell_type": "code",
   "execution_count": 20,
   "metadata": {},
   "outputs": [
    {
     "data": {
      "image/png": "[encoded data removed]",
      "text/plain": [
       "<Figure size 432x288 with 1 Axes>"
      ]
     },
     "metadata": {
      "needs_background": "light"
     },
     "output_type": "display_data"
    },
    {
     "name": "stdout",
     "output_type": "stream",
     "text": [
      "Missing values :  41519\n",
      "count    265992.000000\n",
      "mean          0.006402\n",
      "std           0.083849\n",
      "min           0.000000\n",
      "25%           0.000000\n",
      "50%           0.000000\n",
      "75%           0.000000\n",
      "max           4.000000\n",
      "Name: AMT_REQ_CREDIT_BUREAU_HOUR, dtype: float64\n"
     ]
    }
   ],
   "source": [
    "# Now let us look at AMT_REQ_CREDIT_BUREAU_HOUR column\n",
    "analyze_data(app_data,\"AMT_REQ_CREDIT_BUREAU_HOUR\")"
   ]
  },
  {
   "cell_type": "markdown",
   "metadata": {},
   "source": [
    "##### From the plot, we can observe that this column has several outliers. \n",
    "*This column is described as \"Number of enquiries to Credit Bureau about the client one hour before application\".*\n",
    "<br/>Since it is absolutely number of enquiries, we can not impute the missing values with either mean or median.\n",
    "<br/>Assume that if this value is missing, it could mean there are no record of entries which implies the missing values can be imputed with **0**.\n",
    "<br/>Further, this column data type has to be fixed. This is an integer column stored as floating type."
   ]
  },
  {
   "cell_type": "markdown",
   "metadata": {},
   "source": [
    "***\n",
    "#### Data type checking"
   ]
  },
  {
   "cell_type": "code",
   "execution_count": 21,
   "metadata": {},
   "outputs": [
    {
     "name": "stdout",
     "output_type": "stream",
     "text": [
      "<class 'pandas.core.frame.DataFrame'>\n",
      "RangeIndex: 307511 entries, 0 to 307510\n",
      "Data columns (total 28 columns):\n",
      "FLAG_OWN_CAR        307511 non-null object\n",
      "FLAG_OWN_REALTY     307511 non-null object\n",
      "FLAG_MOBIL          307511 non-null int64\n",
      "FLAG_EMP_PHONE      307511 non-null int64\n",
      "FLAG_WORK_PHONE     307511 non-null int64\n",
      "FLAG_CONT_MOBILE    307511 non-null int64\n",
      "FLAG_PHONE          307511 non-null int64\n",
      "FLAG_EMAIL          307511 non-null int64\n",
      "FLAG_DOCUMENT_2     307511 non-null int64\n",
      "FLAG_DOCUMENT_3     307511 non-null int64\n",
      "FLAG_DOCUMENT_4     307511 non-null int64\n",
      "FLAG_DOCUMENT_5     307511 non-null int64\n",
      "FLAG_DOCUMENT_6     307511 non-null int64\n",
      "FLAG_DOCUMENT_7     307511 non-null int64\n",
      "FLAG_DOCUMENT_8     307511 non-null int64\n",
      "FLAG_DOCUMENT_9     307511 non-null int64\n",
      "FLAG_DOCUMENT_10    307511 non-null int64\n",
      "FLAG_DOCUMENT_11    307511 non-null int64\n",
      "FLAG_DOCUMENT_12    307511 non-null int64\n",
      "FLAG_DOCUMENT_13    307511 non-null int64\n",
      "FLAG_DOCUMENT_14    307511 non-null int64\n",
      "FLAG_DOCUMENT_15    307511 non-null int64\n",
      "FLAG_DOCUMENT_16    307511 non-null int64\n",
      "FLAG_DOCUMENT_17    307511 non-null int64\n",
      "FLAG_DOCUMENT_18    307511 non-null int64\n",
      "FLAG_DOCUMENT_19    307511 non-null int64\n",
      "FLAG_DOCUMENT_20    307511 non-null int64\n",
      "FLAG_DOCUMENT_21    307511 non-null int64\n",
      "dtypes: int64(26), object(2)\n",
      "memory usage: 65.7+ MB\n"
     ]
    }
   ],
   "source": [
    "# For checking data types, we will focus on a smaller sets of columns at a time to minimize complexity in analyzing types.\n",
    "# First let us look at all columns that are associated with \"FLAGS\".\n",
    "# Since these are \"FLAG\" columns, we expect the column to be boolean (or integer) in nature reflecting True or False.\n",
    "flag_cols = [x for x in app_data.columns if x.startswith(\"FLAG_\")]\n",
    "app_data[flag_cols].info()"
   ]
  },
  {
   "cell_type": "code",
   "execution_count": 22,
   "metadata": {},
   "outputs": [
    {
     "name": "stdout",
     "output_type": "stream",
     "text": [
      "['N' 'Y']\n",
      "['Y' 'N']\n"
     ]
    }
   ],
   "source": [
    "# By scanning at data types, there are two types that needs data type correction.\n",
    "# The columns are FLAG_OWN_CAR, FLAG_OWN_REALTY\n",
    "# Let us look at both columns to understand nature of data for conversion.\n",
    "print(app_data.FLAG_OWN_CAR.unique())\n",
    "print(app_data.FLAG_OWN_REALTY.unique())"
   ]
  },
  {
   "cell_type": "code",
   "execution_count": 23,
   "metadata": {},
   "outputs": [],
   "source": [
    "# The values are simply 'Y', 'N'. Replace them with 1 (='Y'), 0(='N'). There are no missing values.\n",
    "app_data.FLAG_OWN_CAR=app_data.FLAG_OWN_CAR.apply(lambda x:0 if(x=='N') else 1)\n",
    "app_data.FLAG_OWN_REALTY=app_data.FLAG_OWN_REALTY.apply(lambda x:0 if(x=='N') else 1)"
   ]
  },
  {
   "cell_type": "code",
   "execution_count": 24,
   "metadata": {},
   "outputs": [
    {
     "data": {
      "text/plain": [
       "{dtype('int64'): Index(['FLAG_OWN_CAR', 'FLAG_OWN_REALTY', 'FLAG_MOBIL', 'FLAG_EMP_PHONE',\n",
       "        'FLAG_WORK_PHONE', 'FLAG_CONT_MOBILE', 'FLAG_PHONE', 'FLAG_EMAIL',\n",
       "        'FLAG_DOCUMENT_2', 'FLAG_DOCUMENT_3', 'FLAG_DOCUMENT_4',\n",
       "        'FLAG_DOCUMENT_5', 'FLAG_DOCUMENT_6', 'FLAG_DOCUMENT_7',\n",
       "        'FLAG_DOCUMENT_8', 'FLAG_DOCUMENT_9', 'FLAG_DOCUMENT_10',\n",
       "        'FLAG_DOCUMENT_11', 'FLAG_DOCUMENT_12', 'FLAG_DOCUMENT_13',\n",
       "        'FLAG_DOCUMENT_14', 'FLAG_DOCUMENT_15', 'FLAG_DOCUMENT_16',\n",
       "        'FLAG_DOCUMENT_17', 'FLAG_DOCUMENT_18', 'FLAG_DOCUMENT_19',\n",
       "        'FLAG_DOCUMENT_20', 'FLAG_DOCUMENT_21'],\n",
       "       dtype='object')}"
      ]
     },
     "execution_count": 24,
     "metadata": {},
     "output_type": "execute_result"
    }
   ],
   "source": [
    "#checking the data type again to confirm data type conversion is commeneced or not\n",
    "app_data[flag_cols].columns.to_series().groupby(app_data[flag_cols].dtypes).groups"
   ]
  },
  {
   "cell_type": "markdown",
   "metadata": {},
   "source": [
    "### Step 3.e : For numerical columns check for outliers and report them"
   ]
  },
  {
   "cell_type": "code",
   "execution_count": 25,
   "metadata": {},
   "outputs": [
    {
     "name": "stdout",
     "output_type": "stream",
     "text": [
      "<class 'pandas.core.frame.DataFrame'>\n",
      "RangeIndex: 307511 entries, 0 to 307510\n",
      "Data columns (total 5 columns):\n",
      "DAYS_BIRTH                307511 non-null int64\n",
      "DAYS_EMPLOYED             307511 non-null int64\n",
      "DAYS_REGISTRATION         307511 non-null float64\n",
      "DAYS_ID_PUBLISH           307511 non-null int64\n",
      "DAYS_LAST_PHONE_CHANGE    307510 non-null float64\n",
      "dtypes: float64(2), int64(3)\n",
      "memory usage: 11.7 MB\n"
     ]
    }
   ],
   "source": [
    "# Now let us look at columns related to \"DAYS\".\n",
    "day_cols = [x for x in app_data.columns if x.startswith(\"DAYS_\")]\n",
    "app_data[day_cols].info()"
   ]
  },
  {
   "cell_type": "code",
   "execution_count": 26,
   "metadata": {},
   "outputs": [
    {
     "data": {
      "image/png": "[encoded data removed]",
      "text/plain": [
       "<Figure size 432x288 with 1 Axes>"
      ]
     },
     "metadata": {
      "needs_background": "light"
     },
     "output_type": "display_data"
    },
    {
     "name": "stdout",
     "output_type": "stream",
     "text": [
      "Missing values :  0\n",
      "count    307511.000000\n",
      "mean     -16036.995067\n",
      "std        4363.988632\n",
      "min      -25229.000000\n",
      "25%      -19682.000000\n",
      "50%      -15750.000000\n",
      "75%      -12413.000000\n",
      "max       -7489.000000\n",
      "Name: DAYS_BIRTH, dtype: float64\n"
     ]
    }
   ],
   "source": [
    "# Let us look at values of DAYS_BIRTH.\n",
    "analyze_data(app_data,\"DAYS_BIRTH\")"
   ]
  },
  {
   "cell_type": "code",
   "execution_count": 27,
   "metadata": {},
   "outputs": [],
   "source": [
    "# The column is described as \"Clients age in days at time of application\".\n",
    "# Looking at data, the entire data ranges between (-25229, -7489). \n",
    "# Thus, this column needs two corrections.\n",
    "# a) Data type is floating value. This must be changed to integer.\n",
    "# b) Entire data is in negative side. Replace data with positive values.\n",
    "app_data.DAYS_BIRTH=app_data.DAYS_BIRTH.apply(lambda x:int(abs(x)))"
   ]
  },
  {
   "cell_type": "code",
   "execution_count": 28,
   "metadata": {},
   "outputs": [
    {
     "data": {
      "text/plain": [
       "count    307511.000000\n",
       "mean      16036.995067\n",
       "std        4363.988632\n",
       "min        7489.000000\n",
       "25%       12413.000000\n",
       "50%       15750.000000\n",
       "75%       19682.000000\n",
       "max       25229.000000\n",
       "Name: DAYS_BIRTH, dtype: float64"
      ]
     },
     "execution_count": 28,
     "metadata": {},
     "output_type": "execute_result"
    }
   ],
   "source": [
    "# Let us look at values of DAYS_BIRTH after correctoin\n",
    "app_data.DAYS_BIRTH.describe()"
   ]
  },
  {
   "cell_type": "code",
   "execution_count": 29,
   "metadata": {},
   "outputs": [
    {
     "data": {
      "image/png": "[encoded data removed]",
      "text/plain": [
       "<Figure size 432x288 with 1 Axes>"
      ]
     },
     "metadata": {
      "needs_background": "light"
     },
     "output_type": "display_data"
    },
    {
     "name": "stdout",
     "output_type": "stream",
     "text": [
      "Missing values :  0\n",
      "count    307511.000000\n",
      "mean      63815.045904\n",
      "std      141275.766519\n",
      "min      -17912.000000\n",
      "25%       -2760.000000\n",
      "50%       -1213.000000\n",
      "75%        -289.000000\n",
      "max      365243.000000\n",
      "Name: DAYS_EMPLOYED, dtype: float64\n"
     ]
    }
   ],
   "source": [
    "# Let us look at values of DAYS_EMPLOYED.\n",
    "analyze_data(app_data,\"DAYS_EMPLOYED\")"
   ]
  },
  {
   "cell_type": "code",
   "execution_count": 30,
   "metadata": {},
   "outputs": [
    {
     "data": {
      "text/plain": [
       "count    252137.000000\n",
       "mean      -2384.169325\n",
       "std        2338.360162\n",
       "min      -17912.000000\n",
       "25%       -3175.000000\n",
       "50%       -1648.000000\n",
       "75%        -767.000000\n",
       "max           0.000000\n",
       "Name: DAYS_EMPLOYED, dtype: float64"
      ]
     },
     "execution_count": 30,
     "metadata": {},
     "output_type": "execute_result"
    }
   ],
   "source": [
    "# As assumed, the high value is used for specific purpose to denote missing values.\n",
    "# Now, let us re-look at data excluding outlier.\n",
    "app_data.DAYS_EMPLOYED[app_data.DAYS_EMPLOYED!=max(app_data.DAYS_EMPLOYED)].describe()"
   ]
  },
  {
   "cell_type": "code",
   "execution_count": 31,
   "metadata": {},
   "outputs": [],
   "source": [
    "# When we remove the max value of 100 years, the remaining data fits in range of (-17912,0).\n",
    "# Thus, this column needs two corrections.\n",
    "# a) Data type is floating value. This must be changed to integer.\n",
    "# b) Partial data is in negative side. Replace partial data with positive values. Leave outliers as it is.\n",
    "app_data.DAYS_EMPLOYED=app_data.DAYS_EMPLOYED.apply(lambda x:int(abs(x)) if (x<0) else int(x))"
   ]
  },
  {
   "cell_type": "code",
   "execution_count": 32,
   "metadata": {},
   "outputs": [
    {
     "data": {
      "image/png": "[encoded data removed]",
      "text/plain": [
       "<Figure size 432x288 with 1 Axes>"
      ]
     },
     "metadata": {
      "needs_background": "light"
     },
     "output_type": "display_data"
    },
    {
     "name": "stdout",
     "output_type": "stream",
     "text": [
      "Missing values :  0\n",
      "count    307511.000000\n",
      "mean      67724.742149\n",
      "std      139443.751806\n",
      "min           0.000000\n",
      "25%         933.000000\n",
      "50%        2219.000000\n",
      "75%        5707.000000\n",
      "max      365243.000000\n",
      "Name: DAYS_EMPLOYED, dtype: float64\n"
     ]
    }
   ],
   "source": [
    "# Now let us relook at box plot and stats.\n",
    "analyze_data(app_data,\"DAYS_EMPLOYED\")"
   ]
  },
  {
   "cell_type": "code",
   "execution_count": 33,
   "metadata": {},
   "outputs": [],
   "source": [
    "# The column is described as \"How many days before the application did client change his registration\".\n",
    "# Looking at data, the entire data ranges between (-24672, 0). \n",
    "# Thus, this column needs two corrections.\n",
    "# a) Data type is floating value. This must be changed to integer.\n",
    "# b) Entire data is in negative side. Replace data with positive values.\n",
    "app_data.DAYS_REGISTRATION=app_data.DAYS_REGISTRATION.apply(lambda x:int(abs(x)))"
   ]
  },
  {
   "cell_type": "code",
   "execution_count": 34,
   "metadata": {},
   "outputs": [
    {
     "data": {
      "image/png": "[encoded data removed]",
      "text/plain": [
       "<Figure size 432x288 with 1 Axes>"
      ]
     },
     "metadata": {
      "needs_background": "light"
     },
     "output_type": "display_data"
    },
    {
     "name": "stdout",
     "output_type": "stream",
     "text": [
      "Missing values :  0\n",
      "count    307511.000000\n",
      "mean      -2994.202373\n",
      "std        1509.450419\n",
      "min       -7197.000000\n",
      "25%       -4299.000000\n",
      "50%       -3254.000000\n",
      "75%       -1720.000000\n",
      "max           0.000000\n",
      "Name: DAYS_ID_PUBLISH, dtype: float64\n"
     ]
    }
   ],
   "source": [
    "# Let us look at column DAYS_ID_PUBLISH\n",
    "analyze_data(app_data,\"DAYS_ID_PUBLISH\")"
   ]
  },
  {
   "cell_type": "code",
   "execution_count": 35,
   "metadata": {},
   "outputs": [],
   "source": [
    "# The column is described as \"How many days before the application did client change the identity document with which he applied for the loan\".\n",
    "# Looking at data, the entire data ranges between (-7197, 0). \n",
    "# Thus, this column needs two corrections.\n",
    "# a) Data type is floating value. This must be changed to integer.\n",
    "# b) Entire data is in negative side. Replace data with positive values.\n",
    "app_data.DAYS_ID_PUBLISH=app_data.DAYS_ID_PUBLISH.apply(lambda x:int(abs(x)))"
   ]
  },
  {
   "cell_type": "code",
   "execution_count": 36,
   "metadata": {},
   "outputs": [
    {
     "data": {
      "image/png": "[encoded data removed]",
      "text/plain": [
       "<Figure size 432x288 with 1 Axes>"
      ]
     },
     "metadata": {
      "needs_background": "light"
     },
     "output_type": "display_data"
    },
    {
     "name": "stdout",
     "output_type": "stream",
     "text": [
      "Missing values :  1\n",
      "count    307510.000000\n",
      "mean       -962.858788\n",
      "std         826.808487\n",
      "min       -4292.000000\n",
      "25%       -1570.000000\n",
      "50%        -757.000000\n",
      "75%        -274.000000\n",
      "max           0.000000\n",
      "Name: DAYS_LAST_PHONE_CHANGE, dtype: float64\n"
     ]
    }
   ],
   "source": [
    "# Let us look at DAYS_LAST_PHONE_CHANGE\n",
    "analyze_data(app_data,\"DAYS_LAST_PHONE_CHANGE\")"
   ]
  },
  {
   "cell_type": "code",
   "execution_count": 37,
   "metadata": {},
   "outputs": [],
   "source": [
    "# The column is described as \"How many days before application did client change phone\".\n",
    "# Looking at data, the entire data ranges between (-4292, 0). \n",
    "# Thus, this column needs two corrections.\n",
    "# a) Data type is floating value. This must be changed to integer.\n",
    "# b) Entire data is in negative side. Replace data with positive values.\n",
    "# c) There is 1 missing value in column. We can't directly convert NAN to integer. \n",
    "#    Since, NAN data type is float. We also need to impute this missing value.\n",
    "#    By looking at data definition, it may be safe to assume that a missing value can be imputed by zero rather \n",
    "#          than very high value which would give a wrong meaning that phone is never changed.\n",
    "app_data.DAYS_LAST_PHONE_CHANGE=app_data.DAYS_LAST_PHONE_CHANGE.apply(lambda x:int(abs(x)) if (not np.isnan(x)) else 0)"
   ]
  },
  {
   "cell_type": "code",
   "execution_count": 38,
   "metadata": {},
   "outputs": [],
   "source": [
    "# Above, we already have identified need to convert columns \"AMT_*\" from floating to integers \n",
    "#  and we decided that missing values to be imputed with \"0\"\n",
    "app_data.AMT_REQ_CREDIT_BUREAU_HOUR=app_data.AMT_REQ_CREDIT_BUREAU_HOUR.apply(lambda x:int(abs(x)) if (not np.isnan(x)) else 0)\n",
    "app_data.AMT_REQ_CREDIT_BUREAU_DAY=app_data.AMT_REQ_CREDIT_BUREAU_DAY.apply(lambda x:int(abs(x)) if (not np.isnan(x)) else 0)\n",
    "app_data.AMT_REQ_CREDIT_BUREAU_WEEK=app_data.AMT_REQ_CREDIT_BUREAU_WEEK.apply(lambda x:int(abs(x)) if (not np.isnan(x)) else 0)\n",
    "app_data.AMT_REQ_CREDIT_BUREAU_MON=app_data.AMT_REQ_CREDIT_BUREAU_MON.apply(lambda x:int(abs(x)) if (not np.isnan(x)) else 0)\n",
    "app_data.AMT_REQ_CREDIT_BUREAU_QRT=app_data.AMT_REQ_CREDIT_BUREAU_QRT.apply(lambda x:int(abs(x)) if (not np.isnan(x)) else 0)\n",
    "app_data.AMT_REQ_CREDIT_BUREAU_YEAR=app_data.AMT_REQ_CREDIT_BUREAU_YEAR.apply(lambda x:int(abs(x)) if (not np.isnan(x)) else 0)"
   ]
  },
  {
   "cell_type": "code",
   "execution_count": 39,
   "metadata": {},
   "outputs": [
    {
     "data": {
      "text/plain": [
       "{dtype('int64'): Index(['SK_ID_CURR', 'TARGET', 'FLAG_OWN_CAR', 'FLAG_OWN_REALTY',\n",
       "        'CNT_CHILDREN', 'DAYS_BIRTH', 'DAYS_EMPLOYED', 'DAYS_REGISTRATION',\n",
       "        'DAYS_ID_PUBLISH', 'FLAG_MOBIL', 'FLAG_EMP_PHONE', 'FLAG_WORK_PHONE',\n",
       "        'FLAG_CONT_MOBILE', 'FLAG_PHONE', 'FLAG_EMAIL', 'REGION_RATING_CLIENT',\n",
       "        'REGION_RATING_CLIENT_W_CITY', 'HOUR_APPR_PROCESS_START',\n",
       "        'REG_REGION_NOT_LIVE_REGION', 'REG_REGION_NOT_WORK_REGION',\n",
       "        'LIVE_REGION_NOT_WORK_REGION', 'REG_CITY_NOT_LIVE_CITY',\n",
       "        'REG_CITY_NOT_WORK_CITY', 'LIVE_CITY_NOT_WORK_CITY',\n",
       "        'DAYS_LAST_PHONE_CHANGE', 'FLAG_DOCUMENT_2', 'FLAG_DOCUMENT_3',\n",
       "        'FLAG_DOCUMENT_4', 'FLAG_DOCUMENT_5', 'FLAG_DOCUMENT_6',\n",
       "        'FLAG_DOCUMENT_7', 'FLAG_DOCUMENT_8', 'FLAG_DOCUMENT_9',\n",
       "        'FLAG_DOCUMENT_10', 'FLAG_DOCUMENT_11', 'FLAG_DOCUMENT_12',\n",
       "        'FLAG_DOCUMENT_13', 'FLAG_DOCUMENT_14', 'FLAG_DOCUMENT_15',\n",
       "        'FLAG_DOCUMENT_16', 'FLAG_DOCUMENT_17', 'FLAG_DOCUMENT_18',\n",
       "        'FLAG_DOCUMENT_19', 'FLAG_DOCUMENT_20', 'FLAG_DOCUMENT_21',\n",
       "        'AMT_REQ_CREDIT_BUREAU_HOUR', 'AMT_REQ_CREDIT_BUREAU_DAY',\n",
       "        'AMT_REQ_CREDIT_BUREAU_WEEK', 'AMT_REQ_CREDIT_BUREAU_MON',\n",
       "        'AMT_REQ_CREDIT_BUREAU_QRT', 'AMT_REQ_CREDIT_BUREAU_YEAR'],\n",
       "       dtype='object'),\n",
       " dtype('float64'): Index(['AMT_INCOME_TOTAL', 'AMT_CREDIT', 'AMT_ANNUITY', 'AMT_GOODS_PRICE',\n",
       "        'REGION_POPULATION_RELATIVE', 'CNT_FAM_MEMBERS', 'EXT_SOURCE_2',\n",
       "        'EXT_SOURCE_3', 'OBS_30_CNT_SOCIAL_CIRCLE', 'DEF_30_CNT_SOCIAL_CIRCLE',\n",
       "        'OBS_60_CNT_SOCIAL_CIRCLE', 'DEF_60_CNT_SOCIAL_CIRCLE'],\n",
       "       dtype='object'),\n",
       " dtype('O'): Index(['NAME_CONTRACT_TYPE', 'CODE_GENDER', 'NAME_TYPE_SUITE',\n",
       "        'NAME_INCOME_TYPE', 'NAME_EDUCATION_TYPE', 'NAME_FAMILY_STATUS',\n",
       "        'NAME_HOUSING_TYPE', 'OCCUPATION_TYPE', 'WEEKDAY_APPR_PROCESS_START',\n",
       "        'ORGANIZATION_TYPE'],\n",
       "       dtype='object')}"
      ]
     },
     "execution_count": 39,
     "metadata": {},
     "output_type": "execute_result"
    }
   ],
   "source": [
    "# Let us look at column types one more time\n",
    "app_data.columns.to_series().groupby(app_data.dtypes).groups"
   ]
  },
  {
   "cell_type": "code",
   "execution_count": 40,
   "metadata": {},
   "outputs": [
    {
     "data": {
      "image/png": "[encoded data removed]",
      "text/plain": [
       "<Figure size 432x288 with 1 Axes>"
      ]
     },
     "metadata": {
      "needs_background": "light"
     },
     "output_type": "display_data"
    },
    {
     "name": "stdout",
     "output_type": "stream",
     "text": [
      "Missing values :  2\n",
      "count    307509.000000\n",
      "mean          2.152665\n",
      "std           0.910682\n",
      "min           1.000000\n",
      "25%           2.000000\n",
      "50%           2.000000\n",
      "75%           3.000000\n",
      "max          20.000000\n",
      "Name: CNT_FAM_MEMBERS, dtype: float64\n"
     ]
    }
   ],
   "source": [
    "# Let us look at CNT_FAM_MEMBERS\n",
    "analyze_data(app_data,\"CNT_FAM_MEMBERS\")"
   ]
  },
  {
   "cell_type": "code",
   "execution_count": 41,
   "metadata": {},
   "outputs": [],
   "source": [
    "# Column CNT_FAM_MEMBERS is described as \"How many family members does client have\".\n",
    "# This column needs below corrections\n",
    "# a) Data type is floating value. This must be changed to integer.\n",
    "# b) There are 2 missing values in column. We can't directly convert NAN to integer. \n",
    "#    Since, NAN data type is float. We also need to impute this missing value.\n",
    "#    By looking at data definition, it may be safe to assume that a missing value can be imputed by zero meaning no record of family.\n",
    "app_data.CNT_FAM_MEMBERS=app_data.CNT_FAM_MEMBERS.apply(lambda x:int(abs(x)) if (not np.isnan(x)) else 0)"
   ]
  },
  {
   "cell_type": "code",
   "execution_count": 42,
   "metadata": {},
   "outputs": [
    {
     "data": {
      "image/png": "[encoded data removed]",
      "text/plain": [
       "<Figure size 432x288 with 1 Axes>"
      ]
     },
     "metadata": {
      "needs_background": "light"
     },
     "output_type": "display_data"
    },
    {
     "name": "stdout",
     "output_type": "stream",
     "text": [
      "Missing values :  1021\n",
      "count    306490.000000\n",
      "mean          1.422245\n",
      "std           2.400989\n",
      "min           0.000000\n",
      "25%           0.000000\n",
      "50%           0.000000\n",
      "75%           2.000000\n",
      "max         348.000000\n",
      "Name: OBS_30_CNT_SOCIAL_CIRCLE, dtype: float64\n"
     ]
    }
   ],
   "source": [
    "# The columns \"OBS_*\", \"DEF_*\" are related to number of observations. They are stored as floating values. We need to change.\n",
    "# let us look at column OBS_30_CNT_SOCIAL_CIRCLE\n",
    "analyze_data(app_data,\"OBS_30_CNT_SOCIAL_CIRCLE\")"
   ]
  },
  {
   "cell_type": "code",
   "execution_count": 43,
   "metadata": {},
   "outputs": [],
   "source": [
    "# The column OBS_30_CNT_SOCIAL_CIRCLE is described as \"How many observation of client's social surroundings with observable 30 DPD (days past due) default\"\n",
    "# This column needs below corrections\n",
    "# a) Data type is floating value. This must be changed to integer.\n",
    "# b) There are 1021 missing values in column. We can't directly convert NAN to integer. \n",
    "#    Since, NAN data type is float. We also need to impute this missing value.\n",
    "#    By looking at data definition, it may be safe to assume that a missing value can be imputed by zero meaning no record of observations in social surroundings.\n",
    "app_data.OBS_30_CNT_SOCIAL_CIRCLE=app_data.OBS_30_CNT_SOCIAL_CIRCLE.apply(lambda x:int(abs(x)) if (not np.isnan(x)) else 0)"
   ]
  },
  {
   "cell_type": "code",
   "execution_count": 44,
   "metadata": {},
   "outputs": [
    {
     "data": {
      "image/png": "[encoded data removed]",
      "text/plain": [
       "<Figure size 432x288 with 1 Axes>"
      ]
     },
     "metadata": {
      "needs_background": "light"
     },
     "output_type": "display_data"
    },
    {
     "name": "stdout",
     "output_type": "stream",
     "text": [
      "Missing values :  1021\n",
      "count    306490.000000\n",
      "mean          1.405292\n",
      "std           2.379803\n",
      "min           0.000000\n",
      "25%           0.000000\n",
      "50%           0.000000\n",
      "75%           2.000000\n",
      "max         344.000000\n",
      "Name: OBS_60_CNT_SOCIAL_CIRCLE, dtype: float64\n"
     ]
    }
   ],
   "source": [
    "# We can apply similar principle to column OBS_60_CNT_SOCIAL_CIRCLE as well.\n",
    "analyze_data(app_data,\"OBS_60_CNT_SOCIAL_CIRCLE\")"
   ]
  },
  {
   "cell_type": "code",
   "execution_count": 45,
   "metadata": {},
   "outputs": [],
   "source": [
    "#imputing the values with 0\n",
    "app_data.OBS_60_CNT_SOCIAL_CIRCLE=app_data.OBS_60_CNT_SOCIAL_CIRCLE.apply(lambda x:int(abs(x)) if (not np.isnan(x)) else 0)"
   ]
  },
  {
   "cell_type": "code",
   "execution_count": 46,
   "metadata": {},
   "outputs": [
    {
     "data": {
      "image/png": "[encoded data removed]",
      "text/plain": [
       "<Figure size 432x288 with 1 Axes>"
      ]
     },
     "metadata": {
      "needs_background": "light"
     },
     "output_type": "display_data"
    },
    {
     "name": "stdout",
     "output_type": "stream",
     "text": [
      "Missing values :  1021\n",
      "count    306490.000000\n",
      "mean          0.143421\n",
      "std           0.446698\n",
      "min           0.000000\n",
      "25%           0.000000\n",
      "50%           0.000000\n",
      "75%           0.000000\n",
      "max          34.000000\n",
      "Name: DEF_30_CNT_SOCIAL_CIRCLE, dtype: float64\n"
     ]
    }
   ],
   "source": [
    "# let us look at column DEF_30_CNT_SOCIAL_CIRCLE\n",
    "analyze_data(app_data,\"DEF_30_CNT_SOCIAL_CIRCLE\")"
   ]
  },
  {
   "cell_type": "code",
   "execution_count": 47,
   "metadata": {},
   "outputs": [],
   "source": [
    "# The column DEF_30_CNT_SOCIAL_CIRCLE is described as \"How many observation of client's social surroundings defaulted on 30 DPD (days past due)\"\n",
    "# This column needs below corrections\n",
    "# a) Data type is floating value. This must be changed to integer.\n",
    "# b) There are 1021 missing values in column. We can't directly convert NAN to integer. \n",
    "#    Since, NAN data type is float. We also need to impute this missing value.\n",
    "#    By looking at data definition, it may be safe to assume that a missing value can be imputed by zero meaning no record of observations in social surroundings.\n",
    "app_data.DEF_30_CNT_SOCIAL_CIRCLE=app_data.DEF_30_CNT_SOCIAL_CIRCLE.apply(lambda x:int(abs(x)) if (not np.isnan(x)) else 0)"
   ]
  },
  {
   "cell_type": "code",
   "execution_count": 48,
   "metadata": {},
   "outputs": [
    {
     "data": {
      "image/png": "[encoded data removed]",
      "text/plain": [
       "<Figure size 432x288 with 1 Axes>"
      ]
     },
     "metadata": {
      "needs_background": "light"
     },
     "output_type": "display_data"
    },
    {
     "name": "stdout",
     "output_type": "stream",
     "text": [
      "Missing values :  1021\n",
      "count    306490.000000\n",
      "mean          0.100049\n",
      "std           0.362291\n",
      "min           0.000000\n",
      "25%           0.000000\n",
      "50%           0.000000\n",
      "75%           0.000000\n",
      "max          24.000000\n",
      "Name: DEF_60_CNT_SOCIAL_CIRCLE, dtype: float64\n"
     ]
    }
   ],
   "source": [
    "# We can apply similar principle to column DEF_60_CNT_SOCIAL_CIRCLE as well.\n",
    "analyze_data(app_data,\"DEF_60_CNT_SOCIAL_CIRCLE\")"
   ]
  },
  {
   "cell_type": "code",
   "execution_count": 49,
   "metadata": {},
   "outputs": [],
   "source": [
    "#imputing null values with 0\n",
    "app_data.DEF_60_CNT_SOCIAL_CIRCLE=app_data.DEF_60_CNT_SOCIAL_CIRCLE.apply(lambda x:int(abs(x)) if (not np.isnan(x)) else 0)"
   ]
  },
  {
   "cell_type": "markdown",
   "metadata": {},
   "source": [
    "### Step 3.f : Binning of continous variables\n",
    "\n",
    "First let us identify continuous variables in data frame. Continuous variables are stored as floating values."
   ]
  },
  {
   "cell_type": "code",
   "execution_count": 50,
   "metadata": {},
   "outputs": [
    {
     "data": {
      "text/plain": [
       "{dtype('int64'): Index(['SK_ID_CURR', 'TARGET', 'FLAG_OWN_CAR', 'FLAG_OWN_REALTY',\n",
       "        'CNT_CHILDREN', 'DAYS_BIRTH', 'DAYS_EMPLOYED', 'DAYS_REGISTRATION',\n",
       "        'DAYS_ID_PUBLISH', 'FLAG_MOBIL', 'FLAG_EMP_PHONE', 'FLAG_WORK_PHONE',\n",
       "        'FLAG_CONT_MOBILE', 'FLAG_PHONE', 'FLAG_EMAIL', 'CNT_FAM_MEMBERS',\n",
       "        'REGION_RATING_CLIENT', 'REGION_RATING_CLIENT_W_CITY',\n",
       "        'HOUR_APPR_PROCESS_START', 'REG_REGION_NOT_LIVE_REGION',\n",
       "        'REG_REGION_NOT_WORK_REGION', 'LIVE_REGION_NOT_WORK_REGION',\n",
       "        'REG_CITY_NOT_LIVE_CITY', 'REG_CITY_NOT_WORK_CITY',\n",
       "        'LIVE_CITY_NOT_WORK_CITY', 'OBS_30_CNT_SOCIAL_CIRCLE',\n",
       "        'DEF_30_CNT_SOCIAL_CIRCLE', 'OBS_60_CNT_SOCIAL_CIRCLE',\n",
       "        'DEF_60_CNT_SOCIAL_CIRCLE', 'DAYS_LAST_PHONE_CHANGE', 'FLAG_DOCUMENT_2',\n",
       "        'FLAG_DOCUMENT_3', 'FLAG_DOCUMENT_4', 'FLAG_DOCUMENT_5',\n",
       "        'FLAG_DOCUMENT_6', 'FLAG_DOCUMENT_7', 'FLAG_DOCUMENT_8',\n",
       "        'FLAG_DOCUMENT_9', 'FLAG_DOCUMENT_10', 'FLAG_DOCUMENT_11',\n",
       "        'FLAG_DOCUMENT_12', 'FLAG_DOCUMENT_13', 'FLAG_DOCUMENT_14',\n",
       "        'FLAG_DOCUMENT_15', 'FLAG_DOCUMENT_16', 'FLAG_DOCUMENT_17',\n",
       "        'FLAG_DOCUMENT_18', 'FLAG_DOCUMENT_19', 'FLAG_DOCUMENT_20',\n",
       "        'FLAG_DOCUMENT_21', 'AMT_REQ_CREDIT_BUREAU_HOUR',\n",
       "        'AMT_REQ_CREDIT_BUREAU_DAY', 'AMT_REQ_CREDIT_BUREAU_WEEK',\n",
       "        'AMT_REQ_CREDIT_BUREAU_MON', 'AMT_REQ_CREDIT_BUREAU_QRT',\n",
       "        'AMT_REQ_CREDIT_BUREAU_YEAR'],\n",
       "       dtype='object'),\n",
       " dtype('float64'): Index(['AMT_INCOME_TOTAL', 'AMT_CREDIT', 'AMT_ANNUITY', 'AMT_GOODS_PRICE',\n",
       "        'REGION_POPULATION_RELATIVE', 'EXT_SOURCE_2', 'EXT_SOURCE_3'],\n",
       "       dtype='object'),\n",
       " dtype('O'): Index(['NAME_CONTRACT_TYPE', 'CODE_GENDER', 'NAME_TYPE_SUITE',\n",
       "        'NAME_INCOME_TYPE', 'NAME_EDUCATION_TYPE', 'NAME_FAMILY_STATUS',\n",
       "        'NAME_HOUSING_TYPE', 'OCCUPATION_TYPE', 'WEEKDAY_APPR_PROCESS_START',\n",
       "        'ORGANIZATION_TYPE'],\n",
       "       dtype='object')}"
      ]
     },
     "execution_count": 50,
     "metadata": {},
     "output_type": "execute_result"
    }
   ],
   "source": [
    "#grouping the columns based on data types\n",
    "app_data.columns.to_series().groupby(app_data.dtypes).groups"
   ]
  },
  {
   "cell_type": "code",
   "execution_count": 51,
   "metadata": {},
   "outputs": [
    {
     "data": {
      "image/png": "[encoded data removed]",
      "text/plain": [
       "<Figure size 432x288 with 1 Axes>"
      ]
     },
     "metadata": {
      "needs_background": "light"
     },
     "output_type": "display_data"
    },
    {
     "name": "stdout",
     "output_type": "stream",
     "text": [
      "Missing values :  0\n",
      "count    3.075110e+05\n",
      "mean     1.687979e+05\n",
      "std      2.371231e+05\n",
      "min      2.565000e+04\n",
      "25%      1.125000e+05\n",
      "50%      1.471500e+05\n",
      "75%      2.025000e+05\n",
      "max      1.170000e+08\n",
      "Name: AMT_INCOME_TOTAL, dtype: float64\n"
     ]
    }
   ],
   "source": [
    "# First let us look at AMT_INCOME_TOTAL\n",
    "analyze_data(app_data,\"AMT_INCOME_TOTAL\",\"log\")"
   ]
  },
  {
   "cell_type": "code",
   "execution_count": 52,
   "metadata": {},
   "outputs": [],
   "source": [
    "# As we see from plot, there are several outliers. To handle these outliers, one way would be to bin the data in to categories.\n",
    "\n",
    "# Let us look at where 90% of income values are\n",
    "ninety_per_val=np.quantile(app_data.AMT_INCOME_TOTAL,0.9)"
   ]
  },
  {
   "cell_type": "code",
   "execution_count": 53,
   "metadata": {},
   "outputs": [
    {
     "data": {
      "text/plain": [
       "0 - 40000             963\n",
       "40000 - 80000       26400\n",
       "80000 - 120000      75974\n",
       "120000 - 160000     79790\n",
       "160000 - 200000     36469\n",
       "200000 - 240000     42319\n",
       "240000 and above    45596\n",
       "Name: AMT_INCOME_TOTAL_RNG, dtype: int64"
      ]
     },
     "execution_count": 53,
     "metadata": {},
     "output_type": "execute_result"
    }
   ],
   "source": [
    "# Since the mean value is 1,68,797. Let us consider bin size to be at least quarter of mean which comes to around 42000, \n",
    "# rounding off to nearest value which is 40000.\n",
    "bins = [x for x in np.arange(0,ninety_per_val,40000,dtype=\"int\")]+[max(app_data.AMT_INCOME_TOTAL)]\n",
    "bin_lbls = [str(bins[i])+\" - \"+str(bins[i+1]) for i in range(0,len(bins)-2)] + [str(bins[-2])+\" and above\"]\n",
    "app_data[\"AMT_INCOME_TOTAL_RNG\"] = pd.cut(app_data.AMT_INCOME_TOTAL,bins=bins,labels=bin_lbls)\n",
    "app_data[\"AMT_INCOME_TOTAL_RNG\"].value_counts(sort=False)"
   ]
  },
  {
   "cell_type": "code",
   "execution_count": 54,
   "metadata": {},
   "outputs": [
    {
     "data": {
      "image/png": "[encoded data removed]",
      "text/plain": [
       "<Figure size 432x288 with 1 Axes>"
      ]
     },
     "metadata": {
      "needs_background": "light"
     },
     "output_type": "display_data"
    },
    {
     "name": "stdout",
     "output_type": "stream",
     "text": [
      "Missing values :  0\n",
      "count    3.075110e+05\n",
      "mean     5.990260e+05\n",
      "std      4.024908e+05\n",
      "min      4.500000e+04\n",
      "25%      2.700000e+05\n",
      "50%      5.135310e+05\n",
      "75%      8.086500e+05\n",
      "max      4.050000e+06\n",
      "Name: AMT_CREDIT, dtype: float64\n"
     ]
    }
   ],
   "source": [
    "# Apply similar logic to CREDIT Amount and ANNUITY amount.\n",
    "analyze_data(app_data,\"AMT_CREDIT\",\"log\")"
   ]
  },
  {
   "cell_type": "code",
   "execution_count": 55,
   "metadata": {},
   "outputs": [
    {
     "data": {
      "text/plain": [
       "1133748.0"
      ]
     },
     "execution_count": 55,
     "metadata": {},
     "output_type": "execute_result"
    }
   ],
   "source": [
    "# As we see from plot, there are several outliers. To handle these outliers, one way would be to bin the data in to categories.\n",
    "\n",
    "# Let us look at where 90% of income values are\n",
    "ninety_per_val=np.quantile(app_data.AMT_CREDIT,0.9)\n",
    "ninety_per_val"
   ]
  },
  {
   "cell_type": "code",
   "execution_count": 56,
   "metadata": {},
   "outputs": [
    {
     "data": {
      "text/plain": [
       "0 - 150000           18159\n",
       "150000 - 300000      72798\n",
       "300000 - 450000      44577\n",
       "450000 - 600000      48031\n",
       "600000 - 750000      30862\n",
       "750000 - 900000      34172\n",
       "900000 - 1050000     15939\n",
       "1050000 and above    42973\n",
       "Name: AMT_CREDIT_RANGE, dtype: int64"
      ]
     },
     "execution_count": 56,
     "metadata": {},
     "output_type": "execute_result"
    }
   ],
   "source": [
    "# Since the mean value is 5,99,026. Let us consider bin size to be at least quarter of mean which comes to around 1,50,000, \n",
    "bins = [x for x in np.arange(0,ninety_per_val,150000,dtype=\"int\")]+[max(app_data.AMT_CREDIT)]\n",
    "bin_lbls = [str(bins[i])+\" - \"+str(bins[i+1]) for i in range(0,len(bins)-2)] + [str(bins[-2])+\" and above\"]\n",
    "app_data[\"AMT_CREDIT_RANGE\"] = pd.cut(app_data.AMT_CREDIT,bins=bins,labels=bin_lbls)\n",
    "app_data.AMT_CREDIT_RANGE.value_counts(sort=False)"
   ]
  },
  {
   "cell_type": "code",
   "execution_count": 57,
   "metadata": {},
   "outputs": [
    {
     "data": {
      "image/png": "[encoded data removed]",
      "text/plain": [
       "<Figure size 432x288 with 1 Axes>"
      ]
     },
     "metadata": {
      "needs_background": "light"
     },
     "output_type": "display_data"
    },
    {
     "name": "stdout",
     "output_type": "stream",
     "text": [
      "Missing values :  12\n",
      "count    307499.000000\n",
      "mean      27108.573909\n",
      "std       14493.737315\n",
      "min        1615.500000\n",
      "25%       16524.000000\n",
      "50%       24903.000000\n",
      "75%       34596.000000\n",
      "max      258025.500000\n",
      "Name: AMT_ANNUITY, dtype: float64\n"
     ]
    }
   ],
   "source": [
    "# Let us look at Annuity amount\n",
    "analyze_data(app_data,\"AMT_ANNUITY\",\"log\")"
   ]
  },
  {
   "cell_type": "code",
   "execution_count": 58,
   "metadata": {},
   "outputs": [],
   "source": [
    "# As we see from plot, there are several outliers and missing values. To handle these outliers, one way would be to bin the data in to categories.\n",
    "# For now, we will leave this column as it is, since it is hard to impute the column with an appropriate value."
   ]
  },
  {
   "cell_type": "code",
   "execution_count": 59,
   "metadata": {},
   "outputs": [
    {
     "data": {
      "image/png": "[encoded data removed]",
      "text/plain": [
       "<Figure size 432x288 with 1 Axes>"
      ]
     },
     "metadata": {
      "needs_background": "light"
     },
     "output_type": "display_data"
    },
    {
     "name": "stdout",
     "output_type": "stream",
     "text": [
      "Missing values :  0\n",
      "count    307511.000000\n",
      "mean          0.020868\n",
      "std           0.013831\n",
      "min           0.000290\n",
      "25%           0.010006\n",
      "50%           0.018850\n",
      "75%           0.028663\n",
      "max           0.072508\n",
      "Name: REGION_POPULATION_RELATIVE, dtype: float64\n"
     ]
    }
   ],
   "source": [
    "# Let us look at REGION_POPULATION_RELATIVE.\n",
    "analyze_data(app_data,\"REGION_POPULATION_RELATIVE\")"
   ]
  },
  {
   "cell_type": "code",
   "execution_count": 60,
   "metadata": {},
   "outputs": [
    {
     "data": {
      "text/plain": [
       "Sparse     78124\n",
       "Normal    161005\n",
       "Dense      68382\n",
       "Name: REGION_POPULATION_RELATIVE, dtype: int64"
      ]
     },
     "execution_count": 60,
     "metadata": {},
     "output_type": "execute_result"
    }
   ],
   "source": [
    "# This column REGION_POPULATION_RELATIVE is described as \"Normalized population of region where client lives (higher number means the client lives in more populated region)\".\n",
    "# This column is also normalized with no missing values.\n",
    "# Since, the high value represents dense area, low value represents sparse area, We can bin in to two ategories.\n",
    "# From the plot, the outlier is clearly seen.\n",
    "# We can divide in to following bins\n",
    "# 0 to mean 1st Quartile - Sparse\n",
    "# 1st to 3rd Quartile - Normal\n",
    "# Above 3rd Quartile - Dense\n",
    "bins  = [0]+ list(app_data.REGION_POPULATION_RELATIVE.quantile([0.25,0.75,1]).to_numpy())\n",
    "bin_lbls = ['Sparse','Normal','Dense']\n",
    "app_data.REGION_POPULATION_RELATIVE = pd.cut(app_data.REGION_POPULATION_RELATIVE,bins,labels=bin_lbls)\n",
    "app_data.REGION_POPULATION_RELATIVE.value_counts(sort=False)"
   ]
  },
  {
   "cell_type": "code",
   "execution_count": 61,
   "metadata": {},
   "outputs": [
    {
     "data": {
      "image/png": "[encoded data removed]",
      "text/plain": [
       "<Figure size 432x288 with 1 Axes>"
      ]
     },
     "metadata": {
      "needs_background": "light"
     },
     "output_type": "display_data"
    },
    {
     "name": "stdout",
     "output_type": "stream",
     "text": [
      "Missing values :  660\n",
      "count    3.068510e+05\n",
      "mean     5.143927e-01\n",
      "std      1.910602e-01\n",
      "min      8.173617e-08\n",
      "25%      3.924574e-01\n",
      "50%      5.659614e-01\n",
      "75%      6.636171e-01\n",
      "max      8.549997e-01\n",
      "Name: EXT_SOURCE_2, dtype: float64\n"
     ]
    },
    {
     "data": {
      "image/png": "[encoded data removed]",
      "text/plain": [
       "<Figure size 432x288 with 1 Axes>"
      ]
     },
     "metadata": {
      "needs_background": "light"
     },
     "output_type": "display_data"
    },
    {
     "name": "stdout",
     "output_type": "stream",
     "text": [
      "Missing values :  0\n",
      "count    307511.000000\n",
      "mean          0.409575\n",
      "std           0.268177\n",
      "min           0.000000\n",
      "25%           0.178760\n",
      "50%           0.459690\n",
      "75%           0.636376\n",
      "max           0.896010\n",
      "Name: EXT_SOURCE_3, dtype: float64\n"
     ]
    }
   ],
   "source": [
    "# Let us now look at columns EXT_SOURCE_2, EXT_SOURCE_3.\n",
    "# These columns represent a normalized score from external data source.\n",
    "# Let us look at each column\n",
    "analyze_data(app_data,\"EXT_SOURCE_2\")\n",
    "analyze_data(app_data,\"EXT_SOURCE_3\")"
   ]
  },
  {
   "cell_type": "code",
   "execution_count": 62,
   "metadata": {},
   "outputs": [
    {
     "data": {
      "text/plain": [
       "Low        16011\n",
       "Medium    154452\n",
       "High       76083\n",
       "Name: EXT_SOURCE_3, dtype: int64"
      ]
     },
     "execution_count": 62,
     "metadata": {},
     "output_type": "execute_result"
    }
   ],
   "source": [
    "# EXT_SOURCE_2 is left as it is as it is hard to derive reasonable value to impute.\n",
    "# Turning to EXT_SOURCE_3, it can be categorized as \"Low\", \"Medium\", \"High\"\n",
    "bins  = [0]+ list(app_data.EXT_SOURCE_3.quantile([0.25,0.75,1]).to_numpy())\n",
    "bin_lbls=[\"Low\",\"Medium\",\"High\"]\n",
    "app_data.EXT_SOURCE_3 = pd.cut(app_data.EXT_SOURCE_3,bins,labels=bin_lbls)\n",
    "app_data.EXT_SOURCE_3.value_counts(sort=False)"
   ]
  },
  {
   "cell_type": "markdown",
   "metadata": {},
   "source": [
    "## Step 4. Data Analysis - Univariate and BiVariate\n",
    "### Step 4.a : Check the imbalance percentage"
   ]
  },
  {
   "cell_type": "code",
   "execution_count": 63,
   "metadata": {},
   "outputs": [
    {
     "name": "stdout",
     "output_type": "stream",
     "text": [
      "Customers with no difficulty in payments :  91.9 %\n",
      "Customers with difficulty in payments :  8.1 %\n"
     ]
    }
   ],
   "source": [
    "# Checking the imbalance percentage\n",
    "tg_percentages=100*app_data.TARGET.value_counts()/len(app_data)\n",
    "print(\"Customers with no difficulty in payments : \",\"{:.1f}\".format(tg_percentages[0]), \"%\")\n",
    "print(\"Customers with difficulty in payments : \",\"{:.1f}\".format(tg_percentages[1]), \"%\")"
   ]
  },
  {
   "cell_type": "markdown",
   "metadata": {},
   "source": [
    "### Step 4.b : Divide the data set in to 2 sets i.e TARGET =1 and TARGET =0"
   ]
  },
  {
   "cell_type": "code",
   "execution_count": 64,
   "metadata": {},
   "outputs": [],
   "source": [
    "# Dividing the dataset into two datasets of  target=1(client with payment difficulties) and target=0(all other)\n",
    "app_data_w_difficulty=app_data[app_data['TARGET']==1]\n",
    "app_data_wo_difficulty=app_data[app_data['TARGET']==0]"
   ]
  },
  {
   "cell_type": "code",
   "execution_count": 65,
   "metadata": {},
   "outputs": [
    {
     "data": {
      "text/html": [
       "<div>\n",
       "<style scoped>\n",
       "    .dataframe tbody tr th:only-of-type {\n",
       "        vertical-align: middle;\n",
       "    }\n",
       "\n",
       "    .dataframe tbody tr th {\n",
       "        vertical-align: top;\n",
       "    }\n",
       "\n",
       "    .dataframe thead th {\n",
       "        text-align: right;\n",
       "    }\n",
       "</style>\n",
       "<table border=\"1\" class=\"dataframe\">\n",
       "  <thead>\n",
       "    <tr style=\"text-align: right;\">\n",
       "      <th></th>\n",
       "      <th>SK_ID_CURR</th>\n",
       "      <th>TARGET</th>\n",
       "      <th>NAME_CONTRACT_TYPE</th>\n",
       "      <th>CODE_GENDER</th>\n",
       "      <th>FLAG_OWN_CAR</th>\n",
       "      <th>FLAG_OWN_REALTY</th>\n",
       "      <th>CNT_CHILDREN</th>\n",
       "      <th>AMT_INCOME_TOTAL</th>\n",
       "      <th>AMT_CREDIT</th>\n",
       "      <th>AMT_ANNUITY</th>\n",
       "      <th>...</th>\n",
       "      <th>FLAG_DOCUMENT_20</th>\n",
       "      <th>FLAG_DOCUMENT_21</th>\n",
       "      <th>AMT_REQ_CREDIT_BUREAU_HOUR</th>\n",
       "      <th>AMT_REQ_CREDIT_BUREAU_DAY</th>\n",
       "      <th>AMT_REQ_CREDIT_BUREAU_WEEK</th>\n",
       "      <th>AMT_REQ_CREDIT_BUREAU_MON</th>\n",
       "      <th>AMT_REQ_CREDIT_BUREAU_QRT</th>\n",
       "      <th>AMT_REQ_CREDIT_BUREAU_YEAR</th>\n",
       "      <th>AMT_INCOME_TOTAL_RNG</th>\n",
       "      <th>AMT_CREDIT_RANGE</th>\n",
       "    </tr>\n",
       "  </thead>\n",
       "  <tbody>\n",
       "    <tr>\n",
       "      <td>0</td>\n",
       "      <td>100002</td>\n",
       "      <td>1</td>\n",
       "      <td>Cash loans</td>\n",
       "      <td>M</td>\n",
       "      <td>0</td>\n",
       "      <td>1</td>\n",
       "      <td>0</td>\n",
       "      <td>202500.0</td>\n",
       "      <td>406597.5</td>\n",
       "      <td>24700.5</td>\n",
       "      <td>...</td>\n",
       "      <td>0</td>\n",
       "      <td>0</td>\n",
       "      <td>0</td>\n",
       "      <td>0</td>\n",
       "      <td>0</td>\n",
       "      <td>0</td>\n",
       "      <td>0</td>\n",
       "      <td>1</td>\n",
       "      <td>200000 - 240000</td>\n",
       "      <td>300000 - 450000</td>\n",
       "    </tr>\n",
       "    <tr>\n",
       "      <td>26</td>\n",
       "      <td>100031</td>\n",
       "      <td>1</td>\n",
       "      <td>Cash loans</td>\n",
       "      <td>F</td>\n",
       "      <td>0</td>\n",
       "      <td>1</td>\n",
       "      <td>0</td>\n",
       "      <td>112500.0</td>\n",
       "      <td>979992.0</td>\n",
       "      <td>27076.5</td>\n",
       "      <td>...</td>\n",
       "      <td>0</td>\n",
       "      <td>0</td>\n",
       "      <td>0</td>\n",
       "      <td>0</td>\n",
       "      <td>0</td>\n",
       "      <td>0</td>\n",
       "      <td>2</td>\n",
       "      <td>2</td>\n",
       "      <td>80000 - 120000</td>\n",
       "      <td>900000 - 1050000</td>\n",
       "    </tr>\n",
       "    <tr>\n",
       "      <td>40</td>\n",
       "      <td>100047</td>\n",
       "      <td>1</td>\n",
       "      <td>Cash loans</td>\n",
       "      <td>M</td>\n",
       "      <td>0</td>\n",
       "      <td>1</td>\n",
       "      <td>0</td>\n",
       "      <td>202500.0</td>\n",
       "      <td>1193580.0</td>\n",
       "      <td>35028.0</td>\n",
       "      <td>...</td>\n",
       "      <td>0</td>\n",
       "      <td>0</td>\n",
       "      <td>0</td>\n",
       "      <td>0</td>\n",
       "      <td>0</td>\n",
       "      <td>2</td>\n",
       "      <td>0</td>\n",
       "      <td>4</td>\n",
       "      <td>200000 - 240000</td>\n",
       "      <td>1050000 and above</td>\n",
       "    </tr>\n",
       "    <tr>\n",
       "      <td>42</td>\n",
       "      <td>100049</td>\n",
       "      <td>1</td>\n",
       "      <td>Cash loans</td>\n",
       "      <td>F</td>\n",
       "      <td>0</td>\n",
       "      <td>0</td>\n",
       "      <td>0</td>\n",
       "      <td>135000.0</td>\n",
       "      <td>288873.0</td>\n",
       "      <td>16258.5</td>\n",
       "      <td>...</td>\n",
       "      <td>0</td>\n",
       "      <td>0</td>\n",
       "      <td>0</td>\n",
       "      <td>0</td>\n",
       "      <td>0</td>\n",
       "      <td>0</td>\n",
       "      <td>0</td>\n",
       "      <td>2</td>\n",
       "      <td>120000 - 160000</td>\n",
       "      <td>150000 - 300000</td>\n",
       "    </tr>\n",
       "    <tr>\n",
       "      <td>81</td>\n",
       "      <td>100096</td>\n",
       "      <td>1</td>\n",
       "      <td>Cash loans</td>\n",
       "      <td>F</td>\n",
       "      <td>0</td>\n",
       "      <td>1</td>\n",
       "      <td>0</td>\n",
       "      <td>81000.0</td>\n",
       "      <td>252000.0</td>\n",
       "      <td>14593.5</td>\n",
       "      <td>...</td>\n",
       "      <td>0</td>\n",
       "      <td>0</td>\n",
       "      <td>0</td>\n",
       "      <td>0</td>\n",
       "      <td>0</td>\n",
       "      <td>0</td>\n",
       "      <td>0</td>\n",
       "      <td>0</td>\n",
       "      <td>80000 - 120000</td>\n",
       "      <td>150000 - 300000</td>\n",
       "    </tr>\n",
       "  </tbody>\n",
       "</table>\n",
       "<p>5 rows × 75 columns</p>\n",
       "</div>"
      ],
      "text/plain": [
       "    SK_ID_CURR  TARGET NAME_CONTRACT_TYPE CODE_GENDER  FLAG_OWN_CAR  \\\n",
       "0       100002       1         Cash loans           M             0   \n",
       "26      100031       1         Cash loans           F             0   \n",
       "40      100047       1         Cash loans           M             0   \n",
       "42      100049       1         Cash loans           F             0   \n",
       "81      100096       1         Cash loans           F             0   \n",
       "\n",
       "    FLAG_OWN_REALTY  CNT_CHILDREN  AMT_INCOME_TOTAL  AMT_CREDIT  AMT_ANNUITY  \\\n",
       "0                 1             0          202500.0    406597.5      24700.5   \n",
       "26                1             0          112500.0    979992.0      27076.5   \n",
       "40                1             0          202500.0   1193580.0      35028.0   \n",
       "42                0             0          135000.0    288873.0      16258.5   \n",
       "81                1             0           81000.0    252000.0      14593.5   \n",
       "\n",
       "    ...  FLAG_DOCUMENT_20 FLAG_DOCUMENT_21 AMT_REQ_CREDIT_BUREAU_HOUR  \\\n",
       "0   ...                 0                0                          0   \n",
       "26  ...                 0                0                          0   \n",
       "40  ...                 0                0                          0   \n",
       "42  ...                 0                0                          0   \n",
       "81  ...                 0                0                          0   \n",
       "\n",
       "   AMT_REQ_CREDIT_BUREAU_DAY AMT_REQ_CREDIT_BUREAU_WEEK  \\\n",
       "0                          0                          0   \n",
       "26                         0                          0   \n",
       "40                         0                          0   \n",
       "42                         0                          0   \n",
       "81                         0                          0   \n",
       "\n",
       "   AMT_REQ_CREDIT_BUREAU_MON AMT_REQ_CREDIT_BUREAU_QRT  \\\n",
       "0                          0                         0   \n",
       "26                         0                         2   \n",
       "40                         2                         0   \n",
       "42                         0                         0   \n",
       "81                         0                         0   \n",
       "\n",
       "    AMT_REQ_CREDIT_BUREAU_YEAR  AMT_INCOME_TOTAL_RNG   AMT_CREDIT_RANGE  \n",
       "0                            1       200000 - 240000    300000 - 450000  \n",
       "26                           2        80000 - 120000   900000 - 1050000  \n",
       "40                           4       200000 - 240000  1050000 and above  \n",
       "42                           2       120000 - 160000    150000 - 300000  \n",
       "81                           0        80000 - 120000    150000 - 300000  \n",
       "\n",
       "[5 rows x 75 columns]"
      ]
     },
     "execution_count": 65,
     "metadata": {},
     "output_type": "execute_result"
    }
   ],
   "source": [
    "#verifying the data set \n",
    "app_data_w_difficulty.head()"
   ]
  },
  {
   "cell_type": "code",
   "execution_count": 66,
   "metadata": {},
   "outputs": [
    {
     "data": {
      "text/html": [
       "<div>\n",
       "<style scoped>\n",
       "    .dataframe tbody tr th:only-of-type {\n",
       "        vertical-align: middle;\n",
       "    }\n",
       "\n",
       "    .dataframe tbody tr th {\n",
       "        vertical-align: top;\n",
       "    }\n",
       "\n",
       "    .dataframe thead th {\n",
       "        text-align: right;\n",
       "    }\n",
       "</style>\n",
       "<table border=\"1\" class=\"dataframe\">\n",
       "  <thead>\n",
       "    <tr style=\"text-align: right;\">\n",
       "      <th></th>\n",
       "      <th>SK_ID_CURR</th>\n",
       "      <th>TARGET</th>\n",
       "      <th>NAME_CONTRACT_TYPE</th>\n",
       "      <th>CODE_GENDER</th>\n",
       "      <th>FLAG_OWN_CAR</th>\n",
       "      <th>FLAG_OWN_REALTY</th>\n",
       "      <th>CNT_CHILDREN</th>\n",
       "      <th>AMT_INCOME_TOTAL</th>\n",
       "      <th>AMT_CREDIT</th>\n",
       "      <th>AMT_ANNUITY</th>\n",
       "      <th>...</th>\n",
       "      <th>FLAG_DOCUMENT_20</th>\n",
       "      <th>FLAG_DOCUMENT_21</th>\n",
       "      <th>AMT_REQ_CREDIT_BUREAU_HOUR</th>\n",
       "      <th>AMT_REQ_CREDIT_BUREAU_DAY</th>\n",
       "      <th>AMT_REQ_CREDIT_BUREAU_WEEK</th>\n",
       "      <th>AMT_REQ_CREDIT_BUREAU_MON</th>\n",
       "      <th>AMT_REQ_CREDIT_BUREAU_QRT</th>\n",
       "      <th>AMT_REQ_CREDIT_BUREAU_YEAR</th>\n",
       "      <th>AMT_INCOME_TOTAL_RNG</th>\n",
       "      <th>AMT_CREDIT_RANGE</th>\n",
       "    </tr>\n",
       "  </thead>\n",
       "  <tbody>\n",
       "    <tr>\n",
       "      <td>1</td>\n",
       "      <td>100003</td>\n",
       "      <td>0</td>\n",
       "      <td>Cash loans</td>\n",
       "      <td>F</td>\n",
       "      <td>0</td>\n",
       "      <td>0</td>\n",
       "      <td>0</td>\n",
       "      <td>270000.0</td>\n",
       "      <td>1293502.5</td>\n",
       "      <td>35698.5</td>\n",
       "      <td>...</td>\n",
       "      <td>0</td>\n",
       "      <td>0</td>\n",
       "      <td>0</td>\n",
       "      <td>0</td>\n",
       "      <td>0</td>\n",
       "      <td>0</td>\n",
       "      <td>0</td>\n",
       "      <td>0</td>\n",
       "      <td>240000 and above</td>\n",
       "      <td>1050000 and above</td>\n",
       "    </tr>\n",
       "    <tr>\n",
       "      <td>2</td>\n",
       "      <td>100004</td>\n",
       "      <td>0</td>\n",
       "      <td>Revolving loans</td>\n",
       "      <td>M</td>\n",
       "      <td>1</td>\n",
       "      <td>1</td>\n",
       "      <td>0</td>\n",
       "      <td>67500.0</td>\n",
       "      <td>135000.0</td>\n",
       "      <td>6750.0</td>\n",
       "      <td>...</td>\n",
       "      <td>0</td>\n",
       "      <td>0</td>\n",
       "      <td>0</td>\n",
       "      <td>0</td>\n",
       "      <td>0</td>\n",
       "      <td>0</td>\n",
       "      <td>0</td>\n",
       "      <td>0</td>\n",
       "      <td>40000 - 80000</td>\n",
       "      <td>0 - 150000</td>\n",
       "    </tr>\n",
       "    <tr>\n",
       "      <td>3</td>\n",
       "      <td>100006</td>\n",
       "      <td>0</td>\n",
       "      <td>Cash loans</td>\n",
       "      <td>F</td>\n",
       "      <td>0</td>\n",
       "      <td>1</td>\n",
       "      <td>0</td>\n",
       "      <td>135000.0</td>\n",
       "      <td>312682.5</td>\n",
       "      <td>29686.5</td>\n",
       "      <td>...</td>\n",
       "      <td>0</td>\n",
       "      <td>0</td>\n",
       "      <td>0</td>\n",
       "      <td>0</td>\n",
       "      <td>0</td>\n",
       "      <td>0</td>\n",
       "      <td>0</td>\n",
       "      <td>0</td>\n",
       "      <td>120000 - 160000</td>\n",
       "      <td>300000 - 450000</td>\n",
       "    </tr>\n",
       "    <tr>\n",
       "      <td>4</td>\n",
       "      <td>100007</td>\n",
       "      <td>0</td>\n",
       "      <td>Cash loans</td>\n",
       "      <td>M</td>\n",
       "      <td>0</td>\n",
       "      <td>1</td>\n",
       "      <td>0</td>\n",
       "      <td>121500.0</td>\n",
       "      <td>513000.0</td>\n",
       "      <td>21865.5</td>\n",
       "      <td>...</td>\n",
       "      <td>0</td>\n",
       "      <td>0</td>\n",
       "      <td>0</td>\n",
       "      <td>0</td>\n",
       "      <td>0</td>\n",
       "      <td>0</td>\n",
       "      <td>0</td>\n",
       "      <td>0</td>\n",
       "      <td>120000 - 160000</td>\n",
       "      <td>450000 - 600000</td>\n",
       "    </tr>\n",
       "    <tr>\n",
       "      <td>5</td>\n",
       "      <td>100008</td>\n",
       "      <td>0</td>\n",
       "      <td>Cash loans</td>\n",
       "      <td>M</td>\n",
       "      <td>0</td>\n",
       "      <td>1</td>\n",
       "      <td>0</td>\n",
       "      <td>99000.0</td>\n",
       "      <td>490495.5</td>\n",
       "      <td>27517.5</td>\n",
       "      <td>...</td>\n",
       "      <td>0</td>\n",
       "      <td>0</td>\n",
       "      <td>0</td>\n",
       "      <td>0</td>\n",
       "      <td>0</td>\n",
       "      <td>0</td>\n",
       "      <td>1</td>\n",
       "      <td>1</td>\n",
       "      <td>80000 - 120000</td>\n",
       "      <td>450000 - 600000</td>\n",
       "    </tr>\n",
       "  </tbody>\n",
       "</table>\n",
       "<p>5 rows × 75 columns</p>\n",
       "</div>"
      ],
      "text/plain": [
       "   SK_ID_CURR  TARGET NAME_CONTRACT_TYPE CODE_GENDER  FLAG_OWN_CAR  \\\n",
       "1      100003       0         Cash loans           F             0   \n",
       "2      100004       0    Revolving loans           M             1   \n",
       "3      100006       0         Cash loans           F             0   \n",
       "4      100007       0         Cash loans           M             0   \n",
       "5      100008       0         Cash loans           M             0   \n",
       "\n",
       "   FLAG_OWN_REALTY  CNT_CHILDREN  AMT_INCOME_TOTAL  AMT_CREDIT  AMT_ANNUITY  \\\n",
       "1                0             0          270000.0   1293502.5      35698.5   \n",
       "2                1             0           67500.0    135000.0       6750.0   \n",
       "3                1             0          135000.0    312682.5      29686.5   \n",
       "4                1             0          121500.0    513000.0      21865.5   \n",
       "5                1             0           99000.0    490495.5      27517.5   \n",
       "\n",
       "   ...  FLAG_DOCUMENT_20 FLAG_DOCUMENT_21 AMT_REQ_CREDIT_BUREAU_HOUR  \\\n",
       "1  ...                 0                0                          0   \n",
       "2  ...                 0                0                          0   \n",
       "3  ...                 0                0                          0   \n",
       "4  ...                 0                0                          0   \n",
       "5  ...                 0                0                          0   \n",
       "\n",
       "  AMT_REQ_CREDIT_BUREAU_DAY AMT_REQ_CREDIT_BUREAU_WEEK  \\\n",
       "1                         0                          0   \n",
       "2                         0                          0   \n",
       "3                         0                          0   \n",
       "4                         0                          0   \n",
       "5                         0                          0   \n",
       "\n",
       "  AMT_REQ_CREDIT_BUREAU_MON AMT_REQ_CREDIT_BUREAU_QRT  \\\n",
       "1                         0                         0   \n",
       "2                         0                         0   \n",
       "3                         0                         0   \n",
       "4                         0                         0   \n",
       "5                         0                         1   \n",
       "\n",
       "   AMT_REQ_CREDIT_BUREAU_YEAR  AMT_INCOME_TOTAL_RNG   AMT_CREDIT_RANGE  \n",
       "1                           0      240000 and above  1050000 and above  \n",
       "2                           0         40000 - 80000         0 - 150000  \n",
       "3                           0       120000 - 160000    300000 - 450000  \n",
       "4                           0       120000 - 160000    450000 - 600000  \n",
       "5                           1        80000 - 120000    450000 - 600000  \n",
       "\n",
       "[5 rows x 75 columns]"
      ]
     },
     "execution_count": 66,
     "metadata": {},
     "output_type": "execute_result"
    }
   ],
   "source": [
    "#verifying the data set \n",
    "app_data_wo_difficulty.head()"
   ]
  },
  {
   "cell_type": "markdown",
   "metadata": {},
   "source": [
    "### 4.c Univariate Analysis on categorical variables"
   ]
  },
  {
   "cell_type": "code",
   "execution_count": 67,
   "metadata": {},
   "outputs": [
    {
     "data": {
      "image/png": "[encoded data removed]",
      "text/plain": [
       "<Figure size 1440x1800 with 10 Axes>"
      ]
     },
     "metadata": {
      "needs_background": "light"
     },
     "output_type": "display_data"
    }
   ],
   "source": [
    "# Univariate analaysis on the categorical variables\n",
    "# Below are categoritcal variables we have identified till now\n",
    "#  NAME_CONTRACT_TYPE\n",
    "#  CODE_GENDER\n",
    "#  NAME_INCOME_TYPE\n",
    "#  NAME_EDUCATION_TYPE\n",
    "#  NAME_FAMILY_STATUS\n",
    "#  NAME_HOUSING_TYPE\n",
    "#  AMT_INCOME_RANGE\n",
    "#  AMT_CREDIT_RANGE\n",
    "#  EXT_SOURCE_3\n",
    "#  REGION_POPULATION_RELATIVE\n",
    "cat_features = ['NAME_CONTRACT_TYPE','CODE_GENDER','NAME_INCOME_TYPE','NAME_EDUCATION_TYPE',\n",
    "'NAME_FAMILY_STATUS','NAME_HOUSING_TYPE','AMT_INCOME_TOTAL_RNG','AMT_CREDIT_RANGE','REGION_POPULATION_RELATIVE','EXT_SOURCE_3']\n",
    "plt.figure(figsize=(20,25))\n",
    "for num,feature in enumerate(cat_features):\n",
    "    plt.subplot(len(cat_features)/2,2,num+1)\n",
    "    sns.countplot(x=feature,hue='TARGET',data=app_data)\n",
    "    plt.xticks(rotation=20)"
   ]
  },
  {
   "cell_type": "markdown",
   "metadata": {},
   "source": [
    "**Based on visual inspection of plots, below class of customers have more difficulties with payments**\n",
    "* Cash loans\n",
    "* Female customers\n",
    "* Working professionals\n",
    "* Customers with SSC Education qualification\n",
    "* Married customers\n",
    "* Customers living in \"House/apartment\"\n",
    "* Income range of 80000 to 160000\n",
    "* Credit range of 150000 to 600000\n",
    "* Customers in cities with nominal population density\n",
    "* Customer whose rating is given as \"Medium\" by external source 3"
   ]
  },
  {
   "cell_type": "markdown",
   "metadata": {},
   "source": [
    "### Step 4.d : Correlation for numerical columns for both the cases"
   ]
  },
  {
   "cell_type": "code",
   "execution_count": 68,
   "metadata": {},
   "outputs": [
    {
     "data": {
      "text/html": [
       "<div>\n",
       "<style scoped>\n",
       "    .dataframe tbody tr th:only-of-type {\n",
       "        vertical-align: middle;\n",
       "    }\n",
       "\n",
       "    .dataframe tbody tr th {\n",
       "        vertical-align: top;\n",
       "    }\n",
       "\n",
       "    .dataframe thead th {\n",
       "        text-align: right;\n",
       "    }\n",
       "</style>\n",
       "<table border=\"1\" class=\"dataframe\">\n",
       "  <thead>\n",
       "    <tr style=\"text-align: right;\">\n",
       "      <th></th>\n",
       "      <th>Column1</th>\n",
       "      <th>Column2</th>\n",
       "      <th>Correlation</th>\n",
       "    </tr>\n",
       "  </thead>\n",
       "  <tbody>\n",
       "    <tr>\n",
       "      <td>864</td>\n",
       "      <td>FLAG_EMP_PHONE</td>\n",
       "      <td>DAYS_EMPLOYED</td>\n",
       "      <td>1.00</td>\n",
       "    </tr>\n",
       "    <tr>\n",
       "      <td>1982</td>\n",
       "      <td>OBS_60_CNT_SOCIAL_CIRCLE</td>\n",
       "      <td>OBS_30_CNT_SOCIAL_CIRCLE</td>\n",
       "      <td>1.00</td>\n",
       "    </tr>\n",
       "    <tr>\n",
       "      <td>494</td>\n",
       "      <td>AMT_GOODS_PRICE</td>\n",
       "      <td>AMT_CREDIT</td>\n",
       "      <td>0.98</td>\n",
       "    </tr>\n",
       "    <tr>\n",
       "      <td>1301</td>\n",
       "      <td>REGION_RATING_CLIENT_W_CITY</td>\n",
       "      <td>REGION_RATING_CLIENT</td>\n",
       "      <td>0.96</td>\n",
       "    </tr>\n",
       "    <tr>\n",
       "      <td>1163</td>\n",
       "      <td>CNT_FAM_MEMBERS</td>\n",
       "      <td>CNT_CHILDREN</td>\n",
       "      <td>0.89</td>\n",
       "    </tr>\n",
       "    <tr>\n",
       "      <td>2044</td>\n",
       "      <td>DEF_60_CNT_SOCIAL_CIRCLE</td>\n",
       "      <td>DEF_30_CNT_SOCIAL_CIRCLE</td>\n",
       "      <td>0.87</td>\n",
       "    </tr>\n",
       "    <tr>\n",
       "      <td>1549</td>\n",
       "      <td>LIVE_REGION_NOT_WORK_REGION</td>\n",
       "      <td>REG_REGION_NOT_WORK_REGION</td>\n",
       "      <td>0.85</td>\n",
       "    </tr>\n",
       "    <tr>\n",
       "      <td>1735</td>\n",
       "      <td>LIVE_CITY_NOT_WORK_CITY</td>\n",
       "      <td>REG_CITY_NOT_WORK_CITY</td>\n",
       "      <td>0.78</td>\n",
       "    </tr>\n",
       "    <tr>\n",
       "      <td>433</td>\n",
       "      <td>AMT_ANNUITY</td>\n",
       "      <td>AMT_CREDIT</td>\n",
       "      <td>0.75</td>\n",
       "    </tr>\n",
       "    <tr>\n",
       "      <td>495</td>\n",
       "      <td>AMT_GOODS_PRICE</td>\n",
       "      <td>AMT_ANNUITY</td>\n",
       "      <td>0.75</td>\n",
       "    </tr>\n",
       "  </tbody>\n",
       "</table>\n",
       "</div>"
      ],
      "text/plain": [
       "                          Column1                     Column2  Correlation\n",
       "864                FLAG_EMP_PHONE               DAYS_EMPLOYED         1.00\n",
       "1982     OBS_60_CNT_SOCIAL_CIRCLE    OBS_30_CNT_SOCIAL_CIRCLE         1.00\n",
       "494               AMT_GOODS_PRICE                  AMT_CREDIT         0.98\n",
       "1301  REGION_RATING_CLIENT_W_CITY        REGION_RATING_CLIENT         0.96\n",
       "1163              CNT_FAM_MEMBERS                CNT_CHILDREN         0.89\n",
       "2044     DEF_60_CNT_SOCIAL_CIRCLE    DEF_30_CNT_SOCIAL_CIRCLE         0.87\n",
       "1549  LIVE_REGION_NOT_WORK_REGION  REG_REGION_NOT_WORK_REGION         0.85\n",
       "1735      LIVE_CITY_NOT_WORK_CITY      REG_CITY_NOT_WORK_CITY         0.78\n",
       "433                   AMT_ANNUITY                  AMT_CREDIT         0.75\n",
       "495               AMT_GOODS_PRICE                 AMT_ANNUITY         0.75"
      ]
     },
     "execution_count": 68,
     "metadata": {},
     "output_type": "execute_result"
    }
   ],
   "source": [
    "# Correlation for dataset with  difficulty in payment (Target = 1)\n",
    "def get_cols_corr(df):\n",
    "    c = df.corr()\n",
    "    c = c.where(np.triu(np.ones(c.shape),k=1).astype(np.bool))\n",
    "    c = c.unstack().reset_index()\n",
    "    c.columns=['Column1','Column2','Correlation']\n",
    "    c.dropna(subset = ['Correlation'],inplace=True)\n",
    "    c['Correlation']= round(c['Correlation'],2)\n",
    "    #since we see Correlation as an aboslute value , we are converting it into abosolute value\n",
    "    c['Correlation']=c['Correlation'].abs()\n",
    "    c.sort_values(by='Correlation',ascending = False,inplace=True)\n",
    "    return(c)\n",
    "corr_tgt_1 = get_cols_corr(app_data_w_difficulty)\n",
    "corr_tgt_1.head(10)"
   ]
  },
  {
   "cell_type": "code",
   "execution_count": 69,
   "metadata": {},
   "outputs": [
    {
     "data": {
      "text/html": [
       "<div>\n",
       "<style scoped>\n",
       "    .dataframe tbody tr th:only-of-type {\n",
       "        vertical-align: middle;\n",
       "    }\n",
       "\n",
       "    .dataframe tbody tr th {\n",
       "        vertical-align: top;\n",
       "    }\n",
       "\n",
       "    .dataframe thead th {\n",
       "        text-align: right;\n",
       "    }\n",
       "</style>\n",
       "<table border=\"1\" class=\"dataframe\">\n",
       "  <thead>\n",
       "    <tr style=\"text-align: right;\">\n",
       "      <th></th>\n",
       "      <th>Column1</th>\n",
       "      <th>Column2</th>\n",
       "      <th>Correlation</th>\n",
       "    </tr>\n",
       "  </thead>\n",
       "  <tbody>\n",
       "    <tr>\n",
       "      <td>864</td>\n",
       "      <td>FLAG_EMP_PHONE</td>\n",
       "      <td>DAYS_EMPLOYED</td>\n",
       "      <td>1.00</td>\n",
       "    </tr>\n",
       "    <tr>\n",
       "      <td>1982</td>\n",
       "      <td>OBS_60_CNT_SOCIAL_CIRCLE</td>\n",
       "      <td>OBS_30_CNT_SOCIAL_CIRCLE</td>\n",
       "      <td>1.00</td>\n",
       "    </tr>\n",
       "    <tr>\n",
       "      <td>494</td>\n",
       "      <td>AMT_GOODS_PRICE</td>\n",
       "      <td>AMT_CREDIT</td>\n",
       "      <td>0.99</td>\n",
       "    </tr>\n",
       "    <tr>\n",
       "      <td>1301</td>\n",
       "      <td>REGION_RATING_CLIENT_W_CITY</td>\n",
       "      <td>REGION_RATING_CLIENT</td>\n",
       "      <td>0.95</td>\n",
       "    </tr>\n",
       "    <tr>\n",
       "      <td>1163</td>\n",
       "      <td>CNT_FAM_MEMBERS</td>\n",
       "      <td>CNT_CHILDREN</td>\n",
       "      <td>0.88</td>\n",
       "    </tr>\n",
       "    <tr>\n",
       "      <td>1549</td>\n",
       "      <td>LIVE_REGION_NOT_WORK_REGION</td>\n",
       "      <td>REG_REGION_NOT_WORK_REGION</td>\n",
       "      <td>0.86</td>\n",
       "    </tr>\n",
       "    <tr>\n",
       "      <td>2044</td>\n",
       "      <td>DEF_60_CNT_SOCIAL_CIRCLE</td>\n",
       "      <td>DEF_30_CNT_SOCIAL_CIRCLE</td>\n",
       "      <td>0.86</td>\n",
       "    </tr>\n",
       "    <tr>\n",
       "      <td>1735</td>\n",
       "      <td>LIVE_CITY_NOT_WORK_CITY</td>\n",
       "      <td>REG_CITY_NOT_WORK_CITY</td>\n",
       "      <td>0.83</td>\n",
       "    </tr>\n",
       "    <tr>\n",
       "      <td>495</td>\n",
       "      <td>AMT_GOODS_PRICE</td>\n",
       "      <td>AMT_ANNUITY</td>\n",
       "      <td>0.78</td>\n",
       "    </tr>\n",
       "    <tr>\n",
       "      <td>433</td>\n",
       "      <td>AMT_ANNUITY</td>\n",
       "      <td>AMT_CREDIT</td>\n",
       "      <td>0.77</td>\n",
       "    </tr>\n",
       "  </tbody>\n",
       "</table>\n",
       "</div>"
      ],
      "text/plain": [
       "                          Column1                     Column2  Correlation\n",
       "864                FLAG_EMP_PHONE               DAYS_EMPLOYED         1.00\n",
       "1982     OBS_60_CNT_SOCIAL_CIRCLE    OBS_30_CNT_SOCIAL_CIRCLE         1.00\n",
       "494               AMT_GOODS_PRICE                  AMT_CREDIT         0.99\n",
       "1301  REGION_RATING_CLIENT_W_CITY        REGION_RATING_CLIENT         0.95\n",
       "1163              CNT_FAM_MEMBERS                CNT_CHILDREN         0.88\n",
       "1549  LIVE_REGION_NOT_WORK_REGION  REG_REGION_NOT_WORK_REGION         0.86\n",
       "2044     DEF_60_CNT_SOCIAL_CIRCLE    DEF_30_CNT_SOCIAL_CIRCLE         0.86\n",
       "1735      LIVE_CITY_NOT_WORK_CITY      REG_CITY_NOT_WORK_CITY         0.83\n",
       "495               AMT_GOODS_PRICE                 AMT_ANNUITY         0.78\n",
       "433                   AMT_ANNUITY                  AMT_CREDIT         0.77"
      ]
     },
     "execution_count": 69,
     "metadata": {},
     "output_type": "execute_result"
    }
   ],
   "source": [
    "# Correlation for dataset with no difficulty in payment (Target = 0)\n",
    "corr_tgt_0 = get_cols_corr(app_data_wo_difficulty)\n",
    "corr_tgt_0.head(10)"
   ]
  },
  {
   "cell_type": "markdown",
   "metadata": {},
   "source": [
    "### Step 4.e : Check for columns with high correlation from both data sets."
   ]
  },
  {
   "cell_type": "code",
   "execution_count": 70,
   "metadata": {},
   "outputs": [
    {
     "data": {
      "text/html": [
       "<div>\n",
       "<style scoped>\n",
       "    .dataframe tbody tr th:only-of-type {\n",
       "        vertical-align: middle;\n",
       "    }\n",
       "\n",
       "    .dataframe tbody tr th {\n",
       "        vertical-align: top;\n",
       "    }\n",
       "\n",
       "    .dataframe thead th {\n",
       "        text-align: right;\n",
       "    }\n",
       "</style>\n",
       "<table border=\"1\" class=\"dataframe\">\n",
       "  <thead>\n",
       "    <tr style=\"text-align: right;\">\n",
       "      <th></th>\n",
       "      <th>Column1</th>\n",
       "      <th>Column2</th>\n",
       "      <th>Correlation</th>\n",
       "    </tr>\n",
       "  </thead>\n",
       "  <tbody>\n",
       "    <tr>\n",
       "      <td>864</td>\n",
       "      <td>True</td>\n",
       "      <td>True</td>\n",
       "      <td>True</td>\n",
       "    </tr>\n",
       "    <tr>\n",
       "      <td>1982</td>\n",
       "      <td>True</td>\n",
       "      <td>True</td>\n",
       "      <td>True</td>\n",
       "    </tr>\n",
       "    <tr>\n",
       "      <td>494</td>\n",
       "      <td>True</td>\n",
       "      <td>True</td>\n",
       "      <td>False</td>\n",
       "    </tr>\n",
       "    <tr>\n",
       "      <td>1301</td>\n",
       "      <td>True</td>\n",
       "      <td>True</td>\n",
       "      <td>False</td>\n",
       "    </tr>\n",
       "    <tr>\n",
       "      <td>1163</td>\n",
       "      <td>True</td>\n",
       "      <td>True</td>\n",
       "      <td>False</td>\n",
       "    </tr>\n",
       "  </tbody>\n",
       "</table>\n",
       "</div>"
      ],
      "text/plain": [
       "      Column1  Column2  Correlation\n",
       "864      True     True         True\n",
       "1982     True     True         True\n",
       "494      True     True        False\n",
       "1301     True     True        False\n",
       "1163     True     True        False"
      ]
     },
     "execution_count": 70,
     "metadata": {},
     "output_type": "execute_result"
    }
   ],
   "source": [
    "# We can see that column names are matching for top 5 although correlation values do not match.\n",
    "corr_tgt_0[0:5]==corr_tgt_1[0:5]"
   ]
  },
  {
   "cell_type": "markdown",
   "metadata": {},
   "source": [
    "### Step 4.f : Univariate for numerical variables "
   ]
  },
  {
   "cell_type": "code",
   "execution_count": 71,
   "metadata": {},
   "outputs": [
    {
     "name": "stdout",
     "output_type": "stream",
     "text": [
      "<class 'pandas.core.frame.DataFrame'>\n",
      "RangeIndex: 307511 entries, 0 to 307510\n",
      "Data columns (total 75 columns):\n",
      "SK_ID_CURR                     307511 non-null int64\n",
      "TARGET                         307511 non-null int64\n",
      "NAME_CONTRACT_TYPE             307511 non-null object\n",
      "CODE_GENDER                    307511 non-null object\n",
      "FLAG_OWN_CAR                   307511 non-null int64\n",
      "FLAG_OWN_REALTY                307511 non-null int64\n",
      "CNT_CHILDREN                   307511 non-null int64\n",
      "AMT_INCOME_TOTAL               307511 non-null float64\n",
      "AMT_CREDIT                     307511 non-null float64\n",
      "AMT_ANNUITY                    307499 non-null float64\n",
      "AMT_GOODS_PRICE                307233 non-null float64\n",
      "NAME_TYPE_SUITE                306219 non-null object\n",
      "NAME_INCOME_TYPE               307511 non-null object\n",
      "NAME_EDUCATION_TYPE            307511 non-null object\n",
      "NAME_FAMILY_STATUS             307511 non-null object\n",
      "NAME_HOUSING_TYPE              307511 non-null object\n",
      "REGION_POPULATION_RELATIVE     307511 non-null category\n",
      "DAYS_BIRTH                     307511 non-null int64\n",
      "DAYS_EMPLOYED                  307511 non-null int64\n",
      "DAYS_REGISTRATION              307511 non-null int64\n",
      "DAYS_ID_PUBLISH                307511 non-null int64\n",
      "FLAG_MOBIL                     307511 non-null int64\n",
      "FLAG_EMP_PHONE                 307511 non-null int64\n",
      "FLAG_WORK_PHONE                307511 non-null int64\n",
      "FLAG_CONT_MOBILE               307511 non-null int64\n",
      "FLAG_PHONE                     307511 non-null int64\n",
      "FLAG_EMAIL                     307511 non-null int64\n",
      "OCCUPATION_TYPE                307511 non-null object\n",
      "CNT_FAM_MEMBERS                307511 non-null int64\n",
      "REGION_RATING_CLIENT           307511 non-null int64\n",
      "REGION_RATING_CLIENT_W_CITY    307511 non-null int64\n",
      "WEEKDAY_APPR_PROCESS_START     307511 non-null object\n",
      "HOUR_APPR_PROCESS_START        307511 non-null int64\n",
      "REG_REGION_NOT_LIVE_REGION     307511 non-null int64\n",
      "REG_REGION_NOT_WORK_REGION     307511 non-null int64\n",
      "LIVE_REGION_NOT_WORK_REGION    307511 non-null int64\n",
      "REG_CITY_NOT_LIVE_CITY         307511 non-null int64\n",
      "REG_CITY_NOT_WORK_CITY         307511 non-null int64\n",
      "LIVE_CITY_NOT_WORK_CITY        307511 non-null int64\n",
      "ORGANIZATION_TYPE              307511 non-null object\n",
      "EXT_SOURCE_2                   306851 non-null float64\n",
      "EXT_SOURCE_3                   246546 non-null category\n",
      "OBS_30_CNT_SOCIAL_CIRCLE       307511 non-null int64\n",
      "DEF_30_CNT_SOCIAL_CIRCLE       307511 non-null int64\n",
      "OBS_60_CNT_SOCIAL_CIRCLE       307511 non-null int64\n",
      "DEF_60_CNT_SOCIAL_CIRCLE       307511 non-null int64\n",
      "DAYS_LAST_PHONE_CHANGE         307511 non-null int64\n",
      "FLAG_DOCUMENT_2                307511 non-null int64\n",
      "FLAG_DOCUMENT_3                307511 non-null int64\n",
      "FLAG_DOCUMENT_4                307511 non-null int64\n",
      "FLAG_DOCUMENT_5                307511 non-null int64\n",
      "FLAG_DOCUMENT_6                307511 non-null int64\n",
      "FLAG_DOCUMENT_7                307511 non-null int64\n",
      "FLAG_DOCUMENT_8                307511 non-null int64\n",
      "FLAG_DOCUMENT_9                307511 non-null int64\n",
      "FLAG_DOCUMENT_10               307511 non-null int64\n",
      "FLAG_DOCUMENT_11               307511 non-null int64\n",
      "FLAG_DOCUMENT_12               307511 non-null int64\n",
      "FLAG_DOCUMENT_13               307511 non-null int64\n",
      "FLAG_DOCUMENT_14               307511 non-null int64\n",
      "FLAG_DOCUMENT_15               307511 non-null int64\n",
      "FLAG_DOCUMENT_16               307511 non-null int64\n",
      "FLAG_DOCUMENT_17               307511 non-null int64\n",
      "FLAG_DOCUMENT_18               307511 non-null int64\n",
      "FLAG_DOCUMENT_19               307511 non-null int64\n",
      "FLAG_DOCUMENT_20               307511 non-null int64\n",
      "FLAG_DOCUMENT_21               307511 non-null int64\n",
      "AMT_REQ_CREDIT_BUREAU_HOUR     307511 non-null int64\n",
      "AMT_REQ_CREDIT_BUREAU_DAY      307511 non-null int64\n",
      "AMT_REQ_CREDIT_BUREAU_WEEK     307511 non-null int64\n",
      "AMT_REQ_CREDIT_BUREAU_MON      307511 non-null int64\n",
      "AMT_REQ_CREDIT_BUREAU_QRT      307511 non-null int64\n",
      "AMT_REQ_CREDIT_BUREAU_YEAR     307511 non-null int64\n",
      "AMT_INCOME_TOTAL_RNG           307511 non-null category\n",
      "AMT_CREDIT_RANGE               307511 non-null category\n",
      "dtypes: category(4), float64(5), int64(56), object(10)\n",
      "memory usage: 167.7+ MB\n"
     ]
    }
   ],
   "source": [
    "#checking the data set information\n",
    "app_data.info()"
   ]
  },
  {
   "cell_type": "code",
   "execution_count": 72,
   "metadata": {},
   "outputs": [
    {
     "data": {
      "image/png": "[encoded data removed]",
      "text/plain": [
       "<Figure size 432x288 with 1 Axes>"
      ]
     },
     "metadata": {
      "needs_background": "light"
     },
     "output_type": "display_data"
    }
   ],
   "source": [
    "# univariate analaysis on DAYS_BIRTH (or age of customer)\n",
    "def univariate_plot(df1,df2,col,lbl1,lbl2):\n",
    "    plt.yscale('log')\n",
    "    sns.distplot(df1[col],hist=False,label=lbl1)\n",
    "    sns.distplot(df2[col],hist=False,label=lbl2)\n",
    "    plt.legend()\n",
    "    plt.show()\n",
    "univariate_plot(app_data_w_difficulty,app_data_wo_difficulty,'DAYS_BIRTH','Payment issues','No Payment Issues')"
   ]
  },
  {
   "cell_type": "markdown",
   "metadata": {},
   "source": [
    "* From plot, we can see that young to middle aged people (<15000 days = 41 years), customers usually tend to have more difficulties than people in above middle aged people.\n",
    "* While the trend again reverses for pensioners (~69 years)"
   ]
  },
  {
   "cell_type": "code",
   "execution_count": 73,
   "metadata": {},
   "outputs": [
    {
     "data": {
      "image/png": "[encoded data removed]",
      "text/plain": [
       "<Figure size 432x288 with 1 Axes>"
      ]
     },
     "metadata": {
      "needs_background": "light"
     },
     "output_type": "display_data"
    }
   ],
   "source": [
    "# univariate analaysis on DEF_30_CNT_SOCIAL_CIRCLE\n",
    "univariate_plot(app_data_w_difficulty,app_data_wo_difficulty,'DEF_30_CNT_SOCIAL_CIRCLE','Payment issues','No Payment Issues')"
   ]
  },
  {
   "cell_type": "markdown",
   "metadata": {},
   "source": [
    "* It is not possible to draw any conclusion from this plot."
   ]
  },
  {
   "cell_type": "code",
   "execution_count": 74,
   "metadata": {},
   "outputs": [
    {
     "data": {
      "image/png": "[encoded data removed]",
      "text/plain": [
       "<Figure size 432x288 with 1 Axes>"
      ]
     },
     "metadata": {
      "needs_background": "light"
     },
     "output_type": "display_data"
    }
   ],
   "source": [
    "# univariate analaysis on DAYS_EMPLOYED\n",
    "univariate_plot(app_data_w_difficulty,app_data_wo_difficulty,'DAYS_EMPLOYED','Payment issues','No Payment Issues')"
   ]
  },
  {
   "cell_type": "markdown",
   "metadata": {},
   "source": [
    "* The plot suggests for people whose duration of employment is low, there are more issues with payment difficulties."
   ]
  },
  {
   "cell_type": "markdown",
   "metadata": {},
   "source": [
    "### Step 4.g : Bivariate analaysis for numerical variables"
   ]
  },
  {
   "cell_type": "markdown",
   "metadata": {},
   "source": [
    "##### Education type, Credit amount vs Target"
   ]
  },
  {
   "cell_type": "code",
   "execution_count": 75,
   "metadata": {},
   "outputs": [
    {
     "data": {
      "text/plain": [
       "<matplotlib.axes._subplots.AxesSubplot at 0x19294dd5ac8>"
      ]
     },
     "execution_count": 75,
     "metadata": {},
     "output_type": "execute_result"
    },
    {
     "data": {
      "image/png": "[encoded data removed]",
      "text/plain": [
       "<Figure size 1080x360 with 1 Axes>"
      ]
     },
     "metadata": {
      "needs_background": "light"
     },
     "output_type": "display_data"
    }
   ],
   "source": [
    "# Box plotting for Credit amount\n",
    "plt.figure(figsize=(15,5))\n",
    "sns.boxplot(data=app_data,x='NAME_EDUCATION_TYPE',y='AMT_CREDIT',hue='TARGET')"
   ]
  },
  {
   "cell_type": "markdown",
   "metadata": {},
   "source": [
    "* From above plot we can see that on average, people with Academic degree have taken high credit and as credit amount increases, the risk of defaulting (TARGET=1) is also higher."
   ]
  },
  {
   "cell_type": "markdown",
   "metadata": {},
   "source": [
    "##### Credit, Income vs Target"
   ]
  },
  {
   "cell_type": "code",
   "execution_count": 76,
   "metadata": {},
   "outputs": [
    {
     "data": {
      "image/png": "[encoded data removed]",
      "text/plain": [
       "<Figure size 1080x360 with 1 Axes>"
      ]
     },
     "metadata": {
      "needs_background": "light"
     },
     "output_type": "display_data"
    }
   ],
   "source": [
    "# Box plotting for Income total amount\n",
    "plt.figure(figsize=(15,5))\n",
    "sns.boxplot(data=app_data,x='AMT_CREDIT_RANGE',y='AMT_INCOME_TOTAL',hue='TARGET')\n",
    "plt.yscale('log')"
   ]
  },
  {
   "cell_type": "markdown",
   "metadata": {},
   "source": [
    "* For people with low income range (0 to 1.5Lakh), on average there are high payment difficulties.\n",
    "* For people with high income range (10.5Lakh and above), on average there are less payment difficulties."
   ]
  },
  {
   "cell_type": "markdown",
   "metadata": {},
   "source": [
    "## Step 5: Previous Application Data"
   ]
  },
  {
   "cell_type": "code",
   "execution_count": 77,
   "metadata": {},
   "outputs": [],
   "source": [
    "# Reading the dataset of previous application\n",
    "prev_app_data=pd.read_csv(\"previous_application.csv\")"
   ]
  },
  {
   "cell_type": "code",
   "execution_count": 78,
   "metadata": {},
   "outputs": [
    {
     "name": "stdout",
     "output_type": "stream",
     "text": [
      "<class 'pandas.core.frame.DataFrame'>\n",
      "RangeIndex: 1670214 entries, 0 to 1670213\n",
      "Data columns (total 37 columns):\n",
      "SK_ID_PREV                     1670214 non-null int64\n",
      "SK_ID_CURR                     1670214 non-null int64\n",
      "NAME_CONTRACT_TYPE             1670214 non-null object\n",
      "AMT_ANNUITY                    1297979 non-null float64\n",
      "AMT_APPLICATION                1670214 non-null float64\n",
      "AMT_CREDIT                     1670213 non-null float64\n",
      "AMT_DOWN_PAYMENT               774370 non-null float64\n",
      "AMT_GOODS_PRICE                1284699 non-null float64\n",
      "WEEKDAY_APPR_PROCESS_START     1670214 non-null object\n",
      "HOUR_APPR_PROCESS_START        1670214 non-null int64\n",
      "FLAG_LAST_APPL_PER_CONTRACT    1670214 non-null object\n",
      "NFLAG_LAST_APPL_IN_DAY         1670214 non-null int64\n",
      "RATE_DOWN_PAYMENT              774370 non-null float64\n",
      "RATE_INTEREST_PRIMARY          5951 non-null float64\n",
      "RATE_INTEREST_PRIVILEGED       5951 non-null float64\n",
      "NAME_CASH_LOAN_PURPOSE         1670214 non-null object\n",
      "NAME_CONTRACT_STATUS           1670214 non-null object\n",
      "DAYS_DECISION                  1670214 non-null int64\n",
      "NAME_PAYMENT_TYPE              1670214 non-null object\n",
      "CODE_REJECT_REASON             1670214 non-null object\n",
      "NAME_TYPE_SUITE                849809 non-null object\n",
      "NAME_CLIENT_TYPE               1670214 non-null object\n",
      "NAME_GOODS_CATEGORY            1670214 non-null object\n",
      "NAME_PORTFOLIO                 1670214 non-null object\n",
      "NAME_PRODUCT_TYPE              1670214 non-null object\n",
      "CHANNEL_TYPE                   1670214 non-null object\n",
      "SELLERPLACE_AREA               1670214 non-null int64\n",
      "NAME_SELLER_INDUSTRY           1670214 non-null object\n",
      "CNT_PAYMENT                    1297984 non-null float64\n",
      "NAME_YIELD_GROUP               1670214 non-null object\n",
      "PRODUCT_COMBINATION            1669868 non-null object\n",
      "DAYS_FIRST_DRAWING             997149 non-null float64\n",
      "DAYS_FIRST_DUE                 997149 non-null float64\n",
      "DAYS_LAST_DUE_1ST_VERSION      997149 non-null float64\n",
      "DAYS_LAST_DUE                  997149 non-null float64\n",
      "DAYS_TERMINATION               997149 non-null float64\n",
      "NFLAG_INSURED_ON_APPROVAL      997149 non-null float64\n",
      "dtypes: float64(15), int64(6), object(16)\n",
      "memory usage: 471.5+ MB\n"
     ]
    }
   ],
   "source": [
    "#checking the data frame info\n",
    "prev_app_data.info()"
   ]
  },
  {
   "cell_type": "code",
   "execution_count": 79,
   "metadata": {},
   "outputs": [
    {
     "name": "stdout",
     "output_type": "stream",
     "text": [
      "                           Null_Percentage\n",
      "RATE_INTEREST_PRIVILEGED         99.643698\n",
      "RATE_INTEREST_PRIMARY            99.643698\n",
      "AMT_DOWN_PAYMENT                 53.636480\n",
      "RATE_DOWN_PAYMENT                53.636480\n",
      "NAME_TYPE_SUITE                  49.119754\n",
      "NFLAG_INSURED_ON_APPROVAL        40.298129\n",
      "DAYS_TERMINATION                 40.298129\n",
      "DAYS_LAST_DUE                    40.298129\n",
      "DAYS_LAST_DUE_1ST_VERSION        40.298129\n",
      "DAYS_FIRST_DUE                   40.298129\n",
      "DAYS_FIRST_DRAWING               40.298129\n"
     ]
    }
   ],
   "source": [
    "# Get null counts in each column and sort them by columns having highest percentage of null values.\n",
    "null_percentage=(prev_app_data.isnull().sum()*100/prev_app_data.shape[0]).to_frame('Null_Percentage')\n",
    "null_percentage.sort_values(by='Null_Percentage',ascending=False,inplace=True)\n",
    "# Print only columns where there are some nulls.\n",
    "# Also adjust the maximum rows displayed temporarily and reset after all columns are displayed.\n",
    "def_rows = pd.options.display.max_rows\n",
    "pd.options.display.max_rows = 100\n",
    "# Let us get list of columns where Null value percentages are above 40%.\n",
    "cols_to_remove = null_percentage[null_percentage.Null_Percentage>40].index\n",
    "print(null_percentage[null_percentage.Null_Percentage>40])\n",
    "pd.options.display.max_rows = def_rows"
   ]
  },
  {
   "cell_type": "code",
   "execution_count": 80,
   "metadata": {},
   "outputs": [
    {
     "name": "stdout",
     "output_type": "stream",
     "text": [
      "<class 'pandas.core.frame.DataFrame'>\n",
      "RangeIndex: 1670214 entries, 0 to 1670213\n",
      "Data columns (total 26 columns):\n",
      "SK_ID_PREV                     1670214 non-null int64\n",
      "SK_ID_CURR                     1670214 non-null int64\n",
      "NAME_CONTRACT_TYPE             1670214 non-null object\n",
      "AMT_ANNUITY                    1297979 non-null float64\n",
      "AMT_APPLICATION                1670214 non-null float64\n",
      "AMT_CREDIT                     1670213 non-null float64\n",
      "AMT_GOODS_PRICE                1284699 non-null float64\n",
      "WEEKDAY_APPR_PROCESS_START     1670214 non-null object\n",
      "HOUR_APPR_PROCESS_START        1670214 non-null int64\n",
      "FLAG_LAST_APPL_PER_CONTRACT    1670214 non-null object\n",
      "NFLAG_LAST_APPL_IN_DAY         1670214 non-null int64\n",
      "NAME_CASH_LOAN_PURPOSE         1670214 non-null object\n",
      "NAME_CONTRACT_STATUS           1670214 non-null object\n",
      "DAYS_DECISION                  1670214 non-null int64\n",
      "NAME_PAYMENT_TYPE              1670214 non-null object\n",
      "CODE_REJECT_REASON             1670214 non-null object\n",
      "NAME_CLIENT_TYPE               1670214 non-null object\n",
      "NAME_GOODS_CATEGORY            1670214 non-null object\n",
      "NAME_PORTFOLIO                 1670214 non-null object\n",
      "NAME_PRODUCT_TYPE              1670214 non-null object\n",
      "CHANNEL_TYPE                   1670214 non-null object\n",
      "SELLERPLACE_AREA               1670214 non-null int64\n",
      "NAME_SELLER_INDUSTRY           1670214 non-null object\n",
      "CNT_PAYMENT                    1297984 non-null float64\n",
      "NAME_YIELD_GROUP               1670214 non-null object\n",
      "PRODUCT_COMBINATION            1669868 non-null object\n",
      "dtypes: float64(5), int64(6), object(15)\n",
      "memory usage: 331.3+ MB\n"
     ]
    }
   ],
   "source": [
    "# Chosing threshold as 40% to remove\n",
    "prev_app_data.drop(cols_to_remove,axis=1,inplace=True)\n",
    "# Recheck data infomration.\n",
    "prev_app_data.info()"
   ]
  },
  {
   "cell_type": "markdown",
   "metadata": {},
   "source": [
    "### Step 5.a : Merging application and previous"
   ]
  },
  {
   "cell_type": "code",
   "execution_count": 81,
   "metadata": {},
   "outputs": [],
   "source": [
    "# Now merging the Application dataset with previous appliaction dataset\n",
    "merge_data=pd.merge(left=app_data,right=prev_app_data,how='inner',on='SK_ID_CURR',suffixes='_x')"
   ]
  },
  {
   "cell_type": "code",
   "execution_count": 82,
   "metadata": {},
   "outputs": [
    {
     "name": "stdout",
     "output_type": "stream",
     "text": [
      "<class 'pandas.core.frame.DataFrame'>\n",
      "Int64Index: 1413701 entries, 0 to 1413700\n",
      "Data columns (total 100 columns):\n",
      "SK_ID_CURR                     1413701 non-null int64\n",
      "TARGET                         1413701 non-null int64\n",
      "NAME_CONTRACT_TYPE_            1413701 non-null object\n",
      "CODE_GENDER                    1413701 non-null object\n",
      "FLAG_OWN_CAR                   1413701 non-null int64\n",
      "FLAG_OWN_REALTY                1413701 non-null int64\n",
      "CNT_CHILDREN                   1413701 non-null int64\n",
      "AMT_INCOME_TOTAL               1413701 non-null float64\n",
      "AMT_CREDIT_                    1413701 non-null float64\n",
      "AMT_ANNUITY_                   1413608 non-null float64\n",
      "AMT_GOODS_PRICE_               1412493 non-null float64\n",
      "NAME_TYPE_SUITE                1410175 non-null object\n",
      "NAME_INCOME_TYPE               1413701 non-null object\n",
      "NAME_EDUCATION_TYPE            1413701 non-null object\n",
      "NAME_FAMILY_STATUS             1413701 non-null object\n",
      "NAME_HOUSING_TYPE              1413701 non-null object\n",
      "REGION_POPULATION_RELATIVE     1413701 non-null category\n",
      "DAYS_BIRTH                     1413701 non-null int64\n",
      "DAYS_EMPLOYED                  1413701 non-null int64\n",
      "DAYS_REGISTRATION              1413701 non-null int64\n",
      "DAYS_ID_PUBLISH                1413701 non-null int64\n",
      "FLAG_MOBIL                     1413701 non-null int64\n",
      "FLAG_EMP_PHONE                 1413701 non-null int64\n",
      "FLAG_WORK_PHONE                1413701 non-null int64\n",
      "FLAG_CONT_MOBILE               1413701 non-null int64\n",
      "FLAG_PHONE                     1413701 non-null int64\n",
      "FLAG_EMAIL                     1413701 non-null int64\n",
      "OCCUPATION_TYPE                1413701 non-null object\n",
      "CNT_FAM_MEMBERS                1413701 non-null int64\n",
      "REGION_RATING_CLIENT           1413701 non-null int64\n",
      "REGION_RATING_CLIENT_W_CITY    1413701 non-null int64\n",
      "WEEKDAY_APPR_PROCESS_START_    1413701 non-null object\n",
      "HOUR_APPR_PROCESS_START_       1413701 non-null int64\n",
      "REG_REGION_NOT_LIVE_REGION     1413701 non-null int64\n",
      "REG_REGION_NOT_WORK_REGION     1413701 non-null int64\n",
      "LIVE_REGION_NOT_WORK_REGION    1413701 non-null int64\n",
      "REG_CITY_NOT_LIVE_CITY         1413701 non-null int64\n",
      "REG_CITY_NOT_WORK_CITY         1413701 non-null int64\n",
      "LIVE_CITY_NOT_WORK_CITY        1413701 non-null int64\n",
      "ORGANIZATION_TYPE              1413701 non-null object\n",
      "EXT_SOURCE_2                   1411880 non-null float64\n",
      "EXT_SOURCE_3                   1171859 non-null category\n",
      "OBS_30_CNT_SOCIAL_CIRCLE       1413701 non-null int64\n",
      "DEF_30_CNT_SOCIAL_CIRCLE       1413701 non-null int64\n",
      "OBS_60_CNT_SOCIAL_CIRCLE       1413701 non-null int64\n",
      "DEF_60_CNT_SOCIAL_CIRCLE       1413701 non-null int64\n",
      "DAYS_LAST_PHONE_CHANGE         1413701 non-null int64\n",
      "FLAG_DOCUMENT_2                1413701 non-null int64\n",
      "FLAG_DOCUMENT_3                1413701 non-null int64\n",
      "FLAG_DOCUMENT_4                1413701 non-null int64\n",
      "FLAG_DOCUMENT_5                1413701 non-null int64\n",
      "FLAG_DOCUMENT_6                1413701 non-null int64\n",
      "FLAG_DOCUMENT_7                1413701 non-null int64\n",
      "FLAG_DOCUMENT_8                1413701 non-null int64\n",
      "FLAG_DOCUMENT_9                1413701 non-null int64\n",
      "FLAG_DOCUMENT_10               1413701 non-null int64\n",
      "FLAG_DOCUMENT_11               1413701 non-null int64\n",
      "FLAG_DOCUMENT_12               1413701 non-null int64\n",
      "FLAG_DOCUMENT_13               1413701 non-null int64\n",
      "FLAG_DOCUMENT_14               1413701 non-null int64\n",
      "FLAG_DOCUMENT_15               1413701 non-null int64\n",
      "FLAG_DOCUMENT_16               1413701 non-null int64\n",
      "FLAG_DOCUMENT_17               1413701 non-null int64\n",
      "FLAG_DOCUMENT_18               1413701 non-null int64\n",
      "FLAG_DOCUMENT_19               1413701 non-null int64\n",
      "FLAG_DOCUMENT_20               1413701 non-null int64\n",
      "FLAG_DOCUMENT_21               1413701 non-null int64\n",
      "AMT_REQ_CREDIT_BUREAU_HOUR     1413701 non-null int64\n",
      "AMT_REQ_CREDIT_BUREAU_DAY      1413701 non-null int64\n",
      "AMT_REQ_CREDIT_BUREAU_WEEK     1413701 non-null int64\n",
      "AMT_REQ_CREDIT_BUREAU_MON      1413701 non-null int64\n",
      "AMT_REQ_CREDIT_BUREAU_QRT      1413701 non-null int64\n",
      "AMT_REQ_CREDIT_BUREAU_YEAR     1413701 non-null int64\n",
      "AMT_INCOME_TOTAL_RNG           1413701 non-null category\n",
      "AMT_CREDIT_RANGE               1413701 non-null category\n",
      "SK_ID_PREV                     1413701 non-null int64\n",
      "NAME_CONTRACT_TYPEx            1413701 non-null object\n",
      "AMT_ANNUITYx                   1106483 non-null float64\n",
      "AMT_APPLICATION                1413701 non-null float64\n",
      "AMT_CREDITx                    1413700 non-null float64\n",
      "AMT_GOODS_PRICEx               1094176 non-null float64\n",
      "WEEKDAY_APPR_PROCESS_STARTx    1413701 non-null object\n",
      "HOUR_APPR_PROCESS_STARTx       1413701 non-null int64\n",
      "FLAG_LAST_APPL_PER_CONTRACT    1413701 non-null object\n",
      "NFLAG_LAST_APPL_IN_DAY         1413701 non-null int64\n",
      "NAME_CASH_LOAN_PURPOSE         1413701 non-null object\n",
      "NAME_CONTRACT_STATUS           1413701 non-null object\n",
      "DAYS_DECISION                  1413701 non-null int64\n",
      "NAME_PAYMENT_TYPE              1413701 non-null object\n",
      "CODE_REJECT_REASON             1413701 non-null object\n",
      "NAME_CLIENT_TYPE               1413701 non-null object\n",
      "NAME_GOODS_CATEGORY            1413701 non-null object\n",
      "NAME_PORTFOLIO                 1413701 non-null object\n",
      "NAME_PRODUCT_TYPE              1413701 non-null object\n",
      "CHANNEL_TYPE                   1413701 non-null object\n",
      "SELLERPLACE_AREA               1413701 non-null int64\n",
      "NAME_SELLER_INDUSTRY           1413701 non-null object\n",
      "CNT_PAYMENT                    1106488 non-null float64\n",
      "NAME_YIELD_GROUP               1413701 non-null object\n",
      "PRODUCT_COMBINATION            1413388 non-null object\n",
      "dtypes: category(4), float64(10), int64(61), object(25)\n",
      "memory usage: 1.0+ GB\n"
     ]
    }
   ],
   "source": [
    "#checking the merge data frame info\n",
    "merge_data.info()"
   ]
  },
  {
   "cell_type": "code",
   "execution_count": 83,
   "metadata": {},
   "outputs": [],
   "source": [
    "# Renaming the column names after merging\n",
    "# In original data, some columns will be repeated which are named with \"_\" at end.\n",
    "merge_data = merge_data.rename({'NAME_CONTRACT_TYPE_' : 'NAME_CONTRACT_TYPE','AMT_CREDIT_':'AMT_CREDIT','AMT_GOODS_PRICE_':'AMT_GOODS_PRICE','WEEKDAY_APPR_PROCESS_START_':'WEEKDAY_APPR_PROCESS_START'}, axis=1)"
   ]
  },
  {
   "cell_type": "code",
   "execution_count": 84,
   "metadata": {},
   "outputs": [
    {
     "name": "stdout",
     "output_type": "stream",
     "text": [
      "<class 'pandas.core.frame.DataFrame'>\n",
      "Int64Index: 1413701 entries, 0 to 1413700\n",
      "Data columns (total 100 columns):\n",
      "SK_ID_CURR                     1413701 non-null int64\n",
      "TARGET                         1413701 non-null int64\n",
      "NAME_CONTRACT_TYPE             1413701 non-null object\n",
      "CODE_GENDER                    1413701 non-null object\n",
      "FLAG_OWN_CAR                   1413701 non-null int64\n",
      "FLAG_OWN_REALTY                1413701 non-null int64\n",
      "CNT_CHILDREN                   1413701 non-null int64\n",
      "AMT_INCOME_TOTAL               1413701 non-null float64\n",
      "AMT_CREDIT                     1413701 non-null float64\n",
      "AMT_ANNUITY_                   1413608 non-null float64\n",
      "AMT_GOODS_PRICE                1412493 non-null float64\n",
      "NAME_TYPE_SUITE                1410175 non-null object\n",
      "NAME_INCOME_TYPE               1413701 non-null object\n",
      "NAME_EDUCATION_TYPE            1413701 non-null object\n",
      "NAME_FAMILY_STATUS             1413701 non-null object\n",
      "NAME_HOUSING_TYPE              1413701 non-null object\n",
      "REGION_POPULATION_RELATIVE     1413701 non-null category\n",
      "DAYS_BIRTH                     1413701 non-null int64\n",
      "DAYS_EMPLOYED                  1413701 non-null int64\n",
      "DAYS_REGISTRATION              1413701 non-null int64\n",
      "DAYS_ID_PUBLISH                1413701 non-null int64\n",
      "FLAG_MOBIL                     1413701 non-null int64\n",
      "FLAG_EMP_PHONE                 1413701 non-null int64\n",
      "FLAG_WORK_PHONE                1413701 non-null int64\n",
      "FLAG_CONT_MOBILE               1413701 non-null int64\n",
      "FLAG_PHONE                     1413701 non-null int64\n",
      "FLAG_EMAIL                     1413701 non-null int64\n",
      "OCCUPATION_TYPE                1413701 non-null object\n",
      "CNT_FAM_MEMBERS                1413701 non-null int64\n",
      "REGION_RATING_CLIENT           1413701 non-null int64\n",
      "REGION_RATING_CLIENT_W_CITY    1413701 non-null int64\n",
      "WEEKDAY_APPR_PROCESS_START     1413701 non-null object\n",
      "HOUR_APPR_PROCESS_START_       1413701 non-null int64\n",
      "REG_REGION_NOT_LIVE_REGION     1413701 non-null int64\n",
      "REG_REGION_NOT_WORK_REGION     1413701 non-null int64\n",
      "LIVE_REGION_NOT_WORK_REGION    1413701 non-null int64\n",
      "REG_CITY_NOT_LIVE_CITY         1413701 non-null int64\n",
      "REG_CITY_NOT_WORK_CITY         1413701 non-null int64\n",
      "LIVE_CITY_NOT_WORK_CITY        1413701 non-null int64\n",
      "ORGANIZATION_TYPE              1413701 non-null object\n",
      "EXT_SOURCE_2                   1411880 non-null float64\n",
      "EXT_SOURCE_3                   1171859 non-null category\n",
      "OBS_30_CNT_SOCIAL_CIRCLE       1413701 non-null int64\n",
      "DEF_30_CNT_SOCIAL_CIRCLE       1413701 non-null int64\n",
      "OBS_60_CNT_SOCIAL_CIRCLE       1413701 non-null int64\n",
      "DEF_60_CNT_SOCIAL_CIRCLE       1413701 non-null int64\n",
      "DAYS_LAST_PHONE_CHANGE         1413701 non-null int64\n",
      "FLAG_DOCUMENT_2                1413701 non-null int64\n",
      "FLAG_DOCUMENT_3                1413701 non-null int64\n",
      "FLAG_DOCUMENT_4                1413701 non-null int64\n",
      "FLAG_DOCUMENT_5                1413701 non-null int64\n",
      "FLAG_DOCUMENT_6                1413701 non-null int64\n",
      "FLAG_DOCUMENT_7                1413701 non-null int64\n",
      "FLAG_DOCUMENT_8                1413701 non-null int64\n",
      "FLAG_DOCUMENT_9                1413701 non-null int64\n",
      "FLAG_DOCUMENT_10               1413701 non-null int64\n",
      "FLAG_DOCUMENT_11               1413701 non-null int64\n",
      "FLAG_DOCUMENT_12               1413701 non-null int64\n",
      "FLAG_DOCUMENT_13               1413701 non-null int64\n",
      "FLAG_DOCUMENT_14               1413701 non-null int64\n",
      "FLAG_DOCUMENT_15               1413701 non-null int64\n",
      "FLAG_DOCUMENT_16               1413701 non-null int64\n",
      "FLAG_DOCUMENT_17               1413701 non-null int64\n",
      "FLAG_DOCUMENT_18               1413701 non-null int64\n",
      "FLAG_DOCUMENT_19               1413701 non-null int64\n",
      "FLAG_DOCUMENT_20               1413701 non-null int64\n",
      "FLAG_DOCUMENT_21               1413701 non-null int64\n",
      "AMT_REQ_CREDIT_BUREAU_HOUR     1413701 non-null int64\n",
      "AMT_REQ_CREDIT_BUREAU_DAY      1413701 non-null int64\n",
      "AMT_REQ_CREDIT_BUREAU_WEEK     1413701 non-null int64\n",
      "AMT_REQ_CREDIT_BUREAU_MON      1413701 non-null int64\n",
      "AMT_REQ_CREDIT_BUREAU_QRT      1413701 non-null int64\n",
      "AMT_REQ_CREDIT_BUREAU_YEAR     1413701 non-null int64\n",
      "AMT_INCOME_TOTAL_RNG           1413701 non-null category\n",
      "AMT_CREDIT_RANGE               1413701 non-null category\n",
      "SK_ID_PREV                     1413701 non-null int64\n",
      "NAME_CONTRACT_TYPEx            1413701 non-null object\n",
      "AMT_ANNUITYx                   1106483 non-null float64\n",
      "AMT_APPLICATION                1413701 non-null float64\n",
      "AMT_CREDITx                    1413700 non-null float64\n",
      "AMT_GOODS_PRICEx               1094176 non-null float64\n",
      "WEEKDAY_APPR_PROCESS_STARTx    1413701 non-null object\n",
      "HOUR_APPR_PROCESS_STARTx       1413701 non-null int64\n",
      "FLAG_LAST_APPL_PER_CONTRACT    1413701 non-null object\n",
      "NFLAG_LAST_APPL_IN_DAY         1413701 non-null int64\n",
      "NAME_CASH_LOAN_PURPOSE         1413701 non-null object\n",
      "NAME_CONTRACT_STATUS           1413701 non-null object\n",
      "DAYS_DECISION                  1413701 non-null int64\n",
      "NAME_PAYMENT_TYPE              1413701 non-null object\n",
      "CODE_REJECT_REASON             1413701 non-null object\n",
      "NAME_CLIENT_TYPE               1413701 non-null object\n",
      "NAME_GOODS_CATEGORY            1413701 non-null object\n",
      "NAME_PORTFOLIO                 1413701 non-null object\n",
      "NAME_PRODUCT_TYPE              1413701 non-null object\n",
      "CHANNEL_TYPE                   1413701 non-null object\n",
      "SELLERPLACE_AREA               1413701 non-null int64\n",
      "NAME_SELLER_INDUSTRY           1413701 non-null object\n",
      "CNT_PAYMENT                    1106488 non-null float64\n",
      "NAME_YIELD_GROUP               1413701 non-null object\n",
      "PRODUCT_COMBINATION            1413388 non-null object\n",
      "dtypes: category(4), float64(10), int64(61), object(25)\n",
      "memory usage: 1.0+ GB\n"
     ]
    }
   ],
   "source": [
    "#checking the merge data info again after applying changes\n",
    "merge_data.info()"
   ]
  },
  {
   "cell_type": "markdown",
   "metadata": {},
   "source": [
    "#### 6.b Univariate Analysis"
   ]
  },
  {
   "cell_type": "code",
   "execution_count": 85,
   "metadata": {},
   "outputs": [
    {
     "data": {
      "image/png": "[encoded data removed]",
      "text/plain": [
       "<Figure size 1440x1800 with 6 Axes>"
      ]
     },
     "metadata": {
      "needs_background": "light"
     },
     "output_type": "display_data"
    }
   ],
   "source": [
    "#univariate analysis on categorical columns\n",
    "cat_features = ['NAME_CONTRACT_TYPE','CODE_GENDER','NAME_INCOME_TYPE','NAME_EDUCATION_TYPE',\n",
    "'NAME_FAMILY_STATUS','NAME_HOUSING_TYPE']\n",
    "plt.figure(figsize=(20,25))\n",
    "for num,feature in enumerate(cat_features):\n",
    "    plt.subplot(len(cat_features)/2,2,num+1)\n",
    "    sns.countplot(x=feature,hue='TARGET',data=merge_data)\n",
    "    plt.xticks(rotation=20)\n",
    "plt.show()"
   ]
  },
  {
   "cell_type": "markdown",
   "metadata": {},
   "source": [
    "* As we can see the conclusions we made on app_data still holds good with merged data set also.\n",
    "\n",
    "#### 6.c Bivariate analysis"
   ]
  },
  {
   "cell_type": "code",
   "execution_count": 86,
   "metadata": {},
   "outputs": [
    {
     "data": {
      "image/png": "[encoded data removed]",
      "text/plain": [
       "<Figure size 1080x360 with 1 Axes>"
      ]
     },
     "metadata": {
      "needs_background": "light"
     },
     "output_type": "display_data"
    }
   ],
   "source": [
    "#Bivariate analysis on categorical columns\n",
    "plt.figure(figsize=(15,5))\n",
    "sns.boxplot(data=merge_data,x='NAME_EDUCATION_TYPE',y='AMT_CREDITx',hue='TARGET')\n",
    "plt.yscale('log')\n",
    "plt.show()"
   ]
  },
  {
   "cell_type": "markdown",
   "metadata": {},
   "source": [
    "* Looking at history, people with other than \"Academic degree\" consistently had issue with payments."
   ]
  },
  {
   "cell_type": "code",
   "execution_count": 87,
   "metadata": {},
   "outputs": [
    {
     "data": {
      "image/png": "[encoded data removed]",
      "text/plain": [
       "<Figure size 860.75x720 with 2 Axes>"
      ]
     },
     "metadata": {
      "needs_background": "light"
     },
     "output_type": "display_data"
    }
   ],
   "source": [
    "#Bivariate analysis on categorical columns\n",
    "sns.catplot(data=merge_data,x='NAME_EDUCATION_TYPE',col='TARGET',hue='NAME_CONTRACT_STATUS',kind='count',col_wrap=1,height=5,aspect=2)\n",
    "plt.yscale('log')\n",
    "plt.show()"
   ]
  },
  {
   "cell_type": "markdown",
   "metadata": {},
   "source": [
    "* Consistently people with secondary education are largest customers in all categories.\n",
    "* When there are payment difficulties, people with academic degree either have approved loan or unused offer."
   ]
  },
  {
   "cell_type": "code",
   "execution_count": 88,
   "metadata": {},
   "outputs": [
    {
     "data": {
      "image/png": "[encoded data removed]",
      "text/plain": [
       "<Figure size 1080x360 with 1 Axes>"
      ]
     },
     "metadata": {
      "needs_background": "light"
     },
     "output_type": "display_data"
    }
   ],
   "source": [
    "#Bivariate analysis on categorical columns\n",
    "plt.figure(figsize=(15,5))\n",
    "sns.boxplot(data=merge_data,x='NAME_EDUCATION_TYPE',y='DAYS_BIRTH',hue='TARGET')\n",
    "plt.show()"
   ]
  },
  {
   "cell_type": "markdown",
   "metadata": {},
   "source": [
    "* In general, people at younger age tend to have more payment difficulties compared to people with older age.\n",
    "* When we look at people with \"academic degree\", people at young age have payment difficulties isolating the age range. We can safely conclude that for people with \"academic degree\" , the young age is where more defaults happen.\n",
    "* The means of defaulter's age across every education type is consistently lower compared to people who do not default."
   ]
  },
  {
   "cell_type": "markdown",
   "metadata": {},
   "source": [
    "#### 7. Conclusions\n",
    "* Female customers consistently have payment difficulties\n",
    "* Customers with Secondary / Secondary special education have high payment difficulties\n",
    "* Cash loans have high payment difficulties, however there is large quantum of cash loans as well when compared to revolving loans.\n",
    "* People living in \"House/apartment\" have high payment difficulties. But this is just a **casuation** since people have to live somewhere.\n",
    "* \"Married\" people have high payment difficulties.\n",
    "* \"Young people\" with Academic degree often tend to default"
   ]
  }
 ],
 "metadata": {
  "kernelspec": {
   "display_name": "Python 3",
   "language": "python",
   "name": "python3"
  },
  "language_info": {
   "codemirror_mode": {
    "name": "ipython",
    "version": 3
   },
   "file_extension": ".py",
   "mimetype": "text/x-python",
   "name": "python",
   "nbconvert_exporter": "python",
   "pygments_lexer": "ipython3",
   "version": "3.7.4"
  }
 },
 "nbformat": 4,
 "nbformat_minor": 2
}
